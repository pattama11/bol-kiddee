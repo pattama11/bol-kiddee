{
  "metadata": {
    "kernelspec": {
      "display_name": "Python 3",
      "name": "python3"
    },
    "language_info": {
      "name": "python",
      "version": "3.10.13",
      "mimetype": "text/x-python",
      "codemirror_mode": {
        "name": "ipython",
        "version": 3
      },
      "pygments_lexer": "ipython3",
      "nbconvert_exporter": "python",
      "file_extension": ".py"
    },
    "kaggle": {
      "accelerator": "none",
      "dataSources": [
        {
          "sourceId": 77441,
          "databundleVersionId": 8452870,
          "sourceType": "competition"
        }
      ],
      "dockerImageVersionId": 30698,
      "isInternetEnabled": true,
      "language": "python",
      "sourceType": "notebook",
      "isGpuEnabled": false
    },
    "colab": {
      "provenance": []
    },
    "widgets": {
      "application/vnd.jupyter.widget-state+json": {
        "71bdbd2c1109451f891627f3a8fc090e": {
          "model_module": "@jupyter-widgets/controls",
          "model_name": "HBoxModel",
          "model_module_version": "1.5.0",
          "state": {
            "_dom_classes": [],
            "_model_module": "@jupyter-widgets/controls",
            "_model_module_version": "1.5.0",
            "_model_name": "HBoxModel",
            "_view_count": null,
            "_view_module": "@jupyter-widgets/controls",
            "_view_module_version": "1.5.0",
            "_view_name": "HBoxView",
            "box_style": "",
            "children": [
              "IPY_MODEL_4524e4d634cf4b05ba67ddb1115562fd",
              "IPY_MODEL_70d1957251e14898a94e27e6d7aa117b",
              "IPY_MODEL_4ec938608bb5416f8f07da17cebba314"
            ],
            "layout": "IPY_MODEL_5ed34204cf95493899dd16ad101ed83f"
          }
        },
        "4524e4d634cf4b05ba67ddb1115562fd": {
          "model_module": "@jupyter-widgets/controls",
          "model_name": "HTMLModel",
          "model_module_version": "1.5.0",
          "state": {
            "_dom_classes": [],
            "_model_module": "@jupyter-widgets/controls",
            "_model_module_version": "1.5.0",
            "_model_name": "HTMLModel",
            "_view_count": null,
            "_view_module": "@jupyter-widgets/controls",
            "_view_module_version": "1.5.0",
            "_view_name": "HTMLView",
            "description": "",
            "description_tooltip": null,
            "layout": "IPY_MODEL_c63824e8437c4697b10bed5ad1965b06",
            "placeholder": "​",
            "style": "IPY_MODEL_9ad41fca87be433ba80e8cb3232d86ec",
            "value": "  0%"
          }
        },
        "70d1957251e14898a94e27e6d7aa117b": {
          "model_module": "@jupyter-widgets/controls",
          "model_name": "FloatProgressModel",
          "model_module_version": "1.5.0",
          "state": {
            "_dom_classes": [],
            "_model_module": "@jupyter-widgets/controls",
            "_model_module_version": "1.5.0",
            "_model_name": "FloatProgressModel",
            "_view_count": null,
            "_view_module": "@jupyter-widgets/controls",
            "_view_module_version": "1.5.0",
            "_view_name": "ProgressView",
            "bar_style": "danger",
            "description": "",
            "description_tooltip": null,
            "layout": "IPY_MODEL_5b466f084caf47e68b5e4195623ee7dd",
            "max": 4,
            "min": 0,
            "orientation": "horizontal",
            "style": "IPY_MODEL_19cee4b2bdf6488d9313865c07cbd4fc",
            "value": 0
          }
        },
        "4ec938608bb5416f8f07da17cebba314": {
          "model_module": "@jupyter-widgets/controls",
          "model_name": "HTMLModel",
          "model_module_version": "1.5.0",
          "state": {
            "_dom_classes": [],
            "_model_module": "@jupyter-widgets/controls",
            "_model_module_version": "1.5.0",
            "_model_name": "HTMLModel",
            "_view_count": null,
            "_view_module": "@jupyter-widgets/controls",
            "_view_module_version": "1.5.0",
            "_view_name": "HTMLView",
            "description": "",
            "description_tooltip": null,
            "layout": "IPY_MODEL_5e3bd50a3da348329cf3d785fe563cab",
            "placeholder": "​",
            "style": "IPY_MODEL_34f24e78f52540a3a09348fe1e65395d",
            "value": " 0/4 [00:05&lt;?, ?it/s]"
          }
        },
        "5ed34204cf95493899dd16ad101ed83f": {
          "model_module": "@jupyter-widgets/base",
          "model_name": "LayoutModel",
          "model_module_version": "1.2.0",
          "state": {
            "_model_module": "@jupyter-widgets/base",
            "_model_module_version": "1.2.0",
            "_model_name": "LayoutModel",
            "_view_count": null,
            "_view_module": "@jupyter-widgets/base",
            "_view_module_version": "1.2.0",
            "_view_name": "LayoutView",
            "align_content": null,
            "align_items": null,
            "align_self": null,
            "border": null,
            "bottom": null,
            "display": null,
            "flex": null,
            "flex_flow": null,
            "grid_area": null,
            "grid_auto_columns": null,
            "grid_auto_flow": null,
            "grid_auto_rows": null,
            "grid_column": null,
            "grid_gap": null,
            "grid_row": null,
            "grid_template_areas": null,
            "grid_template_columns": null,
            "grid_template_rows": null,
            "height": null,
            "justify_content": null,
            "justify_items": null,
            "left": null,
            "margin": null,
            "max_height": null,
            "max_width": null,
            "min_height": null,
            "min_width": null,
            "object_fit": null,
            "object_position": null,
            "order": null,
            "overflow": null,
            "overflow_x": null,
            "overflow_y": null,
            "padding": null,
            "right": null,
            "top": null,
            "visibility": null,
            "width": null
          }
        },
        "c63824e8437c4697b10bed5ad1965b06": {
          "model_module": "@jupyter-widgets/base",
          "model_name": "LayoutModel",
          "model_module_version": "1.2.0",
          "state": {
            "_model_module": "@jupyter-widgets/base",
            "_model_module_version": "1.2.0",
            "_model_name": "LayoutModel",
            "_view_count": null,
            "_view_module": "@jupyter-widgets/base",
            "_view_module_version": "1.2.0",
            "_view_name": "LayoutView",
            "align_content": null,
            "align_items": null,
            "align_self": null,
            "border": null,
            "bottom": null,
            "display": null,
            "flex": null,
            "flex_flow": null,
            "grid_area": null,
            "grid_auto_columns": null,
            "grid_auto_flow": null,
            "grid_auto_rows": null,
            "grid_column": null,
            "grid_gap": null,
            "grid_row": null,
            "grid_template_areas": null,
            "grid_template_columns": null,
            "grid_template_rows": null,
            "height": null,
            "justify_content": null,
            "justify_items": null,
            "left": null,
            "margin": null,
            "max_height": null,
            "max_width": null,
            "min_height": null,
            "min_width": null,
            "object_fit": null,
            "object_position": null,
            "order": null,
            "overflow": null,
            "overflow_x": null,
            "overflow_y": null,
            "padding": null,
            "right": null,
            "top": null,
            "visibility": null,
            "width": null
          }
        },
        "9ad41fca87be433ba80e8cb3232d86ec": {
          "model_module": "@jupyter-widgets/controls",
          "model_name": "DescriptionStyleModel",
          "model_module_version": "1.5.0",
          "state": {
            "_model_module": "@jupyter-widgets/controls",
            "_model_module_version": "1.5.0",
            "_model_name": "DescriptionStyleModel",
            "_view_count": null,
            "_view_module": "@jupyter-widgets/base",
            "_view_module_version": "1.2.0",
            "_view_name": "StyleView",
            "description_width": ""
          }
        },
        "5b466f084caf47e68b5e4195623ee7dd": {
          "model_module": "@jupyter-widgets/base",
          "model_name": "LayoutModel",
          "model_module_version": "1.2.0",
          "state": {
            "_model_module": "@jupyter-widgets/base",
            "_model_module_version": "1.2.0",
            "_model_name": "LayoutModel",
            "_view_count": null,
            "_view_module": "@jupyter-widgets/base",
            "_view_module_version": "1.2.0",
            "_view_name": "LayoutView",
            "align_content": null,
            "align_items": null,
            "align_self": null,
            "border": null,
            "bottom": null,
            "display": null,
            "flex": null,
            "flex_flow": null,
            "grid_area": null,
            "grid_auto_columns": null,
            "grid_auto_flow": null,
            "grid_auto_rows": null,
            "grid_column": null,
            "grid_gap": null,
            "grid_row": null,
            "grid_template_areas": null,
            "grid_template_columns": null,
            "grid_template_rows": null,
            "height": null,
            "justify_content": null,
            "justify_items": null,
            "left": null,
            "margin": null,
            "max_height": null,
            "max_width": null,
            "min_height": null,
            "min_width": null,
            "object_fit": null,
            "object_position": null,
            "order": null,
            "overflow": null,
            "overflow_x": null,
            "overflow_y": null,
            "padding": null,
            "right": null,
            "top": null,
            "visibility": null,
            "width": null
          }
        },
        "19cee4b2bdf6488d9313865c07cbd4fc": {
          "model_module": "@jupyter-widgets/controls",
          "model_name": "ProgressStyleModel",
          "model_module_version": "1.5.0",
          "state": {
            "_model_module": "@jupyter-widgets/controls",
            "_model_module_version": "1.5.0",
            "_model_name": "ProgressStyleModel",
            "_view_count": null,
            "_view_module": "@jupyter-widgets/base",
            "_view_module_version": "1.2.0",
            "_view_name": "StyleView",
            "bar_color": null,
            "description_width": ""
          }
        },
        "5e3bd50a3da348329cf3d785fe563cab": {
          "model_module": "@jupyter-widgets/base",
          "model_name": "LayoutModel",
          "model_module_version": "1.2.0",
          "state": {
            "_model_module": "@jupyter-widgets/base",
            "_model_module_version": "1.2.0",
            "_model_name": "LayoutModel",
            "_view_count": null,
            "_view_module": "@jupyter-widgets/base",
            "_view_module_version": "1.2.0",
            "_view_name": "LayoutView",
            "align_content": null,
            "align_items": null,
            "align_self": null,
            "border": null,
            "bottom": null,
            "display": null,
            "flex": null,
            "flex_flow": null,
            "grid_area": null,
            "grid_auto_columns": null,
            "grid_auto_flow": null,
            "grid_auto_rows": null,
            "grid_column": null,
            "grid_gap": null,
            "grid_row": null,
            "grid_template_areas": null,
            "grid_template_columns": null,
            "grid_template_rows": null,
            "height": null,
            "justify_content": null,
            "justify_items": null,
            "left": null,
            "margin": null,
            "max_height": null,
            "max_width": null,
            "min_height": null,
            "min_width": null,
            "object_fit": null,
            "object_position": null,
            "order": null,
            "overflow": null,
            "overflow_x": null,
            "overflow_y": null,
            "padding": null,
            "right": null,
            "top": null,
            "visibility": null,
            "width": null
          }
        },
        "34f24e78f52540a3a09348fe1e65395d": {
          "model_module": "@jupyter-widgets/controls",
          "model_name": "DescriptionStyleModel",
          "model_module_version": "1.5.0",
          "state": {
            "_model_module": "@jupyter-widgets/controls",
            "_model_module_version": "1.5.0",
            "_model_name": "DescriptionStyleModel",
            "_view_count": null,
            "_view_module": "@jupyter-widgets/base",
            "_view_module_version": "1.2.0",
            "_view_name": "StyleView",
            "description_width": ""
          }
        }
      }
    }
  },
  "nbformat_minor": 0,
  "nbformat": 4,
  "cells": [
    {
      "cell_type": "code",
      "source": [
        "!pip install transformers -q"
      ],
      "metadata": {
        "execution": {
          "iopub.status.busy": "2024-05-07T06:27:26.971558Z",
          "iopub.execute_input": "2024-05-07T06:27:26.971882Z",
          "iopub.status.idle": "2024-05-07T06:27:39.622459Z",
          "shell.execute_reply.started": "2024-05-07T06:27:26.971844Z",
          "shell.execute_reply": "2024-05-07T06:27:39.621085Z"
        },
        "collapsed": true,
        "jupyter": {
          "outputs_hidden": true
        },
        "trusted": true,
        "id": "p_VTygbIui5Y"
      },
      "execution_count": 651,
      "outputs": []
    },
    {
      "cell_type": "code",
      "source": [
        "!pip install sentencepiece -q"
      ],
      "metadata": {
        "execution": {
          "iopub.status.busy": "2024-05-07T06:27:14.388621Z",
          "iopub.execute_input": "2024-05-07T06:27:14.389032Z",
          "iopub.status.idle": "2024-05-07T06:27:26.969313Z",
          "shell.execute_reply.started": "2024-05-07T06:27:14.388993Z",
          "shell.execute_reply": "2024-05-07T06:27:26.968098Z"
        },
        "collapsed": true,
        "jupyter": {
          "outputs_hidden": true
        },
        "trusted": true,
        "id": "DcDYkcdbui5Z"
      },
      "execution_count": 652,
      "outputs": []
    },
    {
      "cell_type": "code",
      "source": [
        "!pip install pythainlp -q"
      ],
      "metadata": {
        "execution": {
          "iopub.status.busy": "2024-05-07T06:27:47.582866Z",
          "iopub.execute_input": "2024-05-07T06:27:47.583348Z",
          "iopub.status.idle": "2024-05-07T06:28:01.367286Z",
          "shell.execute_reply.started": "2024-05-07T06:27:47.583312Z",
          "shell.execute_reply": "2024-05-07T06:28:01.366265Z"
        },
        "collapsed": true,
        "jupyter": {
          "outputs_hidden": true
        },
        "trusted": true,
        "id": "7hiSzcovui5a"
      },
      "execution_count": 653,
      "outputs": []
    },
    {
      "cell_type": "code",
      "source": [
        "import pandas as pd\n",
        "import re\n",
        "import torch\n",
        "from sklearn.model_selection import train_test_split\n",
        "import ast\n",
        "from tqdm.notebook import tqdm\n",
        "from torch.utils.data import DataLoader\n",
        "from transformers import AutoTokenizer\n",
        "import torch.nn as nn\n",
        "import torch.nn.functional as F\n",
        "import torch.autograd as autograd         # computation graph\n",
        "from torch import Tensor                  # tensor node in the computation graph\n",
        "import torch.optim as optim               # optimizers e.g. gradient descent, ADAM, etc.\n",
        "from torch.jit import script, trace       # hybrid frontend decorator and tracing jit"
      ],
      "metadata": {
        "execution": {
          "iopub.status.busy": "2024-05-07T09:58:48.620591Z",
          "iopub.execute_input": "2024-05-07T09:58:48.621034Z",
          "iopub.status.idle": "2024-05-07T09:58:48.628623Z",
          "shell.execute_reply.started": "2024-05-07T09:58:48.621001Z",
          "shell.execute_reply": "2024-05-07T09:58:48.627438Z"
        },
        "trusted": true,
        "id": "gVb2f4Skui5a"
      },
      "execution_count": 741,
      "outputs": []
    },
    {
      "cell_type": "code",
      "source": [
        "train_df = pd.read_csv('/content/train_finaldata.csv', index_col = 0)\n",
        "test_df = pd.read_csv('/content/super3_test_title.csv', index_col = 0)\n",
        "# pat_df = pd.read_csv('/kaggle/input/legal-act-classification/patterns.csv')"
      ],
      "metadata": {
        "execution": {
          "iopub.status.busy": "2024-05-07T09:31:14.284801Z",
          "iopub.execute_input": "2024-05-07T09:31:14.285383Z",
          "iopub.status.idle": "2024-05-07T09:31:14.502641Z",
          "shell.execute_reply.started": "2024-05-07T09:31:14.285348Z",
          "shell.execute_reply": "2024-05-07T09:31:14.501766Z"
        },
        "trusted": true,
        "id": "fBIr3JuCui5b"
      },
      "execution_count": 742,
      "outputs": []
    },
    {
      "cell_type": "code",
      "source": [
        "train_df"
      ],
      "metadata": {
        "colab": {
          "base_uri": "https://localhost:8080/",
          "height": 628
        },
        "id": "HKAnlbizz5ad",
        "outputId": "dc5614a2-2783-46b8-95e4-ff94393f4025"
      },
      "execution_count": 744,
      "outputs": [
        {
          "output_type": "execute_result",
          "data": {
            "text/plain": [
              "              rgno                                            context  \\\n",
              "id                                                                      \n",
              "0     1.055290e+11  กรรมการคนใดคนหนึ่งลงลายมือชื่อร่วมกับกรรมการอื...   \n",
              "1     1.055290e+11  กรรมการคนใดคนหนึ่งลงลายมือชื่อร่วมกับกรรมการอื...   \n",
              "2     1.055290e+11  กรรมการคนใดคนหนึ่งลงลายมือชื่อร่วมกับกรรมการอื...   \n",
              "3     1.055290e+11  กรรมการคนใดคนหนึ่งลงลายมือชื่อร่วมกับกรรมการอื...   \n",
              "4     1.055290e+11  กรรมการคนใดคนหนึ่งลงลายมือชื่อร่วมกับกรรมการอื...   \n",
              "...            ...                                                ...   \n",
              "6016  1.075360e+11  กรรมการสองในเจ็ดคนลงลายมือชื่อร่วมกันและประทับ...   \n",
              "6017  1.075360e+11  กรรมการสองในเจ็ดคนลงลายมือชื่อร่วมกันและประทับ...   \n",
              "6018  1.075360e+11  กรรมการสองในเจ็ดคนลงลายมือชื่อร่วมกันและประทับ...   \n",
              "6019  1.075360e+11  กรรมการสองในเจ็ดคนลงลายมือชื่อร่วมกันและประทับ...   \n",
              "6020  1.075360e+11  กรรมการสองในเจ็ดคนลงลายมือชื่อร่วมกันและประทับ...   \n",
              "\n",
              "      pattern                              question  \\\n",
              "id                                                    \n",
              "0       11016                             ['P0030']   \n",
              "1       11016                             ['P0260']   \n",
              "2       11016                             ['P0164']   \n",
              "3       11016                             ['P0005']   \n",
              "4       11016                             ['P0265']   \n",
              "...       ...                                   ...   \n",
              "6016    11004  ['P0293', 'P0118', 'P0187', 'P0031']   \n",
              "6017    11004  ['P0293', 'P0118', 'P0187', 'P0099']   \n",
              "6018    11004  ['P0293', 'P0118', 'P0187', 'P0096']   \n",
              "6019    11004  ['P0118', 'P0187', 'P0334', 'P0031']   \n",
              "6020    11004  ['P0118', 'P0187', 'P0334', 'P0096']   \n",
              "\n",
              "                                  legal_act condition  answer  \\\n",
              "id                                                              \n",
              "0     การทำนิติกรรม สำนักงานตรวจคนเข้าเมือง       NaN     0.0   \n",
              "1                  การทำนิติกรรม กรมทางหสวง       NaN     0.0   \n",
              "2                           อสังหาริมทรัพย์       NaN     0.0   \n",
              "3         การทำนิติกรรม หน่วยราชการวิสาหกิจ       NaN     0.0   \n",
              "4                           อสังหาริมทรัพย์       NaN     0.0   \n",
              "...                                     ...       ...     ...   \n",
              "6016                              สัญญาเช่า       NaN     1.0   \n",
              "6017                                   ทำนา       NaN     1.0   \n",
              "6018                                 ธนาคาร       NaN     1.0   \n",
              "6019                              สัญญาเช่า       NaN     1.0   \n",
              "6020               การทำสัญญาทางด้านการเงิน       NaN     1.0   \n",
              "\n",
              "                                                rgno_id  \n",
              "id                                                       \n",
              "0     {'นายนรากรณ์ ดีเย็น': 'P0265', 'นายนภัสกร แซ่เ...  \n",
              "1     {'นายนรากรณ์ ดีเย็น': 'P0265', 'นายนภัสกร แซ่เ...  \n",
              "2     {'นายนรากรณ์ ดีเย็น': 'P0265', 'นายนภัสกร แซ่เ...  \n",
              "3     {'นายนรากรณ์ ดีเย็น': 'P0265', 'นายนภัสกร แซ่เ...  \n",
              "4     {'นายนรากรณ์ ดีเย็น': 'P0265', 'นายนภัสกร แซ่เ...  \n",
              "...                                                 ...  \n",
              "6016  {'นายพงศกร ชัยแก้ว': 'P0118', 'นายวิธวินท์ ศรี...  \n",
              "6017  {'นายพงศกร ชัยแก้ว': 'P0118', 'นายวิธวินท์ ศรี...  \n",
              "6018  {'นายพงศกร ชัยแก้ว': 'P0118', 'นายวิธวินท์ ศรี...  \n",
              "6019  {'นายพงศกร ชัยแก้ว': 'P0118', 'นายวิธวินท์ ศรี...  \n",
              "6020  {'นายพงศกร ชัยแก้ว': 'P0118', 'นายวิธวินท์ ศรี...  \n",
              "\n",
              "[6021 rows x 8 columns]"
            ],
            "text/html": [
              "\n",
              "  <div id=\"df-f5d45f48-dee3-469f-b1f4-1e7e7a2f0990\" class=\"colab-df-container\">\n",
              "    <div>\n",
              "<style scoped>\n",
              "    .dataframe tbody tr th:only-of-type {\n",
              "        vertical-align: middle;\n",
              "    }\n",
              "\n",
              "    .dataframe tbody tr th {\n",
              "        vertical-align: top;\n",
              "    }\n",
              "\n",
              "    .dataframe thead th {\n",
              "        text-align: right;\n",
              "    }\n",
              "</style>\n",
              "<table border=\"1\" class=\"dataframe\">\n",
              "  <thead>\n",
              "    <tr style=\"text-align: right;\">\n",
              "      <th></th>\n",
              "      <th>rgno</th>\n",
              "      <th>context</th>\n",
              "      <th>pattern</th>\n",
              "      <th>question</th>\n",
              "      <th>legal_act</th>\n",
              "      <th>condition</th>\n",
              "      <th>answer</th>\n",
              "      <th>rgno_id</th>\n",
              "    </tr>\n",
              "    <tr>\n",
              "      <th>id</th>\n",
              "      <th></th>\n",
              "      <th></th>\n",
              "      <th></th>\n",
              "      <th></th>\n",
              "      <th></th>\n",
              "      <th></th>\n",
              "      <th></th>\n",
              "      <th></th>\n",
              "    </tr>\n",
              "  </thead>\n",
              "  <tbody>\n",
              "    <tr>\n",
              "      <th>0</th>\n",
              "      <td>1.055290e+11</td>\n",
              "      <td>กรรมการคนใดคนหนึ่งลงลายมือชื่อร่วมกับกรรมการอื...</td>\n",
              "      <td>11016</td>\n",
              "      <td>['P0030']</td>\n",
              "      <td>การทำนิติกรรม สำนักงานตรวจคนเข้าเมือง</td>\n",
              "      <td>NaN</td>\n",
              "      <td>0.0</td>\n",
              "      <td>{'นายนรากรณ์ ดีเย็น': 'P0265', 'นายนภัสกร แซ่เ...</td>\n",
              "    </tr>\n",
              "    <tr>\n",
              "      <th>1</th>\n",
              "      <td>1.055290e+11</td>\n",
              "      <td>กรรมการคนใดคนหนึ่งลงลายมือชื่อร่วมกับกรรมการอื...</td>\n",
              "      <td>11016</td>\n",
              "      <td>['P0260']</td>\n",
              "      <td>การทำนิติกรรม กรมทางหสวง</td>\n",
              "      <td>NaN</td>\n",
              "      <td>0.0</td>\n",
              "      <td>{'นายนรากรณ์ ดีเย็น': 'P0265', 'นายนภัสกร แซ่เ...</td>\n",
              "    </tr>\n",
              "    <tr>\n",
              "      <th>2</th>\n",
              "      <td>1.055290e+11</td>\n",
              "      <td>กรรมการคนใดคนหนึ่งลงลายมือชื่อร่วมกับกรรมการอื...</td>\n",
              "      <td>11016</td>\n",
              "      <td>['P0164']</td>\n",
              "      <td>อสังหาริมทรัพย์</td>\n",
              "      <td>NaN</td>\n",
              "      <td>0.0</td>\n",
              "      <td>{'นายนรากรณ์ ดีเย็น': 'P0265', 'นายนภัสกร แซ่เ...</td>\n",
              "    </tr>\n",
              "    <tr>\n",
              "      <th>3</th>\n",
              "      <td>1.055290e+11</td>\n",
              "      <td>กรรมการคนใดคนหนึ่งลงลายมือชื่อร่วมกับกรรมการอื...</td>\n",
              "      <td>11016</td>\n",
              "      <td>['P0005']</td>\n",
              "      <td>การทำนิติกรรม หน่วยราชการวิสาหกิจ</td>\n",
              "      <td>NaN</td>\n",
              "      <td>0.0</td>\n",
              "      <td>{'นายนรากรณ์ ดีเย็น': 'P0265', 'นายนภัสกร แซ่เ...</td>\n",
              "    </tr>\n",
              "    <tr>\n",
              "      <th>4</th>\n",
              "      <td>1.055290e+11</td>\n",
              "      <td>กรรมการคนใดคนหนึ่งลงลายมือชื่อร่วมกับกรรมการอื...</td>\n",
              "      <td>11016</td>\n",
              "      <td>['P0265']</td>\n",
              "      <td>อสังหาริมทรัพย์</td>\n",
              "      <td>NaN</td>\n",
              "      <td>0.0</td>\n",
              "      <td>{'นายนรากรณ์ ดีเย็น': 'P0265', 'นายนภัสกร แซ่เ...</td>\n",
              "    </tr>\n",
              "    <tr>\n",
              "      <th>...</th>\n",
              "      <td>...</td>\n",
              "      <td>...</td>\n",
              "      <td>...</td>\n",
              "      <td>...</td>\n",
              "      <td>...</td>\n",
              "      <td>...</td>\n",
              "      <td>...</td>\n",
              "      <td>...</td>\n",
              "    </tr>\n",
              "    <tr>\n",
              "      <th>6016</th>\n",
              "      <td>1.075360e+11</td>\n",
              "      <td>กรรมการสองในเจ็ดคนลงลายมือชื่อร่วมกันและประทับ...</td>\n",
              "      <td>11004</td>\n",
              "      <td>['P0293', 'P0118', 'P0187', 'P0031']</td>\n",
              "      <td>สัญญาเช่า</td>\n",
              "      <td>NaN</td>\n",
              "      <td>1.0</td>\n",
              "      <td>{'นายพงศกร ชัยแก้ว': 'P0118', 'นายวิธวินท์ ศรี...</td>\n",
              "    </tr>\n",
              "    <tr>\n",
              "      <th>6017</th>\n",
              "      <td>1.075360e+11</td>\n",
              "      <td>กรรมการสองในเจ็ดคนลงลายมือชื่อร่วมกันและประทับ...</td>\n",
              "      <td>11004</td>\n",
              "      <td>['P0293', 'P0118', 'P0187', 'P0099']</td>\n",
              "      <td>ทำนา</td>\n",
              "      <td>NaN</td>\n",
              "      <td>1.0</td>\n",
              "      <td>{'นายพงศกร ชัยแก้ว': 'P0118', 'นายวิธวินท์ ศรี...</td>\n",
              "    </tr>\n",
              "    <tr>\n",
              "      <th>6018</th>\n",
              "      <td>1.075360e+11</td>\n",
              "      <td>กรรมการสองในเจ็ดคนลงลายมือชื่อร่วมกันและประทับ...</td>\n",
              "      <td>11004</td>\n",
              "      <td>['P0293', 'P0118', 'P0187', 'P0096']</td>\n",
              "      <td>ธนาคาร</td>\n",
              "      <td>NaN</td>\n",
              "      <td>1.0</td>\n",
              "      <td>{'นายพงศกร ชัยแก้ว': 'P0118', 'นายวิธวินท์ ศรี...</td>\n",
              "    </tr>\n",
              "    <tr>\n",
              "      <th>6019</th>\n",
              "      <td>1.075360e+11</td>\n",
              "      <td>กรรมการสองในเจ็ดคนลงลายมือชื่อร่วมกันและประทับ...</td>\n",
              "      <td>11004</td>\n",
              "      <td>['P0118', 'P0187', 'P0334', 'P0031']</td>\n",
              "      <td>สัญญาเช่า</td>\n",
              "      <td>NaN</td>\n",
              "      <td>1.0</td>\n",
              "      <td>{'นายพงศกร ชัยแก้ว': 'P0118', 'นายวิธวินท์ ศรี...</td>\n",
              "    </tr>\n",
              "    <tr>\n",
              "      <th>6020</th>\n",
              "      <td>1.075360e+11</td>\n",
              "      <td>กรรมการสองในเจ็ดคนลงลายมือชื่อร่วมกันและประทับ...</td>\n",
              "      <td>11004</td>\n",
              "      <td>['P0118', 'P0187', 'P0334', 'P0096']</td>\n",
              "      <td>การทำสัญญาทางด้านการเงิน</td>\n",
              "      <td>NaN</td>\n",
              "      <td>1.0</td>\n",
              "      <td>{'นายพงศกร ชัยแก้ว': 'P0118', 'นายวิธวินท์ ศรี...</td>\n",
              "    </tr>\n",
              "  </tbody>\n",
              "</table>\n",
              "<p>6021 rows × 8 columns</p>\n",
              "</div>\n",
              "    <div class=\"colab-df-buttons\">\n",
              "\n",
              "  <div class=\"colab-df-container\">\n",
              "    <button class=\"colab-df-convert\" onclick=\"convertToInteractive('df-f5d45f48-dee3-469f-b1f4-1e7e7a2f0990')\"\n",
              "            title=\"Convert this dataframe to an interactive table.\"\n",
              "            style=\"display:none;\">\n",
              "\n",
              "  <svg xmlns=\"http://www.w3.org/2000/svg\" height=\"24px\" viewBox=\"0 -960 960 960\">\n",
              "    <path d=\"M120-120v-720h720v720H120Zm60-500h600v-160H180v160Zm220 220h160v-160H400v160Zm0 220h160v-160H400v160ZM180-400h160v-160H180v160Zm440 0h160v-160H620v160ZM180-180h160v-160H180v160Zm440 0h160v-160H620v160Z\"/>\n",
              "  </svg>\n",
              "    </button>\n",
              "\n",
              "  <style>\n",
              "    .colab-df-container {\n",
              "      display:flex;\n",
              "      gap: 12px;\n",
              "    }\n",
              "\n",
              "    .colab-df-convert {\n",
              "      background-color: #E8F0FE;\n",
              "      border: none;\n",
              "      border-radius: 50%;\n",
              "      cursor: pointer;\n",
              "      display: none;\n",
              "      fill: #1967D2;\n",
              "      height: 32px;\n",
              "      padding: 0 0 0 0;\n",
              "      width: 32px;\n",
              "    }\n",
              "\n",
              "    .colab-df-convert:hover {\n",
              "      background-color: #E2EBFA;\n",
              "      box-shadow: 0px 1px 2px rgba(60, 64, 67, 0.3), 0px 1px 3px 1px rgba(60, 64, 67, 0.15);\n",
              "      fill: #174EA6;\n",
              "    }\n",
              "\n",
              "    .colab-df-buttons div {\n",
              "      margin-bottom: 4px;\n",
              "    }\n",
              "\n",
              "    [theme=dark] .colab-df-convert {\n",
              "      background-color: #3B4455;\n",
              "      fill: #D2E3FC;\n",
              "    }\n",
              "\n",
              "    [theme=dark] .colab-df-convert:hover {\n",
              "      background-color: #434B5C;\n",
              "      box-shadow: 0px 1px 3px 1px rgba(0, 0, 0, 0.15);\n",
              "      filter: drop-shadow(0px 1px 2px rgba(0, 0, 0, 0.3));\n",
              "      fill: #FFFFFF;\n",
              "    }\n",
              "  </style>\n",
              "\n",
              "    <script>\n",
              "      const buttonEl =\n",
              "        document.querySelector('#df-f5d45f48-dee3-469f-b1f4-1e7e7a2f0990 button.colab-df-convert');\n",
              "      buttonEl.style.display =\n",
              "        google.colab.kernel.accessAllowed ? 'block' : 'none';\n",
              "\n",
              "      async function convertToInteractive(key) {\n",
              "        const element = document.querySelector('#df-f5d45f48-dee3-469f-b1f4-1e7e7a2f0990');\n",
              "        const dataTable =\n",
              "          await google.colab.kernel.invokeFunction('convertToInteractive',\n",
              "                                                    [key], {});\n",
              "        if (!dataTable) return;\n",
              "\n",
              "        const docLinkHtml = 'Like what you see? Visit the ' +\n",
              "          '<a target=\"_blank\" href=https://colab.research.google.com/notebooks/data_table.ipynb>data table notebook</a>'\n",
              "          + ' to learn more about interactive tables.';\n",
              "        element.innerHTML = '';\n",
              "        dataTable['output_type'] = 'display_data';\n",
              "        await google.colab.output.renderOutput(dataTable, element);\n",
              "        const docLink = document.createElement('div');\n",
              "        docLink.innerHTML = docLinkHtml;\n",
              "        element.appendChild(docLink);\n",
              "      }\n",
              "    </script>\n",
              "  </div>\n",
              "\n",
              "\n",
              "<div id=\"df-1f7c4715-6061-45a8-91ad-a8dd556f04a5\">\n",
              "  <button class=\"colab-df-quickchart\" onclick=\"quickchart('df-1f7c4715-6061-45a8-91ad-a8dd556f04a5')\"\n",
              "            title=\"Suggest charts\"\n",
              "            style=\"display:none;\">\n",
              "\n",
              "<svg xmlns=\"http://www.w3.org/2000/svg\" height=\"24px\"viewBox=\"0 0 24 24\"\n",
              "     width=\"24px\">\n",
              "    <g>\n",
              "        <path d=\"M19 3H5c-1.1 0-2 .9-2 2v14c0 1.1.9 2 2 2h14c1.1 0 2-.9 2-2V5c0-1.1-.9-2-2-2zM9 17H7v-7h2v7zm4 0h-2V7h2v10zm4 0h-2v-4h2v4z\"/>\n",
              "    </g>\n",
              "</svg>\n",
              "  </button>\n",
              "\n",
              "<style>\n",
              "  .colab-df-quickchart {\n",
              "      --bg-color: #E8F0FE;\n",
              "      --fill-color: #1967D2;\n",
              "      --hover-bg-color: #E2EBFA;\n",
              "      --hover-fill-color: #174EA6;\n",
              "      --disabled-fill-color: #AAA;\n",
              "      --disabled-bg-color: #DDD;\n",
              "  }\n",
              "\n",
              "  [theme=dark] .colab-df-quickchart {\n",
              "      --bg-color: #3B4455;\n",
              "      --fill-color: #D2E3FC;\n",
              "      --hover-bg-color: #434B5C;\n",
              "      --hover-fill-color: #FFFFFF;\n",
              "      --disabled-bg-color: #3B4455;\n",
              "      --disabled-fill-color: #666;\n",
              "  }\n",
              "\n",
              "  .colab-df-quickchart {\n",
              "    background-color: var(--bg-color);\n",
              "    border: none;\n",
              "    border-radius: 50%;\n",
              "    cursor: pointer;\n",
              "    display: none;\n",
              "    fill: var(--fill-color);\n",
              "    height: 32px;\n",
              "    padding: 0;\n",
              "    width: 32px;\n",
              "  }\n",
              "\n",
              "  .colab-df-quickchart:hover {\n",
              "    background-color: var(--hover-bg-color);\n",
              "    box-shadow: 0 1px 2px rgba(60, 64, 67, 0.3), 0 1px 3px 1px rgba(60, 64, 67, 0.15);\n",
              "    fill: var(--button-hover-fill-color);\n",
              "  }\n",
              "\n",
              "  .colab-df-quickchart-complete:disabled,\n",
              "  .colab-df-quickchart-complete:disabled:hover {\n",
              "    background-color: var(--disabled-bg-color);\n",
              "    fill: var(--disabled-fill-color);\n",
              "    box-shadow: none;\n",
              "  }\n",
              "\n",
              "  .colab-df-spinner {\n",
              "    border: 2px solid var(--fill-color);\n",
              "    border-color: transparent;\n",
              "    border-bottom-color: var(--fill-color);\n",
              "    animation:\n",
              "      spin 1s steps(1) infinite;\n",
              "  }\n",
              "\n",
              "  @keyframes spin {\n",
              "    0% {\n",
              "      border-color: transparent;\n",
              "      border-bottom-color: var(--fill-color);\n",
              "      border-left-color: var(--fill-color);\n",
              "    }\n",
              "    20% {\n",
              "      border-color: transparent;\n",
              "      border-left-color: var(--fill-color);\n",
              "      border-top-color: var(--fill-color);\n",
              "    }\n",
              "    30% {\n",
              "      border-color: transparent;\n",
              "      border-left-color: var(--fill-color);\n",
              "      border-top-color: var(--fill-color);\n",
              "      border-right-color: var(--fill-color);\n",
              "    }\n",
              "    40% {\n",
              "      border-color: transparent;\n",
              "      border-right-color: var(--fill-color);\n",
              "      border-top-color: var(--fill-color);\n",
              "    }\n",
              "    60% {\n",
              "      border-color: transparent;\n",
              "      border-right-color: var(--fill-color);\n",
              "    }\n",
              "    80% {\n",
              "      border-color: transparent;\n",
              "      border-right-color: var(--fill-color);\n",
              "      border-bottom-color: var(--fill-color);\n",
              "    }\n",
              "    90% {\n",
              "      border-color: transparent;\n",
              "      border-bottom-color: var(--fill-color);\n",
              "    }\n",
              "  }\n",
              "</style>\n",
              "\n",
              "  <script>\n",
              "    async function quickchart(key) {\n",
              "      const quickchartButtonEl =\n",
              "        document.querySelector('#' + key + ' button');\n",
              "      quickchartButtonEl.disabled = true;  // To prevent multiple clicks.\n",
              "      quickchartButtonEl.classList.add('colab-df-spinner');\n",
              "      try {\n",
              "        const charts = await google.colab.kernel.invokeFunction(\n",
              "            'suggestCharts', [key], {});\n",
              "      } catch (error) {\n",
              "        console.error('Error during call to suggestCharts:', error);\n",
              "      }\n",
              "      quickchartButtonEl.classList.remove('colab-df-spinner');\n",
              "      quickchartButtonEl.classList.add('colab-df-quickchart-complete');\n",
              "    }\n",
              "    (() => {\n",
              "      let quickchartButtonEl =\n",
              "        document.querySelector('#df-1f7c4715-6061-45a8-91ad-a8dd556f04a5 button');\n",
              "      quickchartButtonEl.style.display =\n",
              "        google.colab.kernel.accessAllowed ? 'block' : 'none';\n",
              "    })();\n",
              "  </script>\n",
              "</div>\n",
              "    </div>\n",
              "  </div>\n"
            ],
            "application/vnd.google.colaboratory.intrinsic+json": {
              "type": "dataframe",
              "variable_name": "train_df",
              "summary": "{\n  \"name\": \"train_df\",\n  \"rows\": 6021,\n  \"fields\": [\n    {\n      \"column\": \"id\",\n      \"properties\": {\n        \"dtype\": \"number\",\n        \"std\": 1738,\n        \"min\": 0,\n        \"max\": 6020,\n        \"num_unique_values\": 6021,\n        \"samples\": [\n          5107,\n          3505,\n          2827\n        ],\n        \"semantic_type\": \"\",\n        \"description\": \"\"\n      }\n    },\n    {\n      \"column\": \"rgno\",\n      \"properties\": {\n        \"dtype\": \"number\",\n        \"std\": 165577777678.98816,\n        \"min\": 105484000075.0,\n        \"max\": 965562000191.0,\n        \"num_unique_values\": 229,\n        \"samples\": [\n          105556025443.0,\n          105562088427.0,\n          105545003893.0\n        ],\n        \"semantic_type\": \"\",\n        \"description\": \"\"\n      }\n    },\n    {\n      \"column\": \"context\",\n      \"properties\": {\n        \"dtype\": \"category\",\n        \"num_unique_values\": 214,\n        \"samples\": [\n          \"P0001 P0090 P0500 \\u0e01\\u0e23\\u0e23\\u0e21\\u0e01\\u0e32\\u0e23\\u0e2b\\u0e19\\u0e36\\u0e48\\u0e07\\u0e43\\u0e19\\u0e2a\\u0e32\\u0e21\\u0e04\\u0e19\\u0e25\\u0e07\\u0e25\\u0e32\\u0e22\\u0e21\\u0e37\\u0e2d\\u0e0a\\u0e37\\u0e48\\u0e2d\\u0e23\\u0e48\\u0e27\\u0e21\\u0e01\\u0e31\\u0e1a P0158 \\u0e41\\u0e25\\u0e30\\u0e1b\\u0e23\\u0e30\\u0e17\\u0e31\\u0e1a\\u0e15\\u0e23\\u0e32\\u0e2a\\u0e33\\u0e04\\u0e31\\u0e0d\\u0e02\\u0e2d\\u0e07\\u0e1a\\u0e23\\u0e34\\u0e29\\u0e31\\u0e17\",\n          \"P0234 \\u0e2b\\u0e23\\u0e37\\u0e2d P0218 \\u0e25\\u0e07\\u0e25\\u0e32\\u0e22\\u0e21\\u0e37\\u0e2d\\u0e0a\\u0e37\\u0e48\\u0e2d\",\n          \"P0077 \\u0e2b\\u0e23\\u0e37\\u0e2d P0132 \\u0e2b\\u0e23\\u0e37\\u0e2d P0475 \\u0e2b\\u0e23\\u0e37\\u0e2d P0049 \\u0e01\\u0e23\\u0e23\\u0e21\\u0e01\\u0e32\\u0e23\\u0e2a\\u0e2d\\u0e07\\u0e43\\u0e19\\u0e2a\\u0e35\\u0e48\\u0e04\\u0e19\\u0e19\\u0e35\\u0e49\\u0e25\\u0e07\\u0e25\\u0e32\\u0e22\\u0e21\\u0e37\\u0e2d\\u0e0a\\u0e37\\u0e48\\u0e2d\\u0e23\\u0e48\\u0e27\\u0e21\\u0e01\\u0e31\\u0e19\\u0e2b\\u0e23\\u0e37\\u0e2d P0077 \\u0e2b\\u0e23\\u0e37\\u0e2d P0132 \\u0e01\\u0e23\\u0e23\\u0e21\\u0e01\\u0e32\\u0e23\\u0e2b\\u0e19\\u0e36\\u0e48\\u0e07\\u0e43\\u0e19\\u0e2a\\u0e2d\\u0e07\\u0e04\\u0e19\\u0e19\\u0e35\\u0e49\\u0e25\\u0e07\\u0e25\\u0e32\\u0e22\\u0e21\\u0e37\\u0e2d\\u0e0a\\u0e37\\u0e48\\u0e2d\\u0e23\\u0e48\\u0e27\\u0e21\\u0e01\\u0e31\\u0e1a P0367\"\n        ],\n        \"semantic_type\": \"\",\n        \"description\": \"\"\n      }\n    },\n    {\n      \"column\": \"pattern\",\n      \"properties\": {\n        \"dtype\": \"number\",\n        \"std\": 6555,\n        \"min\": 11001,\n        \"max\": 30016,\n        \"num_unique_values\": 47,\n        \"samples\": [\n          30006,\n          20009,\n          30003\n        ],\n        \"semantic_type\": \"\",\n        \"description\": \"\"\n      }\n    },\n    {\n      \"column\": \"question\",\n      \"properties\": {\n        \"dtype\": \"string\",\n        \"num_unique_values\": 4357,\n        \"samples\": [\n          \"['P0228', 'P0018']\",\n          \"['P0413', 'P0586', 'P0381']\",\n          \"['P0133', 'P0238']\"\n        ],\n        \"semantic_type\": \"\",\n        \"description\": \"\"\n      }\n    },\n    {\n      \"column\": \"legal_act\",\n      \"properties\": {\n        \"dtype\": \"category\",\n        \"num_unique_values\": 136,\n        \"samples\": [\n          \"\\u0e01\\u0e32\\u0e23\\u0e22\\u0e37\\u0e48\\u0e19\\u0e41\\u0e1a\\u0e1a\\u0e41\\u0e2a\\u0e14\\u0e07\\u0e23\\u0e32\\u0e22\\u0e01\\u0e32\\u0e23\\u0e20\\u0e32\\u0e29\\u0e35\",\n          \"\\u0e01\\u0e32\\u0e23\\u0e17\\u0e33\\u0e19\\u0e34\\u0e15\\u0e34\\u0e01\\u0e23\\u0e23\\u0e21\\u0e0b\\u0e37\\u0e49\\u0e2d\\u0e02\\u0e32\\u0e22\\u0e40\\u0e0a\\u0e48\\u0e32\\u0e42\\u0e2d\\u0e19\\u0e2a\\u0e34\\u0e17\\u0e18\\u0e34 \\u0e17\\u0e23\\u0e31\\u0e1e\\u0e22\\u0e4c\\u0e2a\\u0e34\\u0e19\\u0e41\\u0e25\\u0e30\\u0e2d\\u0e2a\\u0e31\\u0e07\\u0e2b\\u0e32\\u0e23\\u0e34\\u0e21\\u0e17\\u0e23\\u0e31\\u0e1e\\u0e22\\u0e4c \\u0e21\\u0e39\\u0e25\\u0e04\\u0e48\\u0e32 20,000,000 \\u0e1a\\u0e32\\u0e17\",\n          \"\\u0e0b\\u0e37\\u0e49\\u0e2d\\u0e02\\u0e32\\u0e22\\u0e17\\u0e35\\u0e48\\u0e14\\u0e34\\u0e19\"\n        ],\n        \"semantic_type\": \"\",\n        \"description\": \"\"\n      }\n    },\n    {\n      \"column\": \"condition\",\n      \"properties\": {\n        \"dtype\": \"category\",\n        \"num_unique_values\": 65,\n        \"samples\": [\n          \"\\u0e40\\u0e27\\u0e49\\u0e19\\u0e41\\u0e15\\u0e48(1) \\u0e18\\u0e38\\u0e23\\u0e01\\u0e23\\u0e23\\u0e21\\u0e17\\u0e35\\u0e48\\u0e21\\u0e39\\u0e25\\u0e04\\u0e48\\u0e32\\u0e21\\u0e32\\u0e01\\u0e01\\u0e27\\u0e48\\u0e32\\u0e2b\\u0e19\\u0e36\\u0e48\\u0e07\\u0e25\\u0e49\\u0e32\\u0e19\\u0e1a\\u0e32\\u0e17 2) \\u0e1a\\u0e23\\u0e23\\u0e14\\u0e32\\u0e40\\u0e2d\\u0e01\\u0e2a\\u0e32\\u0e23\\u0e41\\u0e25\\u0e30\\u0e04\\u0e33\\u0e02\\u0e2d\\u0e15\\u0e48\\u0e32\\u0e07\\u0e46 \\u0e02\\u0e2d\\u0e07\\u0e1a\\u0e23\\u0e34\\u0e29\\u0e31\\u0e17\\u0e17\\u0e35\\u0e48\\u0e15\\u0e49\\u0e2d\\u0e07\\u0e22\\u0e37\\u0e48\\u0e19\\u0e15\\u0e34\\u0e14\\u0e15\\u0e48\\u0e2d\\u0e01\\u0e31\\u0e1a\\u0e2b\\u0e19\\u0e48\\u0e27\\u0e22\\u0e07\\u0e32\\u0e19\\u0e23\\u0e32\\u0e0a\\u0e01\\u0e32\\u0e23\\u0e15\\u0e48\\u0e32\\u0e07\\u0e46\\u0e01\\u0e23\\u0e30\\u0e17\\u0e23\\u0e27\\u0e07\\u0e1e\\u0e32\\u0e13\\u0e34\\u0e0a\\u0e22\\u0e4c \\u0e01\\u0e23\\u0e21\\u0e2a\\u0e23\\u0e23\\u0e1e\\u0e32\\u0e01\\u0e23 \\u0e41\\u0e25\\u0e30\\u0e01\\u0e23\\u0e21\\u0e28\\u0e38\\u0e25\\u0e01\\u0e32\\u0e01\\u0e23 \\u0e23\\u0e27\\u0e21\\u0e16\\u0e36\\u0e07\\u0e40\\u0e2d\\u0e01\\u0e2a\\u0e32\\u0e23\\u0e41\\u0e25\\u0e30\\u0e04\\u0e33\\u0e02\\u0e2d\\u0e15\\u0e48\\u0e32\\u0e07\\u0e46\\u0e40\\u0e01\\u0e35\\u0e48\\u0e22\\u0e27\\u0e01\\u0e31\\u0e1a\\u0e43\\u0e1a\\u0e2d\\u0e19\\u0e38\\u0e0d\\u0e32\\u0e15\\u0e17\\u0e33\\u0e07\\u0e32\\u0e19 \\u0e41\\u0e25\\u0e30\\u0e40\\u0e2d\\u0e01\\u0e2a\\u0e32\\u0e23\\u0e04\\u0e33\\u0e02\\u0e2d\\u0e15\\u0e48\\u0e32\\u0e07\\u0e46 \\u0e15\\u0e32\\u0e21\\u0e1e\\u0e23\\u0e30\\u0e23\\u0e32\\u0e0a\\u0e1a\\u0e31\\u0e0d\\u0e0d\\u0e31\\u0e15\\u0e34\\u0e04\\u0e19\\u0e40\\u0e02\\u0e49\\u0e32\\u0e40\\u0e21\\u0e37\\u0e2d\\u0e07\",\n          \"\\u0e43\\u0e19\\u0e01\\u0e32\\u0e23\\u0e17\\u0e33\\u0e2a\\u0e31\\u0e0d\\u0e0d\\u0e32\\u0e43\\u0e14 \\u0e46 \\u0e01\\u0e31\\u0e1a\\u0e1a\\u0e23\\u0e34\\u0e29\\u0e31\\u0e17\\u0e43\\u0e19\\u0e01\\u0e25\\u0e38\\u0e48\\u0e21\\u0e2d\\u0e34\\u0e19\\u0e1f\\u0e34\\u0e19\\u0e35\\u0e2d\\u0e2d\\u0e19 \\u0e40\\u0e17\\u0e04\\u0e42\\u0e19\\u0e42\\u0e25\\u0e22\\u0e35\\u0e2a\\u0e4c\",\n          \"2. \\u0e01\\u0e32\\u0e23\\u0e40\\u0e1b\\u0e25\\u0e35\\u0e48\\u0e22\\u0e19\\u0e41\\u0e1b\\u0e25\\u0e07\\u0e43\\u0e19\\u0e42\\u0e04\\u0e23\\u0e07\\u0e2a\\u0e23\\u0e49\\u0e32\\u0e07\\u0e1c\\u0e39\\u0e49\\u0e16\\u0e37\\u0e2d\\u0e2b\\u0e38\\u0e49\\u0e19 \\u0e01\\u0e32\\u0e23\\u0e40\\u0e1b\\u0e25\\u0e35\\u0e48\\u0e22\\u0e19\\u0e41\\u0e1b\\u0e25\\u0e07\\u0e23\\u0e32\\u0e04\\u0e32\\u0e2b\\u0e23\\u0e37\\u0e2d\\u0e08\\u0e33\\u0e19\\u0e27\\u0e19\\u0e2b\\u0e38\\u0e49\\u0e19 \\u0e01\\u0e32\\u0e23\\u0e01\\u0e23\\u0e30\\u0e08\\u0e32\\u0e22\\u0e2b\\u0e23\\u0e37\\u0e2d\\u0e01\\u0e32\\u0e23\\u0e02\\u0e32\\u0e22\\u0e2b\\u0e49\\u0e38\\u0e19\"\n        ],\n        \"semantic_type\": \"\",\n        \"description\": \"\"\n      }\n    },\n    {\n      \"column\": \"answer\",\n      \"properties\": {\n        \"dtype\": \"number\",\n        \"std\": 0.48926260387860776,\n        \"min\": 0.0,\n        \"max\": 1.0,\n        \"num_unique_values\": 2,\n        \"samples\": [\n          1.0,\n          0.0\n        ],\n        \"semantic_type\": \"\",\n        \"description\": \"\"\n      }\n    },\n    {\n      \"column\": \"rgno_id\",\n      \"properties\": {\n        \"dtype\": \"category\",\n        \"num_unique_values\": 230,\n        \"samples\": [\n          \"{'\\u0e19\\u0e32\\u0e07\\u0e2a\\u0e32\\u0e27\\u0e10\\u0e34\\u0e23\\u0e1e\\u0e23\\u0e23\\u0e29 \\u0e1b\\u0e32\\u0e19\\u0e17\\u0e2d\\u0e07': 'P0102', '\\u0e19\\u0e32\\u0e22\\u0e27\\u0e32\\u0e22\\u0e38\\u0e20\\u0e31\\u0e01\\u0e29\\u0e4c \\u0e2a\\u0e21\\u0e40\\u0e21\\u0e37\\u0e2d\\u0e07': 'P0058', '\\u0e19\\u0e32\\u0e22\\u0e18\\u0e35\\u0e23\\u0e01\\u0e32\\u0e19\\u0e15\\u0e4c \\u0e17\\u0e27\\u0e35\\u0e23\\u0e31\\u0e15\\u0e19\\u0e4c': 'P0221', '\\u0e19\\u0e32\\u0e07\\u0e1e\\u0e19\\u0e34\\u0e15\\u0e1e\\u0e23 \\u0e25\\u0e34\\u0e49\\u0e21\\u0e2a\\u0e38\\u0e1b\\u0e23\\u0e35\\u0e22\\u0e32\\u0e23\\u0e31\\u0e15\\u0e19\\u0e4c': 'P0319', '\\u0e19\\u0e32\\u0e22\\u0e19\\u0e1e\\u0e01\\u0e23 \\u0e2a\\u0e38\\u0e23\\u0e34\\u0e19\\u0e17\\u0e23\\u0e4c': 'P0234'}\",\n          \"{'\\u0e19\\u0e32\\u0e22\\u0e1b\\u0e31\\u0e13\\u0e11\\u0e4c\\u0e18\\u0e23 \\u0e0a\\u0e48\\u0e27\\u0e22\\u0e23\\u0e2d\\u0e14': 'P0367', '\\u0e19\\u0e32\\u0e22\\u0e1b\\u0e31\\u0e17\\u0e21\\u0e32 \\u0e22\\u0e2d\\u0e14\\u0e17\\u0e2d\\u0e07': 'P0049', '\\u0e19\\u0e32\\u0e22\\u0e28\\u0e38\\u0e20\\u0e0a\\u0e31\\u0e22 \\u0e23\\u0e34\\u0e19\\u0e04\\u0e33': 'P0132', '\\u0e19\\u0e32\\u0e07\\u0e15\\u0e38\\u0e25\\u0e22\\u0e4c \\u0e40\\u0e01\\u0e2a\\u0e42\\u0e23': 'P0475', '\\u0e19\\u0e32\\u0e22\\u0e21\\u0e07\\u0e04\\u0e25 \\u0e1a\\u0e38\\u0e0d\\u0e14\\u0e33\\u0e40\\u0e19\\u0e34\\u0e19': 'P0077'}\"\n        ],\n        \"semantic_type\": \"\",\n        \"description\": \"\"\n      }\n    }\n  ]\n}"
            }
          },
          "metadata": {},
          "execution_count": 744
        }
      ]
    },
    {
      "cell_type": "code",
      "source": [
        "train_df['legal_act'].fillna(method='ffill', inplace=True)"
      ],
      "metadata": {
        "id": "WPCKLcGq3HPg"
      },
      "execution_count": 745,
      "outputs": []
    },
    {
      "cell_type": "code",
      "source": [
        "test_df.loc[4426, 'context']"
      ],
      "metadata": {
        "colab": {
          "base_uri": "https://localhost:8080/",
          "height": 53
        },
        "id": "KjtV-T2wA5Sd",
        "outputId": "981da81e-7259-4065-e0a0-d49cf1a42048"
      },
      "execution_count": 746,
      "outputs": [
        {
          "output_type": "execute_result",
          "data": {
            "text/plain": [
              "'P0241 ลงลายมือชื่อร่วมกับกรรมการอื่นอีกสองคน และประทับตราสำคัญของบริษัท หรือ P0047 , P0099 , P0272 , P0259 และ P0490 ลงลายมือชื่อร่วมกันและประทับตราสำคัญของบริษัท'"
            ],
            "application/vnd.google.colaboratory.intrinsic+json": {
              "type": "string"
            }
          },
          "metadata": {},
          "execution_count": 746
        }
      ]
    },
    {
      "cell_type": "code",
      "source": [
        "train_df['Text'] = train_df['context'] + ', ' + train_df['question'] + ', ' + train_df['legal_act']\n",
        "train_df['Label'] = train_df['answer']\n",
        "df = train_df[['Text', 'Label']]\n",
        "\n",
        "test_df['Text'] = test_df['context'] + ', ' + test_df['question'] + ', ' + test_df['legal_act']\n",
        "df_test = test_df[['Text']]"
      ],
      "metadata": {
        "id": "clqEvubh0SMt"
      },
      "execution_count": 747,
      "outputs": []
    },
    {
      "cell_type": "code",
      "source": [
        "train_df.info()"
      ],
      "metadata": {
        "colab": {
          "base_uri": "https://localhost:8080/"
        },
        "id": "nLSRSKwy2nBQ",
        "outputId": "f81ca679-8d2f-4da7-d009-bdb347395104"
      },
      "execution_count": 660,
      "outputs": [
        {
          "output_type": "stream",
          "name": "stdout",
          "text": [
            "<class 'pandas.core.frame.DataFrame'>\n",
            "Index: 4429 entries, 0 to 4428\n",
            "Data columns (total 11 columns):\n",
            " #   Column     Non-Null Count  Dtype  \n",
            "---  ------     --------------  -----  \n",
            " 0   id         4429 non-null   int64  \n",
            " 1   rgno       4429 non-null   float64\n",
            " 2   context    4429 non-null   object \n",
            " 3   pattern    4429 non-null   int64  \n",
            " 4   question   4429 non-null   object \n",
            " 5   legal_act  4429 non-null   object \n",
            " 6   condition  428 non-null    object \n",
            " 7   answer     4429 non-null   int64  \n",
            " 8   rgno_id    4429 non-null   object \n",
            " 9   Text       4429 non-null   object \n",
            " 10  Label      4429 non-null   int64  \n",
            "dtypes: float64(1), int64(4), object(6)\n",
            "memory usage: 415.2+ KB\n"
          ]
        }
      ]
    },
    {
      "cell_type": "code",
      "source": [
        "# train_df['Text'] = train_df['context'] + ', ' + train_df['question']\n",
        "# train_df['Label'] = train_df['answer']\n",
        "# df = train_df[['Text', 'Label']]"
      ],
      "metadata": {
        "execution": {
          "iopub.status.busy": "2024-05-07T09:43:07.955013Z",
          "iopub.execute_input": "2024-05-07T09:43:07.955485Z",
          "iopub.status.idle": "2024-05-07T09:43:07.973322Z",
          "shell.execute_reply.started": "2024-05-07T09:43:07.955452Z",
          "shell.execute_reply": "2024-05-07T09:43:07.972316Z"
        },
        "trusted": true,
        "id": "9b7VAq3-ui5b"
      },
      "execution_count": 661,
      "outputs": []
    },
    {
      "cell_type": "code",
      "source": [
        "df.Label.plot(kind = 'hist',title = 'Answer')"
      ],
      "metadata": {
        "execution": {
          "iopub.status.busy": "2024-05-07T09:43:32.969244Z",
          "iopub.execute_input": "2024-05-07T09:43:32.970109Z",
          "iopub.status.idle": "2024-05-07T09:43:33.270592Z",
          "shell.execute_reply.started": "2024-05-07T09:43:32.970081Z",
          "shell.execute_reply": "2024-05-07T09:43:33.269854Z"
        },
        "trusted": true,
        "colab": {
          "base_uri": "https://localhost:8080/",
          "height": 469
        },
        "id": "_dBcvxwkui5b",
        "outputId": "ae5056dc-0610-48d0-8b26-e3fecb94e6e5"
      },
      "execution_count": 662,
      "outputs": [
        {
          "output_type": "execute_result",
          "data": {
            "text/plain": [
              "<Axes: title={'center': 'Answer'}, ylabel='Frequency'>"
            ]
          },
          "metadata": {},
          "execution_count": 662
        },
        {
          "output_type": "display_data",
          "data": {
            "text/plain": [
              "<Figure size 640x480 with 1 Axes>"
            ],
            "image/png": "[encoded data removed]"
          },
          "metadata": {}
        }
      ]
    },
    {
      "cell_type": "code",
      "source": [
        "train_set, val_set = train_test_split( df, test_size=0.20, random_state=42)  # test_size=0.20 for 80:20 split\n",
        "\n",
        "train_set.reset_index(drop=True, inplace = True)\n",
        "val_set.reset_index(drop=True, inplace = True)\n",
        "\n",
        "# Print the shape of the datasets to verify the sizes\n",
        "print(f\"Training set shape: {train_set.shape}\")\n",
        "print(f\"Validation set shape: {val_set.shape}\")"
      ],
      "metadata": {
        "execution": {
          "iopub.status.busy": "2024-05-07T09:44:50.225216Z",
          "iopub.execute_input": "2024-05-07T09:44:50.225949Z",
          "iopub.status.idle": "2024-05-07T09:44:50.234789Z",
          "shell.execute_reply.started": "2024-05-07T09:44:50.225917Z",
          "shell.execute_reply": "2024-05-07T09:44:50.233815Z"
        },
        "trusted": true,
        "colab": {
          "base_uri": "https://localhost:8080/"
        },
        "id": "Jqlhmujiui5c",
        "outputId": "ef09058f-2840-47c5-914b-75cfdc00a772"
      },
      "execution_count": 663,
      "outputs": [
        {
          "output_type": "stream",
          "name": "stdout",
          "text": [
            "Training set shape: (3543, 2)\n",
            "Validation set shape: (886, 2)\n"
          ]
        }
      ]
    },
    {
      "cell_type": "code",
      "source": [
        "name = train_df['Text'].sample(1).values[0]\n",
        "name"
      ],
      "metadata": {
        "id": "OxDS43YI1tIU",
        "colab": {
          "base_uri": "https://localhost:8080/",
          "height": 36
        },
        "outputId": "369501fd-7922-4f09-c1d5-85a369ef74e3"
      },
      "execution_count": 739,
      "outputs": [
        {
          "output_type": "execute_result",
          "data": {
            "text/plain": [
              "\"กรรมการสองในสี่คน ลงลายมือชื่อร่วมกัน, ['P0501', 'P0225'], การทำนิติกรรม การนิคมอุตสาหกรรม\""
            ],
            "application/vnd.google.colaboratory.intrinsic+json": {
              "type": "string"
            }
          },
          "metadata": {},
          "execution_count": 739
        }
      ]
    },
    {
      "cell_type": "code",
      "source": [
        "from transformers import AutoTokenizer\n",
        "\n",
        "tokenizer = AutoTokenizer.from_pretrained(\"airesearch/wangchanberta-base-att-spm-uncased\")\n",
        "print(tokenizer.tokenize(name))\n",
        "tokenizer.add_tokens(['P0185', 'P0168', 'P0120', 'P0234', 'P0264', 'P0254'])\n",
        "# encoded = tokenizer(name, padding=True, truncation=True, return_tensors='pt')\n",
        "print(tokenizer.tokenize(name))"
      ],
      "metadata": {
        "execution": {
          "iopub.status.busy": "2024-05-07T10:13:53.997774Z",
          "iopub.execute_input": "2024-05-07T10:13:53.998234Z",
          "iopub.status.idle": "2024-05-07T10:13:54.407218Z",
          "shell.execute_reply.started": "2024-05-07T10:13:53.998202Z",
          "shell.execute_reply": "2024-05-07T10:13:54.406152Z"
        },
        "trusted": true,
        "colab": {
          "base_uri": "https://localhost:8080/"
        },
        "id": "nl0JTsa8ui5c",
        "outputId": "5d644055-4185-4318-9b28-7b2c77df50bb"
      },
      "execution_count": 740,
      "outputs": [
        {
          "output_type": "stream",
          "name": "stdout",
          "text": [
            "['▁', 'กรรมการ', 'สอง', 'ใน', 'สี่คน', '▁', 'ลง', 'ลายมือชื่อ', 'ร่วมกัน', ',', '▁[', \"'\", 'P', '05', '01', \"'\", ',', \"▁'\", 'P', '02', '25', \"'\", ']', ',', '▁', 'การทํา', 'นิติกรรม', '▁การ', 'นิคม', 'อุตสาหกรรม']\n",
            "['▁', 'กรรมการ', 'สอง', 'ใน', 'สี่คน', '▁', 'ลง', 'ลายมือชื่อ', 'ร่วมกัน', ',', '▁[', \"'\", 'P', '05', '01', \"'\", ',', \"▁'\", 'P', '02', '25', \"'\", ']', ',', '▁', 'การทํา', 'นิติกรรม', '▁การ', 'นิคม', 'อุตสาหกรรม']\n"
          ]
        }
      ]
    },
    {
      "cell_type": "code",
      "source": [
        "error_tokens = ['อสังหาริมทรัพย์', 'ลงลายมือชื่อ', 'ก.', 'ข.', 'ค.', 'ง.', 'จ.', '(1)', '(2)', '(3)', '(4)',\\\n",
        "                '(ก)', '(ข)', '(ค)', '(ง)', '(จ)', 'รัฐวิสาหกิจ', 'มัคคุเทศน์', 'การนิคมอุตสาหกรรม', 'การทำนิติกรรม',\\\n",
        "                'นิติกรรม', 'นิคมอุตสาหกรรม', 'บัญชีธนาคาร', 'ธุรกิจนำเที่ยว', 'กรมพัฒนาธุรกิจการค้า', 'ธุรกิจการค้า', 'เครื่องดื่ม',\\\n",
        "                'อาหาร', 'การค้ำประกัน', 'กรมที่ดิน', 'สังหาริมทรัพย์', 'สาธารณูปโภค', 'การซื้อขายทรัพย์สิน', 'การขอใบอนุญาตค้าของเก่า',\\\n",
        "                'กรมทางหสวง', 'กรมทางหลวง', 'การทำสัญญาเช่า', 'กิจการ', 'กิจการโรงงาน', 'การขอวีซ่า', 'คนใดคนหนึ่ง'\\\n",
        "                , '5,000,000', 'มหาวินิจฉัยมนตรี', 'เ(ส)ริม', 'การว่าจ้างพนักงาน', 'การสั่งจ่าย', 'การว่าจ้างพนักงาน', 'การก่อภาระผูกพัน',\\\n",
        "                'งบประมาณประจําปี', 'ดังต่อไปนี้', 'การขอใบอนุญาต', 'งานราชการ']"
      ],
      "metadata": {
        "id": "pfHiYgtyEi-A"
      },
      "execution_count": 738,
      "outputs": []
    },
    {
      "cell_type": "code",
      "source": [
        "train_set.head()"
      ],
      "metadata": {
        "colab": {
          "base_uri": "https://localhost:8080/",
          "height": 206
        },
        "id": "-71ebi563_JY",
        "outputId": "bb0f409c-5022-461f-8233-e67926555d1d"
      },
      "execution_count": 667,
      "outputs": [
        {
          "output_type": "execute_result",
          "data": {
            "text/plain": [
              "                                                Text  Label\n",
              "0  P0013 ลงลายมือชื่อร่วมกับกรรมการอื่นอีกสามท่าน...      0\n",
              "1  P0196 และ P0379 ลงลายมือชื่อร่วมกับ กรรมการสอง...      0\n",
              "2  กรรมการสามในห้าคนนี้ลงลายมือชื่อร่วมกัน, ['P01...      1\n",
              "3  กรรมการอย่างน้อยสองคนลงชื่อร่วมกันและประทับตรา...      1\n",
              "4  กรรมการคนใดคนหนึ่งลงลายมือชื่อร่วมกับกรรมการอื...      1"
            ],
            "text/html": [
              "\n",
              "  <div id=\"df-53e395fb-ba88-4ca4-babf-dd692aa8f4f7\" class=\"colab-df-container\">\n",
              "    <div>\n",
              "<style scoped>\n",
              "    .dataframe tbody tr th:only-of-type {\n",
              "        vertical-align: middle;\n",
              "    }\n",
              "\n",
              "    .dataframe tbody tr th {\n",
              "        vertical-align: top;\n",
              "    }\n",
              "\n",
              "    .dataframe thead th {\n",
              "        text-align: right;\n",
              "    }\n",
              "</style>\n",
              "<table border=\"1\" class=\"dataframe\">\n",
              "  <thead>\n",
              "    <tr style=\"text-align: right;\">\n",
              "      <th></th>\n",
              "      <th>Text</th>\n",
              "      <th>Label</th>\n",
              "    </tr>\n",
              "  </thead>\n",
              "  <tbody>\n",
              "    <tr>\n",
              "      <th>0</th>\n",
              "      <td>P0013 ลงลายมือชื่อร่วมกับกรรมการอื่นอีกสามท่าน...</td>\n",
              "      <td>0</td>\n",
              "    </tr>\n",
              "    <tr>\n",
              "      <th>1</th>\n",
              "      <td>P0196 และ P0379 ลงลายมือชื่อร่วมกับ กรรมการสอง...</td>\n",
              "      <td>0</td>\n",
              "    </tr>\n",
              "    <tr>\n",
              "      <th>2</th>\n",
              "      <td>กรรมการสามในห้าคนนี้ลงลายมือชื่อร่วมกัน, ['P01...</td>\n",
              "      <td>1</td>\n",
              "    </tr>\n",
              "    <tr>\n",
              "      <th>3</th>\n",
              "      <td>กรรมการอย่างน้อยสองคนลงชื่อร่วมกันและประทับตรา...</td>\n",
              "      <td>1</td>\n",
              "    </tr>\n",
              "    <tr>\n",
              "      <th>4</th>\n",
              "      <td>กรรมการคนใดคนหนึ่งลงลายมือชื่อร่วมกับกรรมการอื...</td>\n",
              "      <td>1</td>\n",
              "    </tr>\n",
              "  </tbody>\n",
              "</table>\n",
              "</div>\n",
              "    <div class=\"colab-df-buttons\">\n",
              "\n",
              "  <div class=\"colab-df-container\">\n",
              "    <button class=\"colab-df-convert\" onclick=\"convertToInteractive('df-53e395fb-ba88-4ca4-babf-dd692aa8f4f7')\"\n",
              "            title=\"Convert this dataframe to an interactive table.\"\n",
              "            style=\"display:none;\">\n",
              "\n",
              "  <svg xmlns=\"http://www.w3.org/2000/svg\" height=\"24px\" viewBox=\"0 -960 960 960\">\n",
              "    <path d=\"M120-120v-720h720v720H120Zm60-500h600v-160H180v160Zm220 220h160v-160H400v160Zm0 220h160v-160H400v160ZM180-400h160v-160H180v160Zm440 0h160v-160H620v160ZM180-180h160v-160H180v160Zm440 0h160v-160H620v160Z\"/>\n",
              "  </svg>\n",
              "    </button>\n",
              "\n",
              "  <style>\n",
              "    .colab-df-container {\n",
              "      display:flex;\n",
              "      gap: 12px;\n",
              "    }\n",
              "\n",
              "    .colab-df-convert {\n",
              "      background-color: #E8F0FE;\n",
              "      border: none;\n",
              "      border-radius: 50%;\n",
              "      cursor: pointer;\n",
              "      display: none;\n",
              "      fill: #1967D2;\n",
              "      height: 32px;\n",
              "      padding: 0 0 0 0;\n",
              "      width: 32px;\n",
              "    }\n",
              "\n",
              "    .colab-df-convert:hover {\n",
              "      background-color: #E2EBFA;\n",
              "      box-shadow: 0px 1px 2px rgba(60, 64, 67, 0.3), 0px 1px 3px 1px rgba(60, 64, 67, 0.15);\n",
              "      fill: #174EA6;\n",
              "    }\n",
              "\n",
              "    .colab-df-buttons div {\n",
              "      margin-bottom: 4px;\n",
              "    }\n",
              "\n",
              "    [theme=dark] .colab-df-convert {\n",
              "      background-color: #3B4455;\n",
              "      fill: #D2E3FC;\n",
              "    }\n",
              "\n",
              "    [theme=dark] .colab-df-convert:hover {\n",
              "      background-color: #434B5C;\n",
              "      box-shadow: 0px 1px 3px 1px rgba(0, 0, 0, 0.15);\n",
              "      filter: drop-shadow(0px 1px 2px rgba(0, 0, 0, 0.3));\n",
              "      fill: #FFFFFF;\n",
              "    }\n",
              "  </style>\n",
              "\n",
              "    <script>\n",
              "      const buttonEl =\n",
              "        document.querySelector('#df-53e395fb-ba88-4ca4-babf-dd692aa8f4f7 button.colab-df-convert');\n",
              "      buttonEl.style.display =\n",
              "        google.colab.kernel.accessAllowed ? 'block' : 'none';\n",
              "\n",
              "      async function convertToInteractive(key) {\n",
              "        const element = document.querySelector('#df-53e395fb-ba88-4ca4-babf-dd692aa8f4f7');\n",
              "        const dataTable =\n",
              "          await google.colab.kernel.invokeFunction('convertToInteractive',\n",
              "                                                    [key], {});\n",
              "        if (!dataTable) return;\n",
              "\n",
              "        const docLinkHtml = 'Like what you see? Visit the ' +\n",
              "          '<a target=\"_blank\" href=https://colab.research.google.com/notebooks/data_table.ipynb>data table notebook</a>'\n",
              "          + ' to learn more about interactive tables.';\n",
              "        element.innerHTML = '';\n",
              "        dataTable['output_type'] = 'display_data';\n",
              "        await google.colab.output.renderOutput(dataTable, element);\n",
              "        const docLink = document.createElement('div');\n",
              "        docLink.innerHTML = docLinkHtml;\n",
              "        element.appendChild(docLink);\n",
              "      }\n",
              "    </script>\n",
              "  </div>\n",
              "\n",
              "\n",
              "<div id=\"df-7324d318-d56e-4f96-b5c4-9b3135f2775b\">\n",
              "  <button class=\"colab-df-quickchart\" onclick=\"quickchart('df-7324d318-d56e-4f96-b5c4-9b3135f2775b')\"\n",
              "            title=\"Suggest charts\"\n",
              "            style=\"display:none;\">\n",
              "\n",
              "<svg xmlns=\"http://www.w3.org/2000/svg\" height=\"24px\"viewBox=\"0 0 24 24\"\n",
              "     width=\"24px\">\n",
              "    <g>\n",
              "        <path d=\"M19 3H5c-1.1 0-2 .9-2 2v14c0 1.1.9 2 2 2h14c1.1 0 2-.9 2-2V5c0-1.1-.9-2-2-2zM9 17H7v-7h2v7zm4 0h-2V7h2v10zm4 0h-2v-4h2v4z\"/>\n",
              "    </g>\n",
              "</svg>\n",
              "  </button>\n",
              "\n",
              "<style>\n",
              "  .colab-df-quickchart {\n",
              "      --bg-color: #E8F0FE;\n",
              "      --fill-color: #1967D2;\n",
              "      --hover-bg-color: #E2EBFA;\n",
              "      --hover-fill-color: #174EA6;\n",
              "      --disabled-fill-color: #AAA;\n",
              "      --disabled-bg-color: #DDD;\n",
              "  }\n",
              "\n",
              "  [theme=dark] .colab-df-quickchart {\n",
              "      --bg-color: #3B4455;\n",
              "      --fill-color: #D2E3FC;\n",
              "      --hover-bg-color: #434B5C;\n",
              "      --hover-fill-color: #FFFFFF;\n",
              "      --disabled-bg-color: #3B4455;\n",
              "      --disabled-fill-color: #666;\n",
              "  }\n",
              "\n",
              "  .colab-df-quickchart {\n",
              "    background-color: var(--bg-color);\n",
              "    border: none;\n",
              "    border-radius: 50%;\n",
              "    cursor: pointer;\n",
              "    display: none;\n",
              "    fill: var(--fill-color);\n",
              "    height: 32px;\n",
              "    padding: 0;\n",
              "    width: 32px;\n",
              "  }\n",
              "\n",
              "  .colab-df-quickchart:hover {\n",
              "    background-color: var(--hover-bg-color);\n",
              "    box-shadow: 0 1px 2px rgba(60, 64, 67, 0.3), 0 1px 3px 1px rgba(60, 64, 67, 0.15);\n",
              "    fill: var(--button-hover-fill-color);\n",
              "  }\n",
              "\n",
              "  .colab-df-quickchart-complete:disabled,\n",
              "  .colab-df-quickchart-complete:disabled:hover {\n",
              "    background-color: var(--disabled-bg-color);\n",
              "    fill: var(--disabled-fill-color);\n",
              "    box-shadow: none;\n",
              "  }\n",
              "\n",
              "  .colab-df-spinner {\n",
              "    border: 2px solid var(--fill-color);\n",
              "    border-color: transparent;\n",
              "    border-bottom-color: var(--fill-color);\n",
              "    animation:\n",
              "      spin 1s steps(1) infinite;\n",
              "  }\n",
              "\n",
              "  @keyframes spin {\n",
              "    0% {\n",
              "      border-color: transparent;\n",
              "      border-bottom-color: var(--fill-color);\n",
              "      border-left-color: var(--fill-color);\n",
              "    }\n",
              "    20% {\n",
              "      border-color: transparent;\n",
              "      border-left-color: var(--fill-color);\n",
              "      border-top-color: var(--fill-color);\n",
              "    }\n",
              "    30% {\n",
              "      border-color: transparent;\n",
              "      border-left-color: var(--fill-color);\n",
              "      border-top-color: var(--fill-color);\n",
              "      border-right-color: var(--fill-color);\n",
              "    }\n",
              "    40% {\n",
              "      border-color: transparent;\n",
              "      border-right-color: var(--fill-color);\n",
              "      border-top-color: var(--fill-color);\n",
              "    }\n",
              "    60% {\n",
              "      border-color: transparent;\n",
              "      border-right-color: var(--fill-color);\n",
              "    }\n",
              "    80% {\n",
              "      border-color: transparent;\n",
              "      border-right-color: var(--fill-color);\n",
              "      border-bottom-color: var(--fill-color);\n",
              "    }\n",
              "    90% {\n",
              "      border-color: transparent;\n",
              "      border-bottom-color: var(--fill-color);\n",
              "    }\n",
              "  }\n",
              "</style>\n",
              "\n",
              "  <script>\n",
              "    async function quickchart(key) {\n",
              "      const quickchartButtonEl =\n",
              "        document.querySelector('#' + key + ' button');\n",
              "      quickchartButtonEl.disabled = true;  // To prevent multiple clicks.\n",
              "      quickchartButtonEl.classList.add('colab-df-spinner');\n",
              "      try {\n",
              "        const charts = await google.colab.kernel.invokeFunction(\n",
              "            'suggestCharts', [key], {});\n",
              "      } catch (error) {\n",
              "        console.error('Error during call to suggestCharts:', error);\n",
              "      }\n",
              "      quickchartButtonEl.classList.remove('colab-df-spinner');\n",
              "      quickchartButtonEl.classList.add('colab-df-quickchart-complete');\n",
              "    }\n",
              "    (() => {\n",
              "      let quickchartButtonEl =\n",
              "        document.querySelector('#df-7324d318-d56e-4f96-b5c4-9b3135f2775b button');\n",
              "      quickchartButtonEl.style.display =\n",
              "        google.colab.kernel.accessAllowed ? 'block' : 'none';\n",
              "    })();\n",
              "  </script>\n",
              "</div>\n",
              "    </div>\n",
              "  </div>\n"
            ],
            "application/vnd.google.colaboratory.intrinsic+json": {
              "type": "dataframe",
              "variable_name": "train_set",
              "summary": "{\n  \"name\": \"train_set\",\n  \"rows\": 3543,\n  \"fields\": [\n    {\n      \"column\": \"Text\",\n      \"properties\": {\n        \"dtype\": \"string\",\n        \"num_unique_values\": 3538,\n        \"samples\": [\n          \"P0013 \\u0e25\\u0e07\\u0e25\\u0e32\\u0e22\\u0e21\\u0e37\\u0e2d\\u0e0a\\u0e37\\u0e48\\u0e2d\\u0e23\\u0e48\\u0e27\\u0e21\\u0e01\\u0e31\\u0e1a\\u0e01\\u0e23\\u0e23\\u0e21\\u0e01\\u0e32\\u0e23\\u0e2d\\u0e37\\u0e48\\u0e19\\u0e2d\\u0e35\\u0e01\\u0e2a\\u0e32\\u0e21\\u0e17\\u0e48\\u0e32\\u0e19 \\u0e44\\u0e14\\u0e49\\u0e41\\u0e01\\u0e48 P0208 \\u0e2b\\u0e23\\u0e37\\u0e2d \\u0e19\\u0e32\\u0e07\\u0e1a\\u0e38\\u0e1d\\u0e1c\\u0e32 \\u0e40\\u0e18\\u0e35\\u0e22\\u0e23\\u0e08\\u0e23\\u0e31\\u0e2a\\u0e01\\u0e38\\u0e25 \\u0e2b\\u0e23\\u0e37\\u0e2d P0174 \\u0e2b\\u0e23\\u0e37\\u0e2d P0312 \\u0e23\\u0e27\\u0e21\\u0e40\\u0e1b\\u0e47\\u0e19\\u0e2a\\u0e35\\u0e48\\u0e17\\u0e48\\u0e32\\u0e19\\u0e41\\u0e25\\u0e30\\u0e1b\\u0e23\\u0e30\\u0e17\\u0e31\\u0e1a\\u0e15\\u0e23\\u0e32\\u0e2a\\u0e33\\u0e04\\u0e31\\u0e0d\\u0e02\\u0e2d\\u0e07\\u0e1a\\u0e23\\u0e34\\u0e29\\u0e31\\u0e17, ['P0241', 'P0174', 'P0013'], \\u0e43\\u0e1a\\u0e2d\\u0e19\\u0e38\\u0e0d\\u0e32\\u0e15\\u0e08\\u0e33\\u0e2b\\u0e19\\u0e48\\u0e32\\u0e22\\u0e2d\\u0e32\\u0e2b\\u0e32\\u0e23\\u0e41\\u0e25\\u0e30\\u0e40\\u0e04\\u0e23\\u0e37\\u0e48\\u0e2d\\u0e07\\u0e14\\u0e37\\u0e48\\u0e21\",\n          \"\\u0e01\\u0e23\\u0e23\\u0e21\\u0e01\\u0e32\\u0e23\\u0e04\\u0e19\\u0e43\\u0e14\\u0e04\\u0e19\\u0e2b\\u0e19\\u0e36\\u0e48\\u0e07\\u0e25\\u0e07\\u0e25\\u0e32\\u0e22\\u0e21\\u0e37\\u0e2d\\u0e0a\\u0e37\\u0e48\\u0e2d\\u0e23\\u0e48\\u0e27\\u0e21\\u0e01\\u0e31\\u0e1a\\u0e01\\u0e23\\u0e23\\u0e21\\u0e01\\u0e32\\u0e23\\u0e2d\\u0e37\\u0e48\\u0e19\\u0e2d\\u0e35\\u0e01\\u0e2b\\u0e19\\u0e36\\u0e48\\u0e07\\u0e04\\u0e19\\u0e23\\u0e27\\u0e21\\u0e40\\u0e1b\\u0e47\\u0e19\\u0e2a\\u0e2d\\u0e07\\u0e04\\u0e19\\u0e41\\u0e25\\u0e30\\u0e1b\\u0e23\\u0e30\\u0e17\\u0e31\\u0e1a\\u0e15\\u0e23\\u0e32\\u0e2a\\u0e33\\u0e04\\u0e31\\u0e0d\\u0e02\\u0e2d\\u0e07\\u0e1a\\u0e23\\u0e34\\u0e29\\u0e31\\u0e17, ['P0032', 'P0133', 'P0001'], \\u0e01\\u0e32\\u0e23\\u0e17\\u0e33\\u0e19\\u0e34\\u0e15\\u0e34\\u0e01\\u0e23\\u0e23\\u0e21 \\u0e01\\u0e23\\u0e21\\u0e2a\\u0e23\\u0e23\\u0e1e\\u0e32\\u0e01\\u0e23\",\n          \"\\u0e01\\u0e23\\u0e23\\u0e21\\u0e01\\u0e32\\u0e23\\u0e04\\u0e19\\u0e43\\u0e14\\u0e04\\u0e19\\u0e2b\\u0e19\\u0e36\\u0e48\\u0e07\\u0e25\\u0e07\\u0e25\\u0e32\\u0e22\\u0e21\\u0e37\\u0e2d\\u0e0a\\u0e37\\u0e48\\u0e2d\\u0e23\\u0e48\\u0e27\\u0e21\\u0e01\\u0e31\\u0e1a\\u0e01\\u0e23\\u0e23\\u0e21\\u0e01\\u0e32\\u0e23\\u0e2d\\u0e37\\u0e48\\u0e19\\u0e2d\\u0e35\\u0e01\\u0e2b\\u0e19\\u0e36\\u0e48\\u0e07\\u0e04\\u0e19\\u0e23\\u0e27\\u0e21\\u0e40\\u0e1b\\u0e47\\u0e19\\u0e2a\\u0e2d\\u0e07\\u0e04\\u0e19\\u0e41\\u0e25\\u0e30\\u0e1b\\u0e23\\u0e30\\u0e17\\u0e31\\u0e1a\\u0e15\\u0e23\\u0e32\\u0e2a\\u0e33\\u0e04\\u0e31\\u0e0d\\u0e02\\u0e2d\\u0e07\\u0e1a\\u0e23\\u0e34\\u0e29\\u0e31\\u0e17, ['P0259', 'P0032'], \\u0e01\\u0e32\\u0e23\\u0e04\\u0e49\\u0e33\\u0e1b\\u0e23\\u0e30\\u0e01\\u0e31\\u0e19\"\n        ],\n        \"semantic_type\": \"\",\n        \"description\": \"\"\n      }\n    },\n    {\n      \"column\": \"Label\",\n      \"properties\": {\n        \"dtype\": \"number\",\n        \"std\": 0,\n        \"min\": 0,\n        \"max\": 1,\n        \"num_unique_values\": 2,\n        \"samples\": [\n          1,\n          0\n        ],\n        \"semantic_type\": \"\",\n        \"description\": \"\"\n      }\n    }\n  ]\n}"
            }
          },
          "metadata": {},
          "execution_count": 667
        }
      ]
    },
    {
      "cell_type": "code",
      "source": [
        "train_df.head()"
      ],
      "metadata": {
        "colab": {
          "base_uri": "https://localhost:8080/",
          "height": 379
        },
        "id": "fAezdeT9hDEa",
        "outputId": "e11684dc-e19c-446e-8699-ff2bdf806bd5"
      },
      "execution_count": 668,
      "outputs": [
        {
          "output_type": "execute_result",
          "data": {
            "text/plain": [
              "   id          rgno                                            context  \\\n",
              "0   0  1.055290e+11  กรรมการคนใดคนหนึ่งลงลายมือชื่อร่วมกับกรรมการอื...   \n",
              "1   1  1.055290e+11  กรรมการคนใดคนหนึ่งลงลายมือชื่อร่วมกับกรรมการอื...   \n",
              "2   2  1.055290e+11  กรรมการคนใดคนหนึ่งลงลายมือชื่อร่วมกับกรรมการอื...   \n",
              "3   3  1.055290e+11  กรรมการคนใดคนหนึ่งลงลายมือชื่อร่วมกับกรรมการอื...   \n",
              "4   4  1.055290e+11  กรรมการคนใดคนหนึ่งลงลายมือชื่อร่วมกับกรรมการอื...   \n",
              "\n",
              "   pattern   question                              legal_act condition  \\\n",
              "0    11016  ['P0028']  การทำนิติกรรม สำนักงานตรวจคนเข้าเมือง       NaN   \n",
              "1    11016  ['P0259']               การทำนิติกรรม กรมทางหสวง       NaN   \n",
              "2    11016  ['P0163']                        อสังหาริมทรัพย์       NaN   \n",
              "3    11016  ['P0001']      การทำนิติกรรม หน่วยราชการวิสาหกิจ       NaN   \n",
              "4    11016  ['P0263']                        อสังหาริมทรัพย์       NaN   \n",
              "\n",
              "   answer                                            rgno_id  \\\n",
              "0       0  {'นายพศิน บัวขาว': 'P0028', 'นายธนันทิกานต์ รา...   \n",
              "1       0  {'นายพศิน บัวขาว': 'P0028', 'นายธนันทิกานต์ รา...   \n",
              "2       0  {'นายพศิน บัวขาว': 'P0028', 'นายธนันทิกานต์ รา...   \n",
              "3       0  {'นายพศิน บัวขาว': 'P0028', 'นายธนันทิกานต์ รา...   \n",
              "4       0  {'นายพศิน บัวขาว': 'P0028', 'นายธนันทิกานต์ รา...   \n",
              "\n",
              "                                                Text  Label  \n",
              "0  กรรมการคนใดคนหนึ่งลงลายมือชื่อร่วมกับกรรมการอื...      0  \n",
              "1  กรรมการคนใดคนหนึ่งลงลายมือชื่อร่วมกับกรรมการอื...      0  \n",
              "2  กรรมการคนใดคนหนึ่งลงลายมือชื่อร่วมกับกรรมการอื...      0  \n",
              "3  กรรมการคนใดคนหนึ่งลงลายมือชื่อร่วมกับกรรมการอื...      0  \n",
              "4  กรรมการคนใดคนหนึ่งลงลายมือชื่อร่วมกับกรรมการอื...      0  "
            ],
            "text/html": [
              "\n",
              "  <div id=\"df-0bdeceff-c760-469b-993d-c82c972fecf4\" class=\"colab-df-container\">\n",
              "    <div>\n",
              "<style scoped>\n",
              "    .dataframe tbody tr th:only-of-type {\n",
              "        vertical-align: middle;\n",
              "    }\n",
              "\n",
              "    .dataframe tbody tr th {\n",
              "        vertical-align: top;\n",
              "    }\n",
              "\n",
              "    .dataframe thead th {\n",
              "        text-align: right;\n",
              "    }\n",
              "</style>\n",
              "<table border=\"1\" class=\"dataframe\">\n",
              "  <thead>\n",
              "    <tr style=\"text-align: right;\">\n",
              "      <th></th>\n",
              "      <th>id</th>\n",
              "      <th>rgno</th>\n",
              "      <th>context</th>\n",
              "      <th>pattern</th>\n",
              "      <th>question</th>\n",
              "      <th>legal_act</th>\n",
              "      <th>condition</th>\n",
              "      <th>answer</th>\n",
              "      <th>rgno_id</th>\n",
              "      <th>Text</th>\n",
              "      <th>Label</th>\n",
              "    </tr>\n",
              "  </thead>\n",
              "  <tbody>\n",
              "    <tr>\n",
              "      <th>0</th>\n",
              "      <td>0</td>\n",
              "      <td>1.055290e+11</td>\n",
              "      <td>กรรมการคนใดคนหนึ่งลงลายมือชื่อร่วมกับกรรมการอื...</td>\n",
              "      <td>11016</td>\n",
              "      <td>['P0028']</td>\n",
              "      <td>การทำนิติกรรม สำนักงานตรวจคนเข้าเมือง</td>\n",
              "      <td>NaN</td>\n",
              "      <td>0</td>\n",
              "      <td>{'นายพศิน บัวขาว': 'P0028', 'นายธนันทิกานต์ รา...</td>\n",
              "      <td>กรรมการคนใดคนหนึ่งลงลายมือชื่อร่วมกับกรรมการอื...</td>\n",
              "      <td>0</td>\n",
              "    </tr>\n",
              "    <tr>\n",
              "      <th>1</th>\n",
              "      <td>1</td>\n",
              "      <td>1.055290e+11</td>\n",
              "      <td>กรรมการคนใดคนหนึ่งลงลายมือชื่อร่วมกับกรรมการอื...</td>\n",
              "      <td>11016</td>\n",
              "      <td>['P0259']</td>\n",
              "      <td>การทำนิติกรรม กรมทางหสวง</td>\n",
              "      <td>NaN</td>\n",
              "      <td>0</td>\n",
              "      <td>{'นายพศิน บัวขาว': 'P0028', 'นายธนันทิกานต์ รา...</td>\n",
              "      <td>กรรมการคนใดคนหนึ่งลงลายมือชื่อร่วมกับกรรมการอื...</td>\n",
              "      <td>0</td>\n",
              "    </tr>\n",
              "    <tr>\n",
              "      <th>2</th>\n",
              "      <td>2</td>\n",
              "      <td>1.055290e+11</td>\n",
              "      <td>กรรมการคนใดคนหนึ่งลงลายมือชื่อร่วมกับกรรมการอื...</td>\n",
              "      <td>11016</td>\n",
              "      <td>['P0163']</td>\n",
              "      <td>อสังหาริมทรัพย์</td>\n",
              "      <td>NaN</td>\n",
              "      <td>0</td>\n",
              "      <td>{'นายพศิน บัวขาว': 'P0028', 'นายธนันทิกานต์ รา...</td>\n",
              "      <td>กรรมการคนใดคนหนึ่งลงลายมือชื่อร่วมกับกรรมการอื...</td>\n",
              "      <td>0</td>\n",
              "    </tr>\n",
              "    <tr>\n",
              "      <th>3</th>\n",
              "      <td>3</td>\n",
              "      <td>1.055290e+11</td>\n",
              "      <td>กรรมการคนใดคนหนึ่งลงลายมือชื่อร่วมกับกรรมการอื...</td>\n",
              "      <td>11016</td>\n",
              "      <td>['P0001']</td>\n",
              "      <td>การทำนิติกรรม หน่วยราชการวิสาหกิจ</td>\n",
              "      <td>NaN</td>\n",
              "      <td>0</td>\n",
              "      <td>{'นายพศิน บัวขาว': 'P0028', 'นายธนันทิกานต์ รา...</td>\n",
              "      <td>กรรมการคนใดคนหนึ่งลงลายมือชื่อร่วมกับกรรมการอื...</td>\n",
              "      <td>0</td>\n",
              "    </tr>\n",
              "    <tr>\n",
              "      <th>4</th>\n",
              "      <td>4</td>\n",
              "      <td>1.055290e+11</td>\n",
              "      <td>กรรมการคนใดคนหนึ่งลงลายมือชื่อร่วมกับกรรมการอื...</td>\n",
              "      <td>11016</td>\n",
              "      <td>['P0263']</td>\n",
              "      <td>อสังหาริมทรัพย์</td>\n",
              "      <td>NaN</td>\n",
              "      <td>0</td>\n",
              "      <td>{'นายพศิน บัวขาว': 'P0028', 'นายธนันทิกานต์ รา...</td>\n",
              "      <td>กรรมการคนใดคนหนึ่งลงลายมือชื่อร่วมกับกรรมการอื...</td>\n",
              "      <td>0</td>\n",
              "    </tr>\n",
              "  </tbody>\n",
              "</table>\n",
              "</div>\n",
              "    <div class=\"colab-df-buttons\">\n",
              "\n",
              "  <div class=\"colab-df-container\">\n",
              "    <button class=\"colab-df-convert\" onclick=\"convertToInteractive('df-0bdeceff-c760-469b-993d-c82c972fecf4')\"\n",
              "            title=\"Convert this dataframe to an interactive table.\"\n",
              "            style=\"display:none;\">\n",
              "\n",
              "  <svg xmlns=\"http://www.w3.org/2000/svg\" height=\"24px\" viewBox=\"0 -960 960 960\">\n",
              "    <path d=\"M120-120v-720h720v720H120Zm60-500h600v-160H180v160Zm220 220h160v-160H400v160Zm0 220h160v-160H400v160ZM180-400h160v-160H180v160Zm440 0h160v-160H620v160ZM180-180h160v-160H180v160Zm440 0h160v-160H620v160Z\"/>\n",
              "  </svg>\n",
              "    </button>\n",
              "\n",
              "  <style>\n",
              "    .colab-df-container {\n",
              "      display:flex;\n",
              "      gap: 12px;\n",
              "    }\n",
              "\n",
              "    .colab-df-convert {\n",
              "      background-color: #E8F0FE;\n",
              "      border: none;\n",
              "      border-radius: 50%;\n",
              "      cursor: pointer;\n",
              "      display: none;\n",
              "      fill: #1967D2;\n",
              "      height: 32px;\n",
              "      padding: 0 0 0 0;\n",
              "      width: 32px;\n",
              "    }\n",
              "\n",
              "    .colab-df-convert:hover {\n",
              "      background-color: #E2EBFA;\n",
              "      box-shadow: 0px 1px 2px rgba(60, 64, 67, 0.3), 0px 1px 3px 1px rgba(60, 64, 67, 0.15);\n",
              "      fill: #174EA6;\n",
              "    }\n",
              "\n",
              "    .colab-df-buttons div {\n",
              "      margin-bottom: 4px;\n",
              "    }\n",
              "\n",
              "    [theme=dark] .colab-df-convert {\n",
              "      background-color: #3B4455;\n",
              "      fill: #D2E3FC;\n",
              "    }\n",
              "\n",
              "    [theme=dark] .colab-df-convert:hover {\n",
              "      background-color: #434B5C;\n",
              "      box-shadow: 0px 1px 3px 1px rgba(0, 0, 0, 0.15);\n",
              "      filter: drop-shadow(0px 1px 2px rgba(0, 0, 0, 0.3));\n",
              "      fill: #FFFFFF;\n",
              "    }\n",
              "  </style>\n",
              "\n",
              "    <script>\n",
              "      const buttonEl =\n",
              "        document.querySelector('#df-0bdeceff-c760-469b-993d-c82c972fecf4 button.colab-df-convert');\n",
              "      buttonEl.style.display =\n",
              "        google.colab.kernel.accessAllowed ? 'block' : 'none';\n",
              "\n",
              "      async function convertToInteractive(key) {\n",
              "        const element = document.querySelector('#df-0bdeceff-c760-469b-993d-c82c972fecf4');\n",
              "        const dataTable =\n",
              "          await google.colab.kernel.invokeFunction('convertToInteractive',\n",
              "                                                    [key], {});\n",
              "        if (!dataTable) return;\n",
              "\n",
              "        const docLinkHtml = 'Like what you see? Visit the ' +\n",
              "          '<a target=\"_blank\" href=https://colab.research.google.com/notebooks/data_table.ipynb>data table notebook</a>'\n",
              "          + ' to learn more about interactive tables.';\n",
              "        element.innerHTML = '';\n",
              "        dataTable['output_type'] = 'display_data';\n",
              "        await google.colab.output.renderOutput(dataTable, element);\n",
              "        const docLink = document.createElement('div');\n",
              "        docLink.innerHTML = docLinkHtml;\n",
              "        element.appendChild(docLink);\n",
              "      }\n",
              "    </script>\n",
              "  </div>\n",
              "\n",
              "\n",
              "<div id=\"df-ea6d921f-9f87-4dfe-b3b9-56739c022ec4\">\n",
              "  <button class=\"colab-df-quickchart\" onclick=\"quickchart('df-ea6d921f-9f87-4dfe-b3b9-56739c022ec4')\"\n",
              "            title=\"Suggest charts\"\n",
              "            style=\"display:none;\">\n",
              "\n",
              "<svg xmlns=\"http://www.w3.org/2000/svg\" height=\"24px\"viewBox=\"0 0 24 24\"\n",
              "     width=\"24px\">\n",
              "    <g>\n",
              "        <path d=\"M19 3H5c-1.1 0-2 .9-2 2v14c0 1.1.9 2 2 2h14c1.1 0 2-.9 2-2V5c0-1.1-.9-2-2-2zM9 17H7v-7h2v7zm4 0h-2V7h2v10zm4 0h-2v-4h2v4z\"/>\n",
              "    </g>\n",
              "</svg>\n",
              "  </button>\n",
              "\n",
              "<style>\n",
              "  .colab-df-quickchart {\n",
              "      --bg-color: #E8F0FE;\n",
              "      --fill-color: #1967D2;\n",
              "      --hover-bg-color: #E2EBFA;\n",
              "      --hover-fill-color: #174EA6;\n",
              "      --disabled-fill-color: #AAA;\n",
              "      --disabled-bg-color: #DDD;\n",
              "  }\n",
              "\n",
              "  [theme=dark] .colab-df-quickchart {\n",
              "      --bg-color: #3B4455;\n",
              "      --fill-color: #D2E3FC;\n",
              "      --hover-bg-color: #434B5C;\n",
              "      --hover-fill-color: #FFFFFF;\n",
              "      --disabled-bg-color: #3B4455;\n",
              "      --disabled-fill-color: #666;\n",
              "  }\n",
              "\n",
              "  .colab-df-quickchart {\n",
              "    background-color: var(--bg-color);\n",
              "    border: none;\n",
              "    border-radius: 50%;\n",
              "    cursor: pointer;\n",
              "    display: none;\n",
              "    fill: var(--fill-color);\n",
              "    height: 32px;\n",
              "    padding: 0;\n",
              "    width: 32px;\n",
              "  }\n",
              "\n",
              "  .colab-df-quickchart:hover {\n",
              "    background-color: var(--hover-bg-color);\n",
              "    box-shadow: 0 1px 2px rgba(60, 64, 67, 0.3), 0 1px 3px 1px rgba(60, 64, 67, 0.15);\n",
              "    fill: var(--button-hover-fill-color);\n",
              "  }\n",
              "\n",
              "  .colab-df-quickchart-complete:disabled,\n",
              "  .colab-df-quickchart-complete:disabled:hover {\n",
              "    background-color: var(--disabled-bg-color);\n",
              "    fill: var(--disabled-fill-color);\n",
              "    box-shadow: none;\n",
              "  }\n",
              "\n",
              "  .colab-df-spinner {\n",
              "    border: 2px solid var(--fill-color);\n",
              "    border-color: transparent;\n",
              "    border-bottom-color: var(--fill-color);\n",
              "    animation:\n",
              "      spin 1s steps(1) infinite;\n",
              "  }\n",
              "\n",
              "  @keyframes spin {\n",
              "    0% {\n",
              "      border-color: transparent;\n",
              "      border-bottom-color: var(--fill-color);\n",
              "      border-left-color: var(--fill-color);\n",
              "    }\n",
              "    20% {\n",
              "      border-color: transparent;\n",
              "      border-left-color: var(--fill-color);\n",
              "      border-top-color: var(--fill-color);\n",
              "    }\n",
              "    30% {\n",
              "      border-color: transparent;\n",
              "      border-left-color: var(--fill-color);\n",
              "      border-top-color: var(--fill-color);\n",
              "      border-right-color: var(--fill-color);\n",
              "    }\n",
              "    40% {\n",
              "      border-color: transparent;\n",
              "      border-right-color: var(--fill-color);\n",
              "      border-top-color: var(--fill-color);\n",
              "    }\n",
              "    60% {\n",
              "      border-color: transparent;\n",
              "      border-right-color: var(--fill-color);\n",
              "    }\n",
              "    80% {\n",
              "      border-color: transparent;\n",
              "      border-right-color: var(--fill-color);\n",
              "      border-bottom-color: var(--fill-color);\n",
              "    }\n",
              "    90% {\n",
              "      border-color: transparent;\n",
              "      border-bottom-color: var(--fill-color);\n",
              "    }\n",
              "  }\n",
              "</style>\n",
              "\n",
              "  <script>\n",
              "    async function quickchart(key) {\n",
              "      const quickchartButtonEl =\n",
              "        document.querySelector('#' + key + ' button');\n",
              "      quickchartButtonEl.disabled = true;  // To prevent multiple clicks.\n",
              "      quickchartButtonEl.classList.add('colab-df-spinner');\n",
              "      try {\n",
              "        const charts = await google.colab.kernel.invokeFunction(\n",
              "            'suggestCharts', [key], {});\n",
              "      } catch (error) {\n",
              "        console.error('Error during call to suggestCharts:', error);\n",
              "      }\n",
              "      quickchartButtonEl.classList.remove('colab-df-spinner');\n",
              "      quickchartButtonEl.classList.add('colab-df-quickchart-complete');\n",
              "    }\n",
              "    (() => {\n",
              "      let quickchartButtonEl =\n",
              "        document.querySelector('#df-ea6d921f-9f87-4dfe-b3b9-56739c022ec4 button');\n",
              "      quickchartButtonEl.style.display =\n",
              "        google.colab.kernel.accessAllowed ? 'block' : 'none';\n",
              "    })();\n",
              "  </script>\n",
              "</div>\n",
              "    </div>\n",
              "  </div>\n"
            ],
            "application/vnd.google.colaboratory.intrinsic+json": {
              "type": "dataframe",
              "variable_name": "train_df",
              "summary": "{\n  \"name\": \"train_df\",\n  \"rows\": 4429,\n  \"fields\": [\n    {\n      \"column\": \"id\",\n      \"properties\": {\n        \"dtype\": \"number\",\n        \"std\": 1278,\n        \"min\": 0,\n        \"max\": 4428,\n        \"num_unique_values\": 4429,\n        \"samples\": [\n          2547,\n          842,\n          4080\n        ],\n        \"semantic_type\": \"\",\n        \"description\": \"\"\n      }\n    },\n    {\n      \"column\": \"rgno\",\n      \"properties\": {\n        \"dtype\": \"number\",\n        \"std\": 168319694550.1372,\n        \"min\": 105484000075.0,\n        \"max\": 965562000191.0,\n        \"num_unique_values\": 144,\n        \"samples\": [\n          225539000194.0,\n          215564010891.0,\n          107558000300.0\n        ],\n        \"semantic_type\": \"\",\n        \"description\": \"\"\n      }\n    },\n    {\n      \"column\": \"context\",\n      \"properties\": {\n        \"dtype\": \"category\",\n        \"num_unique_values\": 139,\n        \"samples\": [\n          \"\\u0e01\\u0e23\\u0e23\\u0e21\\u0e01\\u0e32\\u0e23\\u0e01\\u0e25\\u0e38\\u0e48\\u0e21 \\u0e01. \\u0e44\\u0e14\\u0e49\\u0e41\\u0e01\\u0e48 P0355 , P0133 , P0532 \\u0e01\\u0e23\\u0e23\\u0e21\\u0e01\\u0e32\\u0e23\\u0e01\\u0e25\\u0e38\\u0e48\\u0e21 \\u0e02. \\u0e44\\u0e14\\u0e49\\u0e41\\u0e01\\u0e48 \\u0e19\\u0e32\\u0e22\\u0e09\\u0e32\\u0e07 \\u0e40\\u0e27\\u0e48\\u0e22 \\u0e25\\u0e39\\u0e48, \\u0e19\\u0e32\\u0e22\\u0e2b\\u0e27\\u0e2d\\u0e07 \\u0e40\\u0e2b\\u0e25\\u0e35\\u0e22\\u0e07 \\u0e0a\\u0e38\\u0e22, \\u0e19\\u0e32\\u0e22\\u0e0a\\u0e35\\u0e27 \\u0e2e\\u0e48\\u0e32\\u0e22 \\u0e40\\u0e0a\\u0e35\\u0e22\\u0e19 \\u0e40\\u0e2e\\u0e2a\\u0e40\\u0e15\\u0e2d\\u0e23\\u0e4c\\u0e01\\u0e23\\u0e23\\u0e21\\u0e01\\u0e32\\u0e23\\u0e01\\u0e25\\u0e38\\u0e48\\u0e21 \\u0e01. \\u0e04\\u0e19\\u0e43\\u0e14\\u0e04\\u0e19\\u0e2b\\u0e19\\u0e36\\u0e48\\u0e07\\u0e25\\u0e07\\u0e25\\u0e32\\u0e22\\u0e21\\u0e37\\u0e2d\\u0e0a\\u0e37\\u0e48\\u0e2d\\u0e23\\u0e48\\u0e27\\u0e21\\u0e01\\u0e31\\u0e1a\\u0e01\\u0e23\\u0e23\\u0e21\\u0e01\\u0e32\\u0e23\\u0e01\\u0e25\\u0e38\\u0e48\\u0e21 \\u0e02. \\u0e04\\u0e19\\u0e43\\u0e14\\u0e04\\u0e19\\u0e2b\\u0e19\\u0e36\\u0e48\\u0e07\\u0e23\\u0e27\\u0e21\\u0e40\\u0e1b\\u0e47\\u0e19\\u0e2a\\u0e2d\\u0e07\\u0e04\\u0e19\",\n          \"P0075 \\u0e2b\\u0e23\\u0e37\\u0e2d P0132 \\u0e2b\\u0e23\\u0e37\\u0e2d P0475 \\u0e2b\\u0e23\\u0e37\\u0e2d P0047 \\u0e01\\u0e23\\u0e23\\u0e21\\u0e01\\u0e32\\u0e23\\u0e2a\\u0e2d\\u0e07\\u0e43\\u0e19\\u0e2a\\u0e35\\u0e48\\u0e04\\u0e19\\u0e19\\u0e35\\u0e49\\u0e25\\u0e07\\u0e25\\u0e32\\u0e22\\u0e21\\u0e37\\u0e2d\\u0e0a\\u0e37\\u0e48\\u0e2d\\u0e23\\u0e48\\u0e27\\u0e21\\u0e01\\u0e31\\u0e19\\u0e2b\\u0e23\\u0e37\\u0e2d P0075 \\u0e2b\\u0e23\\u0e37\\u0e2d P0132 \\u0e01\\u0e23\\u0e23\\u0e21\\u0e01\\u0e32\\u0e23\\u0e2b\\u0e19\\u0e36\\u0e48\\u0e07\\u0e43\\u0e19\\u0e2a\\u0e2d\\u0e07\\u0e04\\u0e19\\u0e19\\u0e35\\u0e49\\u0e25\\u0e07\\u0e25\\u0e32\\u0e22\\u0e21\\u0e37\\u0e2d\\u0e0a\\u0e37\\u0e48\\u0e2d\\u0e23\\u0e48\\u0e27\\u0e21\\u0e01\\u0e31\\u0e1a P0367\",\n          \"P0194 \\u0e2b\\u0e23\\u0e37\\u0e2d P0022 \\u0e25\\u0e07\\u0e25\\u0e32\\u0e22\\u0e21\\u0e37\\u0e2d\\u0e0a\\u0e37\\u0e48\\u0e2d\\u0e23\\u0e48\\u0e27\\u0e21\\u0e01\\u0e31\\u0e1a P0407\"\n        ],\n        \"semantic_type\": \"\",\n        \"description\": \"\"\n      }\n    },\n    {\n      \"column\": \"pattern\",\n      \"properties\": {\n        \"dtype\": \"number\",\n        \"std\": 5839,\n        \"min\": 11003,\n        \"max\": 30015,\n        \"num_unique_values\": 35,\n        \"samples\": [\n          30003,\n          20003,\n          20026\n        ],\n        \"semantic_type\": \"\",\n        \"description\": \"\"\n      }\n    },\n    {\n      \"column\": \"question\",\n      \"properties\": {\n        \"dtype\": \"string\",\n        \"num_unique_values\": 3851,\n        \"samples\": [\n          \"['P0046', 'P0123']\",\n          \"['P0518', 'P0086']\",\n          \"['P0148', 'P0047']\"\n        ],\n        \"semantic_type\": \"\",\n        \"description\": \"\"\n      }\n    },\n    {\n      \"column\": \"legal_act\",\n      \"properties\": {\n        \"dtype\": \"category\",\n        \"num_unique_values\": 61,\n        \"samples\": [\n          \"\\u0e01\\u0e32\\u0e23\\u0e17\\u0e33\\u0e19\\u0e34\\u0e15\\u0e34\\u0e01\\u0e23\\u0e23\\u0e21 \\u0e2a\\u0e33\\u0e19\\u0e31\\u0e01\\u0e07\\u0e32\\u0e19\\u0e15\\u0e23\\u0e27\\u0e08\\u0e04\\u0e19\\u0e40\\u0e02\\u0e49\\u0e32\\u0e40\\u0e21\\u0e37\\u0e2d\\u0e07\",\n          \"\\u0e01\\u0e32\\u0e23\\u0e04\\u0e49\\u0e33\\u0e1b\\u0e23\\u0e30\\u0e01\\u0e31\\u0e19\",\n          \"\\u0e01\\u0e32\\u0e23\\u0e27\\u0e48\\u0e32\\u0e08\\u0e49\\u0e32\\u0e07\\u0e1e\\u0e19\\u0e31\\u0e01\\u0e07\\u0e32\\u0e19\"\n        ],\n        \"semantic_type\": \"\",\n        \"description\": \"\"\n      }\n    },\n    {\n      \"column\": \"condition\",\n      \"properties\": {\n        \"dtype\": \"category\",\n        \"num_unique_values\": 27,\n        \"samples\": [\n          \"\\u0e01\\u0e32\\u0e23\\u0e0b\\u0e37\\u0e49\\u0e2d\\u0e02\\u0e32\\u0e22\\u0e17\\u0e23\\u0e31\\u0e1e\\u0e22\\u0e4c\\u0e2a\\u0e34\\u0e19\\u0e02\\u0e2d\\u0e07\\u0e1a\\u0e23\\u0e34\\u0e29\\u0e31\\u0e17\\u0e17\\u0e35\\u0e48\\u0e21\\u0e35\\u0e21\\u0e39\\u0e25\\u0e04\\u0e48\\u0e32\\u0e40\\u0e01\\u0e34\\u0e19\\u0e2b\\u0e19\\u0e36\\u0e48\\u0e07\\u0e25\\u0e49\\u0e32\\u0e19\\u0e1a\\u0e32\\u0e17\",\n          \"\\u0e2a\\u0e33\\u0e2b\\u0e23\\u0e31\\u0e1a\\u0e01\\u0e34\\u0e08\\u0e01\\u0e32\\u0e23\\u0e43\\u0e14\\u0e46 \\u0e17\\u0e35\\u0e48\\u0e21\\u0e35\\u0e21\\u0e39\\u0e25\\u0e04\\u0e48\\u0e32\\u0e44\\u0e21\\u0e48\\u0e40\\u0e01\\u0e34\\u0e19 50,000,000 \\u0e1a\\u0e32\\u0e17(\\u0e2b\\u0e49\\u0e32\\u0e2a\\u0e34\\u0e1a\\u0e25\\u0e49\\u0e32\\u0e19\\u0e1a\\u0e32\\u0e17)\",\n          \"\\u0e01\\u0e23\\u0e13\\u0e35\\u0e25\\u0e07\\u0e19\\u0e32\\u0e21\\u0e43\\u0e19\\u0e40\\u0e0a\\u0e47\\u0e04\"\n        ],\n        \"semantic_type\": \"\",\n        \"description\": \"\"\n      }\n    },\n    {\n      \"column\": \"answer\",\n      \"properties\": {\n        \"dtype\": \"number\",\n        \"std\": 0,\n        \"min\": 0,\n        \"max\": 1,\n        \"num_unique_values\": 2,\n        \"samples\": [\n          1,\n          0\n        ],\n        \"semantic_type\": \"\",\n        \"description\": \"\"\n      }\n    },\n    {\n      \"column\": \"rgno_id\",\n      \"properties\": {\n        \"dtype\": \"category\",\n        \"num_unique_values\": 144,\n        \"samples\": [\n          \"{'\\u0e19\\u0e32\\u0e22\\u0e1b\\u0e31\\u0e0d\\u0e08\\u0e1e\\u0e07\\u0e28\\u0e4c \\u0e20\\u0e39\\u0e1a\\u0e32\\u0e25\\u0e0a\\u0e37\\u0e48\\u0e19': 'P0061', '\\u0e19\\u0e32\\u0e22\\u0e44\\u0e01\\u0e23\\u0e40\\u0e17\\u0e1e \\u0e2a\\u0e34\\u0e23\\u0e34\\u0e2a\\u0e32\\u0e23\\u0e27\\u0e23\\u0e23\\u0e13\\u0e01\\u0e38\\u0e25': 'P0041'}\",\n          \"{'\\u0e19\\u0e32\\u0e07\\u0e2a\\u0e32\\u0e27\\u0e20\\u0e39\\u0e27\\u0e14\\u0e25 \\u0e28\\u0e38\\u0e20\\u0e20\\u0e34\\u0e0d\\u0e42\\u0e0d': 'P0518', '\\u0e19\\u0e32\\u0e22\\u0e2a\\u0e23\\u0e17\\u0e23\\u0e31\\u0e1e\\u0e22\\u0e4c \\u0e25\\u0e35\\u0e25\\u0e32\\u0e15\\u0e31\\u0e07\\u0e27\\u0e31\\u0e12\\u0e19\\u0e4c': 'P0196', '\\u0e19\\u0e32\\u0e07\\u0e2a\\u0e32\\u0e27\\u0e28\\u0e38\\u0e20\\u0e01\\u0e34\\u0e15\\u0e15\\u0e4c \\u0e2d\\u0e36\\u0e49\\u0e07': 'P0011', '\\u0e19\\u0e32\\u0e22\\u0e40\\u0e08\\u0e19\\u0e15\\u0e32 \\u0e27\\u0e07\\u0e28\\u0e4c\\u0e40\\u0e25\\u0e34\\u0e28\\u0e2a\\u0e01\\u0e38\\u0e25': 'P0111'}\"\n        ],\n        \"semantic_type\": \"\",\n        \"description\": \"\"\n      }\n    },\n    {\n      \"column\": \"Text\",\n      \"properties\": {\n        \"dtype\": \"string\",\n        \"num_unique_values\": 4420,\n        \"samples\": [\n          \"P0013 \\u0e25\\u0e07\\u0e25\\u0e32\\u0e22\\u0e21\\u0e37\\u0e2d\\u0e0a\\u0e37\\u0e48\\u0e2d\\u0e23\\u0e48\\u0e27\\u0e21\\u0e01\\u0e31\\u0e1a\\u0e01\\u0e23\\u0e23\\u0e21\\u0e01\\u0e32\\u0e23\\u0e2d\\u0e37\\u0e48\\u0e19\\u0e2d\\u0e35\\u0e01\\u0e2a\\u0e32\\u0e21\\u0e17\\u0e48\\u0e32\\u0e19 \\u0e44\\u0e14\\u0e49\\u0e41\\u0e01\\u0e48 P0208 \\u0e2b\\u0e23\\u0e37\\u0e2d \\u0e19\\u0e32\\u0e07\\u0e1a\\u0e38\\u0e1d\\u0e1c\\u0e32 \\u0e40\\u0e18\\u0e35\\u0e22\\u0e23\\u0e08\\u0e23\\u0e31\\u0e2a\\u0e01\\u0e38\\u0e25 \\u0e2b\\u0e23\\u0e37\\u0e2d P0174 \\u0e2b\\u0e23\\u0e37\\u0e2d P0312 \\u0e23\\u0e27\\u0e21\\u0e40\\u0e1b\\u0e47\\u0e19\\u0e2a\\u0e35\\u0e48\\u0e17\\u0e48\\u0e32\\u0e19\\u0e41\\u0e25\\u0e30\\u0e1b\\u0e23\\u0e30\\u0e17\\u0e31\\u0e1a\\u0e15\\u0e23\\u0e32\\u0e2a\\u0e33\\u0e04\\u0e31\\u0e0d\\u0e02\\u0e2d\\u0e07\\u0e1a\\u0e23\\u0e34\\u0e29\\u0e31\\u0e17, ['P0020', 'P0312', 'P0174'], \\u0e01\\u0e32\\u0e23\\u0e01\\u0e39\\u0e49\\u0e22\\u0e37\\u0e21\\u0e40\\u0e07\\u0e34\\u0e19\",\n          \"P0196 \\u0e41\\u0e25\\u0e30 P0379 \\u0e25\\u0e07\\u0e25\\u0e32\\u0e22\\u0e21\\u0e37\\u0e2d\\u0e0a\\u0e37\\u0e48\\u0e2d\\u0e23\\u0e48\\u0e27\\u0e21\\u0e01\\u0e31\\u0e1a \\u0e01\\u0e23\\u0e23\\u0e21\\u0e01\\u0e32\\u0e23\\u0e2a\\u0e2d\\u0e07\\u0e43\\u0e19\\u0e2a\\u0e35\\u0e48\\u0e04\\u0e19\\u0e15\\u0e48\\u0e2d\\u0e44\\u0e1b\\u0e19\\u0e35\\u0e49 P0158 \\u0e2b\\u0e23\\u0e37\\u0e2d P0583 \\u0e2b\\u0e23\\u0e37\\u0e2d P0101 \\u0e2b\\u0e23\\u0e37\\u0e2d P0412 \\u0e23\\u0e27\\u0e21\\u0e40\\u0e1b\\u0e47\\u0e19\\u0e2a\\u0e35\\u0e48\\u0e04\\u0e19\\u0e41\\u0e25\\u0e30\\u0e1b\\u0e23\\u0e30\\u0e17\\u0e31\\u0e1a\\u0e15\\u0e23\\u0e32\\u0e2a\\u0e33\\u0e04\\u0e31\\u0e0d\\u0e02\\u0e2d\\u0e07\\u0e1a\\u0e23\\u0e34\\u0e29\\u0e31\\u0e17, ['P0196', 'P0583'], \\u0e01\\u0e32\\u0e23\\u0e17\\u0e33\\u0e19\\u0e34\\u0e15\\u0e34\\u0e01\\u0e23\\u0e23\\u0e21\"\n        ],\n        \"semantic_type\": \"\",\n        \"description\": \"\"\n      }\n    },\n    {\n      \"column\": \"Label\",\n      \"properties\": {\n        \"dtype\": \"number\",\n        \"std\": 0,\n        \"min\": 0,\n        \"max\": 1,\n        \"num_unique_values\": 2,\n        \"samples\": [\n          1,\n          0\n        ],\n        \"semantic_type\": \"\",\n        \"description\": \"\"\n      }\n    }\n  ]\n}"
            }
          },
          "metadata": {},
          "execution_count": 668
        }
      ]
    },
    {
      "cell_type": "code",
      "source": [
        "def encoder(text_seq):\n",
        "  return tokenizer(text_seq, padding=True, truncation=True, return_tensors='pt')"
      ],
      "metadata": {
        "id": "aqtjaHiY3TPX"
      },
      "execution_count": 669,
      "outputs": []
    },
    {
      "cell_type": "code",
      "source": [
        "# train_set['Text'] = train_set['Text'].map(encoder)"
      ],
      "metadata": {
        "id": "Q-1GggV_278D"
      },
      "execution_count": 670,
      "outputs": []
    },
    {
      "cell_type": "code",
      "source": [
        "from transformers import AutoModelForSequenceClassification\n",
        "\n",
        "model = AutoModelForSequenceClassification.from_pretrained(\"airesearch/wangchanberta-base-att-spm-uncased\", num_labels=2)"
      ],
      "metadata": {
        "execution": {
          "iopub.status.busy": "2024-05-07T09:55:03.527132Z",
          "iopub.execute_input": "2024-05-07T09:55:03.527545Z",
          "iopub.status.idle": "2024-05-07T09:55:03.828044Z",
          "shell.execute_reply.started": "2024-05-07T09:55:03.527514Z",
          "shell.execute_reply": "2024-05-07T09:55:03.827330Z"
        },
        "trusted": true,
        "colab": {
          "base_uri": "https://localhost:8080/"
        },
        "id": "kNpO1DS6ui5d",
        "outputId": "69b8d398-a2b5-416e-a220-0149c2c1e946"
      },
      "execution_count": 671,
      "outputs": [
        {
          "output_type": "stream",
          "name": "stderr",
          "text": [
            "Some weights of CamembertForSequenceClassification were not initialized from the model checkpoint at airesearch/wangchanberta-base-att-spm-uncased and are newly initialized: ['classifier.dense.bias', 'classifier.dense.weight', 'classifier.out_proj.bias', 'classifier.out_proj.weight']\n",
            "You should probably TRAIN this model on a down-stream task to be able to use it for predictions and inference.\n"
          ]
        }
      ]
    },
    {
      "cell_type": "code",
      "source": [
        "model"
      ],
      "metadata": {
        "execution": {
          "iopub.status.busy": "2024-05-07T09:55:07.806975Z",
          "iopub.execute_input": "2024-05-07T09:55:07.807629Z",
          "iopub.status.idle": "2024-05-07T09:55:07.816887Z",
          "shell.execute_reply.started": "2024-05-07T09:55:07.807597Z",
          "shell.execute_reply": "2024-05-07T09:55:07.815888Z"
        },
        "trusted": true,
        "colab": {
          "base_uri": "https://localhost:8080/"
        },
        "id": "OJq7y8Skui5d",
        "outputId": "02b4e9e2-8865-41b4-de49-774656988e2f"
      },
      "execution_count": 672,
      "outputs": [
        {
          "output_type": "execute_result",
          "data": {
            "text/plain": [
              "CamembertForSequenceClassification(\n",
              "  (roberta): CamembertModel(\n",
              "    (embeddings): CamembertEmbeddings(\n",
              "      (word_embeddings): Embedding(25005, 768, padding_idx=1)\n",
              "      (position_embeddings): Embedding(512, 768, padding_idx=1)\n",
              "      (token_type_embeddings): Embedding(1, 768)\n",
              "      (LayerNorm): LayerNorm((768,), eps=1e-12, elementwise_affine=True)\n",
              "      (dropout): Dropout(p=0.1, inplace=False)\n",
              "    )\n",
              "    (encoder): CamembertEncoder(\n",
              "      (layer): ModuleList(\n",
              "        (0-11): 12 x CamembertLayer(\n",
              "          (attention): CamembertAttention(\n",
              "            (self): CamembertSelfAttention(\n",
              "              (query): Linear(in_features=768, out_features=768, bias=True)\n",
              "              (key): Linear(in_features=768, out_features=768, bias=True)\n",
              "              (value): Linear(in_features=768, out_features=768, bias=True)\n",
              "              (dropout): Dropout(p=0.1, inplace=False)\n",
              "            )\n",
              "            (output): CamembertSelfOutput(\n",
              "              (dense): Linear(in_features=768, out_features=768, bias=True)\n",
              "              (LayerNorm): LayerNorm((768,), eps=1e-12, elementwise_affine=True)\n",
              "              (dropout): Dropout(p=0.1, inplace=False)\n",
              "            )\n",
              "          )\n",
              "          (intermediate): CamembertIntermediate(\n",
              "            (dense): Linear(in_features=768, out_features=3072, bias=True)\n",
              "            (intermediate_act_fn): GELUActivation()\n",
              "          )\n",
              "          (output): CamembertOutput(\n",
              "            (dense): Linear(in_features=3072, out_features=768, bias=True)\n",
              "            (LayerNorm): LayerNorm((768,), eps=1e-12, elementwise_affine=True)\n",
              "            (dropout): Dropout(p=0.1, inplace=False)\n",
              "          )\n",
              "        )\n",
              "      )\n",
              "    )\n",
              "  )\n",
              "  (classifier): CamembertClassificationHead(\n",
              "    (dense): Linear(in_features=768, out_features=768, bias=True)\n",
              "    (dropout): Dropout(p=0.1, inplace=False)\n",
              "    (out_proj): Linear(in_features=768, out_features=2, bias=True)\n",
              "  )\n",
              ")"
            ]
          },
          "metadata": {},
          "execution_count": 672
        }
      ]
    },
    {
      "cell_type": "code",
      "source": [
        "criterion = nn.CrossEntropyLoss()\n",
        "optimizer = optim.AdamW(model.parameters(), lr=2e-5)"
      ],
      "metadata": {
        "execution": {
          "iopub.status.busy": "2024-05-07T09:59:10.100453Z",
          "iopub.execute_input": "2024-05-07T09:59:10.101190Z",
          "iopub.status.idle": "2024-05-07T09:59:10.107496Z",
          "shell.execute_reply.started": "2024-05-07T09:59:10.101158Z",
          "shell.execute_reply": "2024-05-07T09:59:10.106499Z"
        },
        "trusted": true,
        "id": "aj0fykWsui5d"
      },
      "execution_count": 673,
      "outputs": []
    },
    {
      "cell_type": "code",
      "source": [
        "# train_loader = DataLoader(train_set, batch_size=16, shuffle=True)\n",
        "# test_loader = DataLoader(val_set, batch_size=16)"
      ],
      "metadata": {
        "id": "RQopAj4J7HCV"
      },
      "execution_count": 674,
      "outputs": []
    },
    {
      "cell_type": "code",
      "source": [
        "# def train(model, optimizer, train_loader, criterion):\n",
        "#     model.train()\n",
        "#     total_loss = 0\n",
        "\n",
        "#     for batch in train_loader:\n",
        "#         optimizer.zero_grad()\n",
        "#         input_ids, attention_mask, labels = batch\n",
        "#         outputs = model(input_ids, attention_mask)\n",
        "#         loss = criterion(outputs, labels)\n",
        "#         loss.backward()\n",
        "#         optimizer.step()\n",
        "#         total_loss += loss.item()\n",
        "#     print(f'Training loss: {total_loss/len(train_loader)}')"
      ],
      "metadata": {
        "id": "MVpIAFAd7MAf"
      },
      "execution_count": 675,
      "outputs": []
    },
    {
      "cell_type": "code",
      "source": [
        "# def evaluate(model, test_loader, criterion):\n",
        "#     model.eval()\n",
        "#     total_loss = 0\n",
        "#     total_acc = 0\n",
        "\n",
        "#     with torch.no_grad():\n",
        "#         for batch in test_loader:\n",
        "#             input_ids, attention_mask, labels = batch\n",
        "#             outputs = model(input_ids, attention_mask)\n",
        "#             loss = criterion(outputs, labels)\n",
        "#             total_loss += loss.item()\n",
        "#             predictions = torch.argmax(outputs, dim=1)\n",
        "#             total_acc += (predictions == labels).sum().item()\n",
        "\n",
        "#     print(f'Test loss: {total_loss/len(test_loader)} Test acc: {total_acc/len(test_set)*100}%')"
      ],
      "metadata": {
        "id": "WNRC-4mo7hD9"
      },
      "execution_count": 676,
      "outputs": []
    },
    {
      "cell_type": "code",
      "source": [
        "# for epoch in range(3):\n",
        "#     train(model, optimizer, train_loader, criterion)\n",
        "#     evaluate(model, test_loader, criterion)"
      ],
      "metadata": {
        "id": "W7p1ADxP7nmz"
      },
      "execution_count": 677,
      "outputs": []
    },
    {
      "cell_type": "code",
      "source": [
        "train_df['Text'].map(len).max()"
      ],
      "metadata": {
        "colab": {
          "base_uri": "https://localhost:8080/"
        },
        "id": "PxjhhlIOEn9z",
        "outputId": "efd02c47-1499-4cd0-e839-f558fba25c90"
      },
      "execution_count": 678,
      "outputs": [
        {
          "output_type": "execute_result",
          "data": {
            "text/plain": [
              "2934"
            ]
          },
          "metadata": {},
          "execution_count": 678
        }
      ]
    },
    {
      "cell_type": "code",
      "source": [
        "# df = df.iloc[:100, :]\n",
        "# df_test = df_test.iloc[:100, :]"
      ],
      "metadata": {
        "id": "tsNOKbAlF6jz"
      },
      "execution_count": 679,
      "outputs": []
    },
    {
      "cell_type": "code",
      "source": [
        "import string\n",
        "import numpy as np\n",
        "def add_tag(length, max_digit = 5, lowercase_letters = string.ascii_lowercase.upper()):\n",
        "    all_tag = []\n",
        "    run_digit = np.zeros(max_digit, dtype=int)\n",
        "    for l in range(length):\n",
        "        tag = ''\n",
        "        for d in range(max_digit):\n",
        "            try:\n",
        "                tag += lowercase_letters[run_digit[d]]\n",
        "                for ndg in range(max_digit - 1, -1, -1):\n",
        "                    if run_digit[ndg] >= len(lowercase_letters):\n",
        "                        run_digit[ndg] = 0\n",
        "                        run_digit[ndg - 1] += 1\n",
        "            except:\n",
        "                raise Exception('Please increase max_digit')\n",
        "        run_digit[-1] += 1\n",
        "        all_tag.append(tag)\n",
        "    return all_tag"
      ],
      "metadata": {
        "id": "NOkY74_BF6rH"
      },
      "execution_count": 680,
      "outputs": []
    },
    {
      "cell_type": "code",
      "source": [
        "# ['P' + i for i in add_tag(9999, 4, '0123456789')]"
      ],
      "metadata": {
        "id": "T8Gd7jc10mEK"
      },
      "execution_count": 681,
      "outputs": []
    },
    {
      "cell_type": "code",
      "source": [
        "from torch.utils.data import TensorDataset, DataLoader, RandomSampler, SequentialSampler,random_split"
      ],
      "metadata": {
        "id": "9he7ITMinvMU"
      },
      "execution_count": 682,
      "outputs": []
    },
    {
      "cell_type": "code",
      "source": [
        "vocab = ['[PAD]', '[CLS]', '[SEP]', '[MASK]']\n",
        "vocab.extend(['P' + i for i in add_tag(1000, 4, '0123456789')])\n",
        "vocab.extend(error_tokens)\n",
        "vocab = '\\n'.join(vocab)\n",
        "vocab[:100]"
      ],
      "metadata": {
        "colab": {
          "base_uri": "https://localhost:8080/",
          "height": 36
        },
        "id": "mfZbYhzWAqzL",
        "outputId": "0f66decb-97e7-40c6-f1db-cb38d9b8e326"
      },
      "execution_count": 683,
      "outputs": [
        {
          "output_type": "execute_result",
          "data": {
            "text/plain": [
              "'[PAD]\\n[CLS]\\n[SEP]\\n[MASK]\\nP0000\\nP0001\\nP0002\\nP0003\\nP0004\\nP0005\\nP0006\\nP0007\\nP0008\\nP0009\\nP0010\\nP0011\\nP00'"
            ],
            "application/vnd.google.colaboratory.intrinsic+json": {
              "type": "string"
            }
          },
          "metadata": {},
          "execution_count": 683
        }
      ]
    },
    {
      "cell_type": "code",
      "source": [
        "with open('vocabulary.vocab', 'w') as file:\n",
        "  file.write(vocab)\n",
        "  # for element in unique_list:\n",
        "  #   file.write(element+'\\n')"
      ],
      "metadata": {
        "id": "mUGwaWJ3DFDH"
      },
      "execution_count": 684,
      "outputs": []
    },
    {
      "cell_type": "code",
      "source": [
        "input_ids = []\n",
        "attention_masks = []\n",
        "max_len = 512\n",
        "\n",
        "tokenizer = AutoTokenizer.from_pretrained(\"airesearch/wangchanberta-base-att-spm-uncased\")\n",
        "tokenizer.add_tokens(['vocabulary.vocab'])\n",
        "\n",
        "# For every tweet...\n",
        "for sentence in df['Text']:\n",
        "    # `encode_plus` will:\n",
        "    #   (1) Tokenize the sentence.\n",
        "    #   (2) Prepend the `[CLS]` token to the start.\n",
        "    #   (3) Append the `[SEP]` token to the end.\n",
        "    #   (4) Map tokens to their IDs.\n",
        "    #   (5) Pad or truncate the sentence to `max_length`\n",
        "    #   (6) Create attention masks for [PAD] tokens.\n",
        "    encoded_dict = tokenizer.encode_plus(\n",
        "                        sentence,                      # Sentence to encode.\n",
        "                        add_special_tokens = True, # Add '[CLS]' and '[SEP]'\n",
        "                        max_length = max_len,           # Pad & truncate all sentences.\n",
        "                        pad_to_max_length = True,\n",
        "                        return_attention_mask = True,   # Construct attn. masks.\n",
        "                        return_tensors = 'pt',     # Return pytorch tensors.\n",
        "                   )\n",
        "\n",
        "    # Add the encoded sentence to the list.\n",
        "    input_ids.append(encoded_dict['input_ids'])\n",
        "\n",
        "    # And its attention mask (simply differentiates padding from non-padding).\n",
        "    attention_masks.append(encoded_dict['attention_mask'])\n",
        "\n",
        "# Convert the lists into tensors.\n",
        "input_ids = torch.cat(input_ids, dim=0)\n",
        "attention_masks = torch.cat(attention_masks, dim=0)\n",
        "labels = torch.tensor(df['Label'])\n",
        "\n",
        "# Print sentence 0, now as a list of IDs.\n",
        "print('Original: ', df['Text'][1684])\n",
        "print('Token IDs:', input_ids[1684])"
      ],
      "metadata": {
        "id": "ZOc5ssuZi9Le",
        "colab": {
          "base_uri": "https://localhost:8080/"
        },
        "outputId": "8e3cd05a-0c69-4294-f346-db407a0c1218"
      },
      "execution_count": 685,
      "outputs": [
        {
          "output_type": "stream",
          "name": "stderr",
          "text": [
            "Truncation was not explicitly activated but `max_length` is provided a specific value, please use `truncation=True` to explicitly truncate examples to max length. Defaulting to 'longest_first' truncation strategy. If you encode pairs of sequences (GLUE-style) with the tokenizer you can select this strategy more precisely by providing a specific strategy to `truncation`.\n",
            "/usr/local/lib/python3.10/dist-packages/transformers/tokenization_utils_base.py:2674: FutureWarning: The `pad_to_max_length` argument is deprecated and will be removed in a future version, use `padding=True` or `padding='longest'` to pad to the longest sequence in the batch, or use `padding='max_length'` to pad to a max length. In this case, you can give a specific length with `max_length` (e.g. `max_length=45`) or leave max_length to None to pad to the maximal input size of the model (e.g. 512 for Bert).\n",
            "  warnings.warn(\n"
          ]
        },
        {
          "output_type": "stream",
          "name": "stdout",
          "text": [
            "Original:  P0077 ลงลายมือชื่อร่วมกับ P0221 หรือ P0224 รวมเป็นสองคน, ['P0224'], การซื้อขายทรัพย์สิน\n",
            "Token IDs: tensor([    5,    10,     3,  3357,  3947,    10,   154, 23597,   899,    10,\n",
            "            3,  6445,   850,    10,    31,    10,     3,  6445,   447,    10,\n",
            "        11775,  2356,    14,  1599,   146,     3,  6445,   447,   146,   711,\n",
            "           14,    10,  7797,  1268,     6,     1,     1,     1,     1,     1,\n",
            "            1,     1,     1,     1,     1,     1,     1,     1,     1,     1,\n",
            "            1,     1,     1,     1,     1,     1,     1,     1,     1,     1,\n",
            "            1,     1,     1,     1,     1,     1,     1,     1,     1,     1,\n",
            "            1,     1,     1,     1,     1,     1,     1,     1,     1,     1,\n",
            "            1,     1,     1,     1,     1,     1,     1,     1,     1,     1,\n",
            "            1,     1,     1,     1,     1,     1,     1,     1,     1,     1,\n",
            "            1,     1,     1,     1,     1,     1,     1,     1,     1,     1,\n",
            "            1,     1,     1,     1,     1,     1,     1,     1,     1,     1,\n",
            "            1,     1,     1,     1,     1,     1,     1,     1,     1,     1,\n",
            "            1,     1,     1,     1,     1,     1,     1,     1,     1,     1,\n",
            "            1,     1,     1,     1,     1,     1,     1,     1,     1,     1,\n",
            "            1,     1,     1,     1,     1,     1,     1,     1,     1,     1,\n",
            "            1,     1,     1,     1,     1,     1,     1,     1,     1,     1,\n",
            "            1,     1,     1,     1,     1,     1,     1,     1,     1,     1,\n",
            "            1,     1,     1,     1,     1,     1,     1,     1,     1,     1,\n",
            "            1,     1,     1,     1,     1,     1,     1,     1,     1,     1,\n",
            "            1,     1,     1,     1,     1,     1,     1,     1,     1,     1,\n",
            "            1,     1,     1,     1,     1,     1,     1,     1,     1,     1,\n",
            "            1,     1,     1,     1,     1,     1,     1,     1,     1,     1,\n",
            "            1,     1,     1,     1,     1,     1,     1,     1,     1,     1,\n",
            "            1,     1,     1,     1,     1,     1,     1,     1,     1,     1,\n",
            "            1,     1,     1,     1,     1,     1,     1,     1,     1,     1,\n",
            "            1,     1,     1,     1,     1,     1,     1,     1,     1,     1,\n",
            "            1,     1,     1,     1,     1,     1,     1,     1,     1,     1,\n",
            "            1,     1,     1,     1,     1,     1,     1,     1,     1,     1,\n",
            "            1,     1,     1,     1,     1,     1,     1,     1,     1,     1,\n",
            "            1,     1,     1,     1,     1,     1,     1,     1,     1,     1,\n",
            "            1,     1,     1,     1,     1,     1,     1,     1,     1,     1,\n",
            "            1,     1,     1,     1,     1,     1,     1,     1,     1,     1,\n",
            "            1,     1,     1,     1,     1,     1,     1,     1,     1,     1,\n",
            "            1,     1,     1,     1,     1,     1,     1,     1,     1,     1,\n",
            "            1,     1,     1,     1,     1,     1,     1,     1,     1,     1,\n",
            "            1,     1,     1,     1,     1,     1,     1,     1,     1,     1,\n",
            "            1,     1,     1,     1,     1,     1,     1,     1,     1,     1,\n",
            "            1,     1,     1,     1,     1,     1,     1,     1,     1,     1,\n",
            "            1,     1,     1,     1,     1,     1,     1,     1,     1,     1,\n",
            "            1,     1,     1,     1,     1,     1,     1,     1,     1,     1,\n",
            "            1,     1,     1,     1,     1,     1,     1,     1,     1,     1,\n",
            "            1,     1,     1,     1,     1,     1,     1,     1,     1,     1,\n",
            "            1,     1,     1,     1,     1,     1,     1,     1,     1,     1,\n",
            "            1,     1,     1,     1,     1,     1,     1,     1,     1,     1,\n",
            "            1,     1,     1,     1,     1,     1,     1,     1,     1,     1,\n",
            "            1,     1,     1,     1,     1,     1,     1,     1,     1,     1,\n",
            "            1,     1,     1,     1,     1,     1,     1,     1,     1,     1,\n",
            "            1,     1,     1,     1,     1,     1,     1,     1,     1,     1,\n",
            "            1,     1,     1,     1,     1,     1,     1,     1,     1,     1,\n",
            "            1,     1,     1,     1,     1,     1,     1,     1,     1,     1,\n",
            "            1,     1])\n"
          ]
        }
      ]
    },
    {
      "cell_type": "code",
      "source": [
        "\n",
        "# Combine the training inputs into a TensorDataset.\n",
        "dataset = TensorDataset(input_ids, attention_masks, labels)\n",
        "\n",
        "# Create a 90-10 train-validation split.\n",
        "\n",
        "# Calculate the number of samples to include in each set.\n",
        "train_size = int(0.8 * len(dataset))\n",
        "#val_size = int(0.2 * len(dataset))\n",
        "val_size = len(dataset)  - train_size\n",
        "\n",
        "# Divide the dataset by randomly selecting samples.\n",
        "train_dataset, val_dataset = random_split(dataset, [train_size, val_size])\n",
        "\n",
        "print('{:>5,} training samples'.format(train_size))\n",
        "print('{:>5,} validation samples'.format(val_size))"
      ],
      "metadata": {
        "colab": {
          "base_uri": "https://localhost:8080/"
        },
        "id": "A0RZQB_gi9Ns",
        "outputId": "05603092-cfcf-4b5d-91d4-f88aa065ee58"
      },
      "execution_count": 686,
      "outputs": [
        {
          "output_type": "stream",
          "name": "stdout",
          "text": [
            "3,543 training samples\n",
            "  886 validation samples\n"
          ]
        }
      ]
    },
    {
      "cell_type": "code",
      "source": [
        "input_ids = []\n",
        "attention_masks = []\n",
        "max_len = 512\n",
        "\n",
        "# For every tweet...\n",
        "for sentence in df_test['Text']:\n",
        "    # `encode_plus` will:\n",
        "    #   (1) Tokenize the sentence.\n",
        "    #   (2) Prepend the `[CLS]` token to the start.\n",
        "    #   (3) Append the `[SEP]` token to the end.\n",
        "    #   (4) Map tokens to their IDs.\n",
        "    #   (5) Pad or truncate the sentence to `max_length`\n",
        "    #   (6) Create attention masks for [PAD] tokens.\n",
        "    encoded_dict = tokenizer.encode_plus(\n",
        "                        sentence,                      # Sentence to encode.\n",
        "                        add_special_tokens = True, # Add '[CLS]' and '[SEP]'\n",
        "                        max_length = max_len,           # Pad & truncate all sentences.\n",
        "                        pad_to_max_length = True,\n",
        "                        return_attention_mask = True,   # Construct attn. masks.\n",
        "                        return_tensors = 'pt',     # Return pytorch tensors.\n",
        "                   )\n",
        "\n",
        "    # Add the encoded sentence to the list.\n",
        "    input_ids.append(encoded_dict['input_ids'])\n",
        "\n",
        "    # And its attention mask (simply differentiates padding from non-padding).\n",
        "    attention_masks.append(encoded_dict['attention_mask'])\n",
        "\n",
        "# Convert the lists into tensors.\n",
        "input_ids = torch.cat(input_ids, dim=0)\n",
        "attention_masks = torch.cat(attention_masks, dim=0)\n",
        "# labels = torch.tensor(df_test['Label'])\n",
        "\n",
        "# Print sentence 0, now as a list of IDs.\n",
        "print('Original: ', df_test['Text'][1684])\n",
        "print('Token IDs:', input_ids[1684])"
      ],
      "metadata": {
        "id": "rweFmSfLDXHn",
        "colab": {
          "base_uri": "https://localhost:8080/"
        },
        "outputId": "375a8eb8-158a-448b-cddd-f151f12be18e"
      },
      "execution_count": 687,
      "outputs": [
        {
          "output_type": "stream",
          "name": "stdout",
          "text": [
            "Original:  กรรมการกลุ่มที่ 1 คือ P0077 หรือ P0506 หรือ P0026 หรือ P0098 หรือ P0214 และกรรมการกลุ่มที่ 2 คือ P0103 หรือ P0133 หรือ P0147 กรรมการกลุ่มที่ 1 จำนวน 2 คน ลงลายมือชื่อร่วมกับกรรมการกลุ่มที่ 2 จำนวน 1 คน, ['P0077', 'P0103', 'P0133'], การทำนิติกรรม สำนักงานตรวจคนเข้าเมือง\n",
            "Token IDs: tensor([    5,    10,   994,  7805,    10,    59,  2168,    10,     3,  3357,\n",
            "         3947,    10,    31,    10,     3,  6279,  5237,    10,    31,    10,\n",
            "            3,  3357,   921,    10,    31,    10,     3,  3357,  5169,    10,\n",
            "           31,    10,     3,  6445,   514,   222,   994,  7805,    10,    47,\n",
            "         2168,    10,     3,  1208, 17236,    10,    31,    10,     3,  5658,\n",
            "         2195,    10,    31,    10,     3,  5658,  3046,    10,   994,  7805,\n",
            "           10,    59,    10,   207,    10,    47,  2246,    10,   154, 23597,\n",
            "          899,   994,  7805,    10,    47,    10,   207,    10,    59,  2246,\n",
            "           14,  1599,   146,     3,  3357,  3947,   146,    14,  3191,     3,\n",
            "         1208, 17236,   146,    14,  3191,     3,  5658,  2195,   146,   711,\n",
            "           14,    10,  1598, 10974,    10,   442, 13320,   161,     6,     1,\n",
            "            1,     1,     1,     1,     1,     1,     1,     1,     1,     1,\n",
            "            1,     1,     1,     1,     1,     1,     1,     1,     1,     1,\n",
            "            1,     1,     1,     1,     1,     1,     1,     1,     1,     1,\n",
            "            1,     1,     1,     1,     1,     1,     1,     1,     1,     1,\n",
            "            1,     1,     1,     1,     1,     1,     1,     1,     1,     1,\n",
            "            1,     1,     1,     1,     1,     1,     1,     1,     1,     1,\n",
            "            1,     1,     1,     1,     1,     1,     1,     1,     1,     1,\n",
            "            1,     1,     1,     1,     1,     1,     1,     1,     1,     1,\n",
            "            1,     1,     1,     1,     1,     1,     1,     1,     1,     1,\n",
            "            1,     1,     1,     1,     1,     1,     1,     1,     1,     1,\n",
            "            1,     1,     1,     1,     1,     1,     1,     1,     1,     1,\n",
            "            1,     1,     1,     1,     1,     1,     1,     1,     1,     1,\n",
            "            1,     1,     1,     1,     1,     1,     1,     1,     1,     1,\n",
            "            1,     1,     1,     1,     1,     1,     1,     1,     1,     1,\n",
            "            1,     1,     1,     1,     1,     1,     1,     1,     1,     1,\n",
            "            1,     1,     1,     1,     1,     1,     1,     1,     1,     1,\n",
            "            1,     1,     1,     1,     1,     1,     1,     1,     1,     1,\n",
            "            1,     1,     1,     1,     1,     1,     1,     1,     1,     1,\n",
            "            1,     1,     1,     1,     1,     1,     1,     1,     1,     1,\n",
            "            1,     1,     1,     1,     1,     1,     1,     1,     1,     1,\n",
            "            1,     1,     1,     1,     1,     1,     1,     1,     1,     1,\n",
            "            1,     1,     1,     1,     1,     1,     1,     1,     1,     1,\n",
            "            1,     1,     1,     1,     1,     1,     1,     1,     1,     1,\n",
            "            1,     1,     1,     1,     1,     1,     1,     1,     1,     1,\n",
            "            1,     1,     1,     1,     1,     1,     1,     1,     1,     1,\n",
            "            1,     1,     1,     1,     1,     1,     1,     1,     1,     1,\n",
            "            1,     1,     1,     1,     1,     1,     1,     1,     1,     1,\n",
            "            1,     1,     1,     1,     1,     1,     1,     1,     1,     1,\n",
            "            1,     1,     1,     1,     1,     1,     1,     1,     1,     1,\n",
            "            1,     1,     1,     1,     1,     1,     1,     1,     1,     1,\n",
            "            1,     1,     1,     1,     1,     1,     1,     1,     1,     1,\n",
            "            1,     1,     1,     1,     1,     1,     1,     1,     1,     1,\n",
            "            1,     1,     1,     1,     1,     1,     1,     1,     1,     1,\n",
            "            1,     1,     1,     1,     1,     1,     1,     1,     1,     1,\n",
            "            1,     1,     1,     1,     1,     1,     1,     1,     1,     1,\n",
            "            1,     1,     1,     1,     1,     1,     1,     1,     1,     1,\n",
            "            1,     1,     1,     1,     1,     1,     1,     1,     1,     1,\n",
            "            1,     1,     1,     1,     1,     1,     1,     1,     1,     1,\n",
            "            1,     1,     1,     1,     1,     1,     1,     1,     1,     1,\n",
            "            1,     1,     1,     1,     1,     1,     1,     1,     1,     1,\n",
            "            1,     1])\n"
          ]
        }
      ]
    },
    {
      "cell_type": "code",
      "source": [
        "# Combine the training inputs into a TensorDataset.\n",
        "test_dataset = TensorDataset(input_ids, attention_masks)"
      ],
      "metadata": {
        "id": "5GSIyNiUDXH2"
      },
      "execution_count": 688,
      "outputs": []
    },
    {
      "cell_type": "code",
      "source": [
        "# The DataLoader needs to know our batch size for training, so we specify it\n",
        "# here. For fine-tuning BERT on a specific task, the authors recommend a batch\n",
        "# size of 16 or 32.\n",
        "batch_size = 16\n",
        "\n",
        "# Create the DataLoaders for our training and validation sets.\n",
        "# We'll take training samples in random order.\n",
        "train_dataloader = DataLoader(\n",
        "            train_dataset,  # The training samples.\n",
        "            sampler = RandomSampler(train_dataset), # Select batches randomly\n",
        "            batch_size = batch_size # Trains with this batch size.\n",
        "        )\n",
        "\n",
        "# For validation the order doesn't matter, so we'll just read them sequentially.\n",
        "validation_dataloader = DataLoader(\n",
        "            val_dataset, # The validation samples.\n",
        "            sampler = SequentialSampler(val_dataset), # Pull out batches sequentially.\n",
        "            batch_size = batch_size # Evaluate with this batch size.\n",
        "        )\n",
        "\n",
        "test_dataloader = DataLoader(\n",
        "            test_dataset, # The validation samples.\n",
        "            sampler = SequentialSampler(test_dataset), # Pull out batches sequentially.\n",
        "            batch_size = batch_size # Evaluate with this batch size.\n",
        "        )"
      ],
      "metadata": {
        "id": "SQ66QTrci9Pu"
      },
      "execution_count": 689,
      "outputs": []
    },
    {
      "cell_type": "code",
      "source": [
        "from transformers import BertForSequenceClassification, AdamW, BertConfig,BertTokenizer,get_linear_schedule_with_warmup"
      ],
      "metadata": {
        "id": "cUgV9vbsrGPX"
      },
      "execution_count": 690,
      "outputs": []
    },
    {
      "cell_type": "code",
      "source": [
        "# Load BertForSequenceClassification, the pretrained BERT model with a single\n",
        "# linear classification layer on top.\n",
        "model = BertForSequenceClassification.from_pretrained(\n",
        "    \"airesearch/wangchanberta-base-att-spm-uncased\", # Use the 12-layer BERT model, with an uncased vocab.\n",
        "    num_labels = 2, # The number of output labels--2 for binary classification.\n",
        "                    # You can increase this for multi-class tasks.\n",
        "    output_attentions = False, # Whether the model returns attentions weights.\n",
        "    output_hidden_states = False, # Whether the model returns all hidden-states.\n",
        ")\n",
        "\n",
        "# if device == \"cuda:0\":\n",
        "# # Tell pytorch to run this model on the GPU.\n",
        "#     model = model.cuda()\n",
        "\n",
        "device = torch.device('cuda') if torch.cuda.is_available() else torch.device('cpu')\n",
        "\n",
        "model = model.to(device)"
      ],
      "metadata": {
        "colab": {
          "base_uri": "https://localhost:8080/"
        },
        "id": "u4dQZr5wqcaK",
        "outputId": "c8c277ee-ff9b-4062-bdef-8e1b5026fff9"
      },
      "execution_count": 691,
      "outputs": [
        {
          "output_type": "stream",
          "name": "stderr",
          "text": [
            "You are using a model of type camembert to instantiate a model of type bert. This is not supported for all configurations of models and can yield errors.\n",
            "Some weights of BertForSequenceClassification were not initialized from the model checkpoint at airesearch/wangchanberta-base-att-spm-uncased and are newly initialized: ['classifier.bias', 'classifier.weight', 'embeddings.LayerNorm.bias', 'embeddings.LayerNorm.weight', 'embeddings.position_embeddings.weight', 'embeddings.token_type_embeddings.weight', 'embeddings.word_embeddings.weight', 'encoder.layer.0.attention.output.LayerNorm.bias', 'encoder.layer.0.attention.output.LayerNorm.weight', 'encoder.layer.0.attention.output.dense.bias', 'encoder.layer.0.attention.output.dense.weight', 'encoder.layer.0.attention.self.key.bias', 'encoder.layer.0.attention.self.key.weight', 'encoder.layer.0.attention.self.query.bias', 'encoder.layer.0.attention.self.query.weight', 'encoder.layer.0.attention.self.value.bias', 'encoder.layer.0.attention.self.value.weight', 'encoder.layer.0.intermediate.dense.bias', 'encoder.layer.0.intermediate.dense.weight', 'encoder.layer.0.output.LayerNorm.bias', 'encoder.layer.0.output.LayerNorm.weight', 'encoder.layer.0.output.dense.bias', 'encoder.layer.0.output.dense.weight', 'encoder.layer.1.attention.output.LayerNorm.bias', 'encoder.layer.1.attention.output.LayerNorm.weight', 'encoder.layer.1.attention.output.dense.bias', 'encoder.layer.1.attention.output.dense.weight', 'encoder.layer.1.attention.self.key.bias', 'encoder.layer.1.attention.self.key.weight', 'encoder.layer.1.attention.self.query.bias', 'encoder.layer.1.attention.self.query.weight', 'encoder.layer.1.attention.self.value.bias', 'encoder.layer.1.attention.self.value.weight', 'encoder.layer.1.intermediate.dense.bias', 'encoder.layer.1.intermediate.dense.weight', 'encoder.layer.1.output.LayerNorm.bias', 'encoder.layer.1.output.LayerNorm.weight', 'encoder.layer.1.output.dense.bias', 'encoder.layer.1.output.dense.weight', 'encoder.layer.10.attention.output.LayerNorm.bias', 'encoder.layer.10.attention.output.LayerNorm.weight', 'encoder.layer.10.attention.output.dense.bias', 'encoder.layer.10.attention.output.dense.weight', 'encoder.layer.10.attention.self.key.bias', 'encoder.layer.10.attention.self.key.weight', 'encoder.layer.10.attention.self.query.bias', 'encoder.layer.10.attention.self.query.weight', 'encoder.layer.10.attention.self.value.bias', 'encoder.layer.10.attention.self.value.weight', 'encoder.layer.10.intermediate.dense.bias', 'encoder.layer.10.intermediate.dense.weight', 'encoder.layer.10.output.LayerNorm.bias', 'encoder.layer.10.output.LayerNorm.weight', 'encoder.layer.10.output.dense.bias', 'encoder.layer.10.output.dense.weight', 'encoder.layer.11.attention.output.LayerNorm.bias', 'encoder.layer.11.attention.output.LayerNorm.weight', 'encoder.layer.11.attention.output.dense.bias', 'encoder.layer.11.attention.output.dense.weight', 'encoder.layer.11.attention.self.key.bias', 'encoder.layer.11.attention.self.key.weight', 'encoder.layer.11.attention.self.query.bias', 'encoder.layer.11.attention.self.query.weight', 'encoder.layer.11.attention.self.value.bias', 'encoder.layer.11.attention.self.value.weight', 'encoder.layer.11.intermediate.dense.bias', 'encoder.layer.11.intermediate.dense.weight', 'encoder.layer.11.output.LayerNorm.bias', 'encoder.layer.11.output.LayerNorm.weight', 'encoder.layer.11.output.dense.bias', 'encoder.layer.11.output.dense.weight', 'encoder.layer.2.attention.output.LayerNorm.bias', 'encoder.layer.2.attention.output.LayerNorm.weight', 'encoder.layer.2.attention.output.dense.bias', 'encoder.layer.2.attention.output.dense.weight', 'encoder.layer.2.attention.self.key.bias', 'encoder.layer.2.attention.self.key.weight', 'encoder.layer.2.attention.self.query.bias', 'encoder.layer.2.attention.self.query.weight', 'encoder.layer.2.attention.self.value.bias', 'encoder.layer.2.attention.self.value.weight', 'encoder.layer.2.intermediate.dense.bias', 'encoder.layer.2.intermediate.dense.weight', 'encoder.layer.2.output.LayerNorm.bias', 'encoder.layer.2.output.LayerNorm.weight', 'encoder.layer.2.output.dense.bias', 'encoder.layer.2.output.dense.weight', 'encoder.layer.3.attention.output.LayerNorm.bias', 'encoder.layer.3.attention.output.LayerNorm.weight', 'encoder.layer.3.attention.output.dense.bias', 'encoder.layer.3.attention.output.dense.weight', 'encoder.layer.3.attention.self.key.bias', 'encoder.layer.3.attention.self.key.weight', 'encoder.layer.3.attention.self.query.bias', 'encoder.layer.3.attention.self.query.weight', 'encoder.layer.3.attention.self.value.bias', 'encoder.layer.3.attention.self.value.weight', 'encoder.layer.3.intermediate.dense.bias', 'encoder.layer.3.intermediate.dense.weight', 'encoder.layer.3.output.LayerNorm.bias', 'encoder.layer.3.output.LayerNorm.weight', 'encoder.layer.3.output.dense.bias', 'encoder.layer.3.output.dense.weight', 'encoder.layer.4.attention.output.LayerNorm.bias', 'encoder.layer.4.attention.output.LayerNorm.weight', 'encoder.layer.4.attention.output.dense.bias', 'encoder.layer.4.attention.output.dense.weight', 'encoder.layer.4.attention.self.key.bias', 'encoder.layer.4.attention.self.key.weight', 'encoder.layer.4.attention.self.query.bias', 'encoder.layer.4.attention.self.query.weight', 'encoder.layer.4.attention.self.value.bias', 'encoder.layer.4.attention.self.value.weight', 'encoder.layer.4.intermediate.dense.bias', 'encoder.layer.4.intermediate.dense.weight', 'encoder.layer.4.output.LayerNorm.bias', 'encoder.layer.4.output.LayerNorm.weight', 'encoder.layer.4.output.dense.bias', 'encoder.layer.4.output.dense.weight', 'encoder.layer.5.attention.output.LayerNorm.bias', 'encoder.layer.5.attention.output.LayerNorm.weight', 'encoder.layer.5.attention.output.dense.bias', 'encoder.layer.5.attention.output.dense.weight', 'encoder.layer.5.attention.self.key.bias', 'encoder.layer.5.attention.self.key.weight', 'encoder.layer.5.attention.self.query.bias', 'encoder.layer.5.attention.self.query.weight', 'encoder.layer.5.attention.self.value.bias', 'encoder.layer.5.attention.self.value.weight', 'encoder.layer.5.intermediate.dense.bias', 'encoder.layer.5.intermediate.dense.weight', 'encoder.layer.5.output.LayerNorm.bias', 'encoder.layer.5.output.LayerNorm.weight', 'encoder.layer.5.output.dense.bias', 'encoder.layer.5.output.dense.weight', 'encoder.layer.6.attention.output.LayerNorm.bias', 'encoder.layer.6.attention.output.LayerNorm.weight', 'encoder.layer.6.attention.output.dense.bias', 'encoder.layer.6.attention.output.dense.weight', 'encoder.layer.6.attention.self.key.bias', 'encoder.layer.6.attention.self.key.weight', 'encoder.layer.6.attention.self.query.bias', 'encoder.layer.6.attention.self.query.weight', 'encoder.layer.6.attention.self.value.bias', 'encoder.layer.6.attention.self.value.weight', 'encoder.layer.6.intermediate.dense.bias', 'encoder.layer.6.intermediate.dense.weight', 'encoder.layer.6.output.LayerNorm.bias', 'encoder.layer.6.output.LayerNorm.weight', 'encoder.layer.6.output.dense.bias', 'encoder.layer.6.output.dense.weight', 'encoder.layer.7.attention.output.LayerNorm.bias', 'encoder.layer.7.attention.output.LayerNorm.weight', 'encoder.layer.7.attention.output.dense.bias', 'encoder.layer.7.attention.output.dense.weight', 'encoder.layer.7.attention.self.key.bias', 'encoder.layer.7.attention.self.key.weight', 'encoder.layer.7.attention.self.query.bias', 'encoder.layer.7.attention.self.query.weight', 'encoder.layer.7.attention.self.value.bias', 'encoder.layer.7.attention.self.value.weight', 'encoder.layer.7.intermediate.dense.bias', 'encoder.layer.7.intermediate.dense.weight', 'encoder.layer.7.output.LayerNorm.bias', 'encoder.layer.7.output.LayerNorm.weight', 'encoder.layer.7.output.dense.bias', 'encoder.layer.7.output.dense.weight', 'encoder.layer.8.attention.output.LayerNorm.bias', 'encoder.layer.8.attention.output.LayerNorm.weight', 'encoder.layer.8.attention.output.dense.bias', 'encoder.layer.8.attention.output.dense.weight', 'encoder.layer.8.attention.self.key.bias', 'encoder.layer.8.attention.self.key.weight', 'encoder.layer.8.attention.self.query.bias', 'encoder.layer.8.attention.self.query.weight', 'encoder.layer.8.attention.self.value.bias', 'encoder.layer.8.attention.self.value.weight', 'encoder.layer.8.intermediate.dense.bias', 'encoder.layer.8.intermediate.dense.weight', 'encoder.layer.8.output.LayerNorm.bias', 'encoder.layer.8.output.LayerNorm.weight', 'encoder.layer.8.output.dense.bias', 'encoder.layer.8.output.dense.weight', 'encoder.layer.9.attention.output.LayerNorm.bias', 'encoder.layer.9.attention.output.LayerNorm.weight', 'encoder.layer.9.attention.output.dense.bias', 'encoder.layer.9.attention.output.dense.weight', 'encoder.layer.9.attention.self.key.bias', 'encoder.layer.9.attention.self.key.weight', 'encoder.layer.9.attention.self.query.bias', 'encoder.layer.9.attention.self.query.weight', 'encoder.layer.9.attention.self.value.bias', 'encoder.layer.9.attention.self.value.weight', 'encoder.layer.9.intermediate.dense.bias', 'encoder.layer.9.intermediate.dense.weight', 'encoder.layer.9.output.LayerNorm.bias', 'encoder.layer.9.output.LayerNorm.weight', 'encoder.layer.9.output.dense.bias', 'encoder.layer.9.output.dense.weight', 'pooler.dense.bias', 'pooler.dense.weight']\n",
            "You should probably TRAIN this model on a down-stream task to be able to use it for predictions and inference.\n"
          ]
        }
      ]
    },
    {
      "cell_type": "code",
      "source": [
        "optimizer = AdamW(model.parameters(),\n",
        "                  lr = 2e-5, # args.learning_rate - default is 5e-5, our notebook had 2e-5\n",
        "                  eps = 1e-8 # args.adam_epsilon  - default is 1e-8.\n",
        "                )"
      ],
      "metadata": {
        "colab": {
          "base_uri": "https://localhost:8080/"
        },
        "id": "iKAihPobrNn2",
        "outputId": "5bdb69d6-056b-4291-821a-b284341bc07c"
      },
      "execution_count": 692,
      "outputs": [
        {
          "output_type": "stream",
          "name": "stderr",
          "text": [
            "/usr/local/lib/python3.10/dist-packages/transformers/optimization.py:521: FutureWarning: This implementation of AdamW is deprecated and will be removed in a future version. Use the PyTorch implementation torch.optim.AdamW instead, or set `no_deprecation_warning=True` to disable this warning\n",
            "  warnings.warn(\n"
          ]
        }
      ]
    },
    {
      "cell_type": "code",
      "source": [
        "# Number of training epochs. The BERT authors recommend between 2 and 4.\n",
        "# We chose to run for 4, but we'll see later that this may be over-fitting the\n",
        "# training data.\n",
        "epochs = 4\n",
        "\n",
        "# Total number of training steps is [number of batches] x [number of epochs].\n",
        "# (Note that this is not the same as the number of training samples).\n",
        "total_steps = len(train_dataloader) * epochs\n",
        "\n",
        "# Create the learning rate scheduler.\n",
        "scheduler = get_linear_schedule_with_warmup(optimizer,\n",
        "                                            num_warmup_steps = 0, # Default value in run_glue.py\n",
        "                                            num_training_steps = total_steps)"
      ],
      "metadata": {
        "id": "pOwXNJhvrQho"
      },
      "execution_count": 693,
      "outputs": []
    },
    {
      "cell_type": "code",
      "source": [
        "from sklearn.metrics import f1_score\n",
        "from datetime import datetime\n",
        "import random\n",
        "import time"
      ],
      "metadata": {
        "id": "U6vY16derub3"
      },
      "execution_count": 694,
      "outputs": []
    },
    {
      "cell_type": "code",
      "source": [
        "# Function to calculate the accuracy of our predictions vs labels\n",
        "def flat_accuracy(preds, labels):\n",
        "    pred_flat = np.argmax(preds, axis=1).flatten()\n",
        "    labels_flat = labels.flatten()\n",
        "    return f1_score(pred_flat, labels_flat)"
      ],
      "metadata": {
        "id": "widdphD5rQj-"
      },
      "execution_count": 695,
      "outputs": []
    },
    {
      "cell_type": "code",
      "source": [
        "def format_time(elapsed):\n",
        "    '''\n",
        "    Takes a time in seconds and returns a string hh:mm:ss\n",
        "    '''\n",
        "    # Round to the nearest second.\n",
        "    elapsed_rounded = int(round((elapsed)))\n",
        "    # Format as hh:mm:ss\n",
        "    # return str(datetime.timedelta(seconds=elapsed_rounded))\n",
        "    return elapsed_rounded"
      ],
      "metadata": {
        "id": "5qFlSgVurQmL"
      },
      "execution_count": 696,
      "outputs": []
    },
    {
      "cell_type": "code",
      "source": [
        "from tqdm.notebook import tqdm\n",
        "import numpy as np"
      ],
      "metadata": {
        "id": "BbawfxjvsQ_n"
      },
      "execution_count": 697,
      "outputs": []
    },
    {
      "cell_type": "code",
      "source": [
        "seed_val = 42\n",
        "random.seed(seed_val)\n",
        "np.random.seed(seed_val)\n",
        "torch.manual_seed(seed_val)\n",
        "torch.cuda.manual_seed_all(seed_val)\n",
        "training_stats = []\n",
        "\n",
        "# Measure the total training time for the whole run.\n",
        "total_t0 = time.time()\n",
        "\n",
        "# For each epoch...\n",
        "for epoch_i in tqdm(range(0, epochs)):\n",
        "\n",
        "    # ========================================\n",
        "    #               Training\n",
        "    # ========================================\n",
        "    # Perform one full pass over the training set.\n",
        "    print(\"\")\n",
        "    print('======== Epoch {:} / {:} ========'.format(epoch_i + 1, epochs))\n",
        "    print('Training...')\n",
        "    # Measure how long the training epoch takes.\n",
        "    t0 = time.time()\n",
        "    total_train_loss = 0\n",
        "    model.train()\n",
        "    for step, batch in enumerate(train_dataloader):\n",
        "        # Unpack this training batch from our dataloader.\n",
        "        #\n",
        "        # As we unpack the batch, we'll also copy each tensor to the device using the\n",
        "        # `to` method.\n",
        "        #\n",
        "        # `batch` contains three pytorch tensors:\n",
        "        #   [0]: input ids\n",
        "        #   [1]: attention masks\n",
        "        #   [2]: labels\n",
        "        b_input_ids = batch[0].to(device)\n",
        "        b_input_mask = batch[1].to(device)\n",
        "        b_labels = batch[2].to(device)\n",
        "        optimizer.zero_grad()\n",
        "        output = model(b_input_ids,\n",
        "                             token_type_ids=None,\n",
        "                             attention_mask=b_input_mask,\n",
        "                             labels=b_labels)\n",
        "        loss = output.loss\n",
        "        total_train_loss += loss.item()\n",
        "        # Perform a backward pass to calculate the gradients.\n",
        "        loss.backward()\n",
        "        # Clip the norm of the gradients to 1.0.\n",
        "        # This is to help prevent the \"exploding gradients\" problem.\n",
        "        torch.nn.utils.clip_grad_norm_(model.parameters(), 1.0)\n",
        "        # Update parameters and take a step using the computed gradient.\n",
        "        # The optimizer dictates the \"update rule\"--how the parameters are\n",
        "        # modified based on their gradients, the learning rate, etc.\n",
        "        optimizer.step()\n",
        "        # Update the learning rate.\n",
        "        scheduler.step()\n",
        "\n",
        "    # Calculate the average loss over all of the batches.\n",
        "    avg_train_loss = total_train_loss / len(train_dataloader)\n",
        "\n",
        "    # Measure how long this epoch took.\n",
        "    training_time = format_time(time.time() - t0)\n",
        "    print(\"\")\n",
        "    print(\"  Average training loss: {0:.2f}\".format(avg_train_loss))\n",
        "    print(\"  Training epcoh took: {:}\".format(training_time))\n",
        "    # ========================================\n",
        "    #               Validation\n",
        "    # ========================================\n",
        "    # After the completion of each training epoch, measure our performance on\n",
        "    # our validation set.\n",
        "    print(\"\")\n",
        "    print(\"Running Validation...\")\n",
        "    t0 = time.time()\n",
        "    # Put the model in evaluation mode--the dropout layers behave differently\n",
        "    # during evaluation.\n",
        "    model.eval()\n",
        "    # Tracking variables\n",
        "    total_eval_accuracy = 0\n",
        "    best_eval_accuracy = 0\n",
        "    total_eval_loss = 0\n",
        "    nb_eval_steps = 0\n",
        "    # Evaluate data for one epoch\n",
        "    for batch in validation_dataloader:\n",
        "        b_input_ids = batch[0].to(device)\n",
        "        b_input_mask = batch[1].to(device)\n",
        "        b_labels = batch[2].to(device)\n",
        "        # Tell pytorch not to bother with constructing the compute graph during\n",
        "        # the forward pass, since this is only needed for backprop (training).\n",
        "        with torch.no_grad():\n",
        "            output= model(b_input_ids,\n",
        "                                   token_type_ids=None,\n",
        "                                   attention_mask=b_input_mask,\n",
        "                                   labels=b_labels)\n",
        "        loss = output.loss\n",
        "        total_eval_loss += loss.item()\n",
        "        # Move logits and labels to CPU if we are using GPU\n",
        "        logits = output.logits\n",
        "        logits = logits.detach().cpu().numpy()\n",
        "        label_ids = b_labels.to('cpu').numpy()\n",
        "        # Calculate the accuracy for this batch of test sentences, and\n",
        "        # accumulate it over all batches.\n",
        "        total_eval_accuracy += flat_accuracy(logits, label_ids)\n",
        "    # Report the final accuracy for this validation run.\n",
        "    avg_val_accuracy = total_eval_accuracy / len(validation_dataloader)\n",
        "    print(\"  F1-score: {0:.2f}\".format(avg_val_accuracy))\n",
        "    # Calculate the average loss over all of the batches.\n",
        "    avg_val_loss = total_eval_loss / len(validation_dataloader)\n",
        "    # Measure how long the validation run took.\n",
        "    validation_time = format_time(time.time() - t0)\n",
        "    if avg_val_accuracy > best_eval_accuracy:\n",
        "        torch.save(model, 'bert_model')\n",
        "        best_eval_accuracy = avg_val_accuracy\n",
        "    #print(\"  Validation Loss: {0:.2f}\".format(avg_val_loss))\n",
        "    #print(\"  Validation took: {:}\".format(validation_time))\n",
        "    # Record all statistics from this epoch.\n",
        "    training_stats.append(\n",
        "        {\n",
        "            'epoch': epoch_i + 1,\n",
        "            'Training Loss': avg_train_loss,\n",
        "            'Valid. Loss': avg_val_loss,\n",
        "            'Valid. Accur.': avg_val_accuracy,\n",
        "            'Training Time': training_time,\n",
        "            'Validation Time': validation_time\n",
        "        }\n",
        "    )\n",
        "print(\"\")\n",
        "print(\"Training complete!\")\n",
        "\n",
        "print(\"Total training took {:} (h:mm:ss)\".format(format_time(time.time()-total_t0)))"
      ],
      "metadata": {
        "colab": {
          "base_uri": "https://localhost:8080/",
          "height": 457,
          "referenced_widgets": [
            "71bdbd2c1109451f891627f3a8fc090e",
            "4524e4d634cf4b05ba67ddb1115562fd",
            "70d1957251e14898a94e27e6d7aa117b",
            "4ec938608bb5416f8f07da17cebba314",
            "5ed34204cf95493899dd16ad101ed83f",
            "c63824e8437c4697b10bed5ad1965b06",
            "9ad41fca87be433ba80e8cb3232d86ec",
            "5b466f084caf47e68b5e4195623ee7dd",
            "19cee4b2bdf6488d9313865c07cbd4fc",
            "5e3bd50a3da348329cf3d785fe563cab",
            "34f24e78f52540a3a09348fe1e65395d"
          ]
        },
        "id": "vIjc2L7RrNqf",
        "outputId": "194b17b1-96fa-46cb-a099-b467d80f94aa"
      },
      "execution_count": 698,
      "outputs": [
        {
          "output_type": "display_data",
          "data": {
            "text/plain": [
              "  0%|          | 0/4 [00:00<?, ?it/s]"
            ],
            "application/vnd.jupyter.widget-view+json": {
              "version_major": 2,
              "version_minor": 0,
              "model_id": "71bdbd2c1109451f891627f3a8fc090e"
            }
          },
          "metadata": {}
        },
        {
          "output_type": "stream",
          "name": "stdout",
          "text": [
            "\n",
            "======== Epoch 1 / 4 ========\n",
            "Training...\n"
          ]
        },
        {
          "output_type": "error",
          "ename": "KeyboardInterrupt",
          "evalue": "",
          "traceback": [
            "\u001b[0;31m---------------------------------------------------------------------------\u001b[0m",
            "\u001b[0;31mKeyboardInterrupt\u001b[0m                         Traceback (most recent call last)",
            "\u001b[0;32m<ipython-input-698-d39680bfe436>\u001b[0m in \u001b[0;36m<cell line: 12>\u001b[0;34m()\u001b[0m\n\u001b[1;32m     37\u001b[0m         \u001b[0mb_labels\u001b[0m \u001b[0;34m=\u001b[0m \u001b[0mbatch\u001b[0m\u001b[0;34m[\u001b[0m\u001b[0;36m2\u001b[0m\u001b[0;34m]\u001b[0m\u001b[0;34m.\u001b[0m\u001b[0mto\u001b[0m\u001b[0;34m(\u001b[0m\u001b[0mdevice\u001b[0m\u001b[0;34m)\u001b[0m\u001b[0;34m\u001b[0m\u001b[0;34m\u001b[0m\u001b[0m\n\u001b[1;32m     38\u001b[0m         \u001b[0moptimizer\u001b[0m\u001b[0;34m.\u001b[0m\u001b[0mzero_grad\u001b[0m\u001b[0;34m(\u001b[0m\u001b[0;34m)\u001b[0m\u001b[0;34m\u001b[0m\u001b[0;34m\u001b[0m\u001b[0m\n\u001b[0;32m---> 39\u001b[0;31m         output = model(b_input_ids,\n\u001b[0m\u001b[1;32m     40\u001b[0m                              \u001b[0mtoken_type_ids\u001b[0m\u001b[0;34m=\u001b[0m\u001b[0;32mNone\u001b[0m\u001b[0;34m,\u001b[0m\u001b[0;34m\u001b[0m\u001b[0;34m\u001b[0m\u001b[0m\n\u001b[1;32m     41\u001b[0m                              \u001b[0mattention_mask\u001b[0m\u001b[0;34m=\u001b[0m\u001b[0mb_input_mask\u001b[0m\u001b[0;34m,\u001b[0m\u001b[0;34m\u001b[0m\u001b[0;34m\u001b[0m\u001b[0m\n",
            "\u001b[0;32m/usr/local/lib/python3.10/dist-packages/torch/nn/modules/module.py\u001b[0m in \u001b[0;36m_wrapped_call_impl\u001b[0;34m(self, *args, **kwargs)\u001b[0m\n\u001b[1;32m   1509\u001b[0m             \u001b[0;32mreturn\u001b[0m \u001b[0mself\u001b[0m\u001b[0;34m.\u001b[0m\u001b[0m_compiled_call_impl\u001b[0m\u001b[0;34m(\u001b[0m\u001b[0;34m*\u001b[0m\u001b[0margs\u001b[0m\u001b[0;34m,\u001b[0m \u001b[0;34m**\u001b[0m\u001b[0mkwargs\u001b[0m\u001b[0;34m)\u001b[0m  \u001b[0;31m# type: ignore[misc]\u001b[0m\u001b[0;34m\u001b[0m\u001b[0;34m\u001b[0m\u001b[0m\n\u001b[1;32m   1510\u001b[0m         \u001b[0;32melse\u001b[0m\u001b[0;34m:\u001b[0m\u001b[0;34m\u001b[0m\u001b[0;34m\u001b[0m\u001b[0m\n\u001b[0;32m-> 1511\u001b[0;31m             \u001b[0;32mreturn\u001b[0m \u001b[0mself\u001b[0m\u001b[0;34m.\u001b[0m\u001b[0m_call_impl\u001b[0m\u001b[0;34m(\u001b[0m\u001b[0;34m*\u001b[0m\u001b[0margs\u001b[0m\u001b[0;34m,\u001b[0m \u001b[0;34m**\u001b[0m\u001b[0mkwargs\u001b[0m\u001b[0;34m)\u001b[0m\u001b[0;34m\u001b[0m\u001b[0;34m\u001b[0m\u001b[0m\n\u001b[0m\u001b[1;32m   1512\u001b[0m \u001b[0;34m\u001b[0m\u001b[0m\n\u001b[1;32m   1513\u001b[0m     \u001b[0;32mdef\u001b[0m \u001b[0m_call_impl\u001b[0m\u001b[0;34m(\u001b[0m\u001b[0mself\u001b[0m\u001b[0;34m,\u001b[0m \u001b[0;34m*\u001b[0m\u001b[0margs\u001b[0m\u001b[0;34m,\u001b[0m \u001b[0;34m**\u001b[0m\u001b[0mkwargs\u001b[0m\u001b[0;34m)\u001b[0m\u001b[0;34m:\u001b[0m\u001b[0;34m\u001b[0m\u001b[0;34m\u001b[0m\u001b[0m\n",
            "\u001b[0;32m/usr/local/lib/python3.10/dist-packages/torch/nn/modules/module.py\u001b[0m in \u001b[0;36m_call_impl\u001b[0;34m(self, *args, **kwargs)\u001b[0m\n\u001b[1;32m   1518\u001b[0m                 \u001b[0;32mor\u001b[0m \u001b[0m_global_backward_pre_hooks\u001b[0m \u001b[0;32mor\u001b[0m \u001b[0m_global_backward_hooks\u001b[0m\u001b[0;34m\u001b[0m\u001b[0;34m\u001b[0m\u001b[0m\n\u001b[1;32m   1519\u001b[0m                 or _global_forward_hooks or _global_forward_pre_hooks):\n\u001b[0;32m-> 1520\u001b[0;31m             \u001b[0;32mreturn\u001b[0m \u001b[0mforward_call\u001b[0m\u001b[0;34m(\u001b[0m\u001b[0;34m*\u001b[0m\u001b[0margs\u001b[0m\u001b[0;34m,\u001b[0m \u001b[0;34m**\u001b[0m\u001b[0mkwargs\u001b[0m\u001b[0;34m)\u001b[0m\u001b[0;34m\u001b[0m\u001b[0;34m\u001b[0m\u001b[0m\n\u001b[0m\u001b[1;32m   1521\u001b[0m \u001b[0;34m\u001b[0m\u001b[0m\n\u001b[1;32m   1522\u001b[0m         \u001b[0;32mtry\u001b[0m\u001b[0;34m:\u001b[0m\u001b[0;34m\u001b[0m\u001b[0;34m\u001b[0m\u001b[0m\n",
            "\u001b[0;32m/usr/local/lib/python3.10/dist-packages/transformers/models/bert/modeling_bert.py\u001b[0m in \u001b[0;36mforward\u001b[0;34m(self, input_ids, attention_mask, token_type_ids, position_ids, head_mask, inputs_embeds, labels, output_attentions, output_hidden_states, return_dict)\u001b[0m\n\u001b[1;32m   1537\u001b[0m         \u001b[0mreturn_dict\u001b[0m \u001b[0;34m=\u001b[0m \u001b[0mreturn_dict\u001b[0m \u001b[0;32mif\u001b[0m \u001b[0mreturn_dict\u001b[0m \u001b[0;32mis\u001b[0m \u001b[0;32mnot\u001b[0m \u001b[0;32mNone\u001b[0m \u001b[0;32melse\u001b[0m \u001b[0mself\u001b[0m\u001b[0;34m.\u001b[0m\u001b[0mconfig\u001b[0m\u001b[0;34m.\u001b[0m\u001b[0muse_return_dict\u001b[0m\u001b[0;34m\u001b[0m\u001b[0;34m\u001b[0m\u001b[0m\n\u001b[1;32m   1538\u001b[0m \u001b[0;34m\u001b[0m\u001b[0m\n\u001b[0;32m-> 1539\u001b[0;31m         outputs = self.bert(\n\u001b[0m\u001b[1;32m   1540\u001b[0m             \u001b[0minput_ids\u001b[0m\u001b[0;34m,\u001b[0m\u001b[0;34m\u001b[0m\u001b[0;34m\u001b[0m\u001b[0m\n\u001b[1;32m   1541\u001b[0m             \u001b[0mattention_mask\u001b[0m\u001b[0;34m=\u001b[0m\u001b[0mattention_mask\u001b[0m\u001b[0;34m,\u001b[0m\u001b[0;34m\u001b[0m\u001b[0;34m\u001b[0m\u001b[0m\n",
            "\u001b[0;32m/usr/local/lib/python3.10/dist-packages/torch/nn/modules/module.py\u001b[0m in \u001b[0;36m_wrapped_call_impl\u001b[0;34m(self, *args, **kwargs)\u001b[0m\n\u001b[1;32m   1509\u001b[0m             \u001b[0;32mreturn\u001b[0m \u001b[0mself\u001b[0m\u001b[0;34m.\u001b[0m\u001b[0m_compiled_call_impl\u001b[0m\u001b[0;34m(\u001b[0m\u001b[0;34m*\u001b[0m\u001b[0margs\u001b[0m\u001b[0;34m,\u001b[0m \u001b[0;34m**\u001b[0m\u001b[0mkwargs\u001b[0m\u001b[0;34m)\u001b[0m  \u001b[0;31m# type: ignore[misc]\u001b[0m\u001b[0;34m\u001b[0m\u001b[0;34m\u001b[0m\u001b[0m\n\u001b[1;32m   1510\u001b[0m         \u001b[0;32melse\u001b[0m\u001b[0;34m:\u001b[0m\u001b[0;34m\u001b[0m\u001b[0;34m\u001b[0m\u001b[0m\n\u001b[0;32m-> 1511\u001b[0;31m             \u001b[0;32mreturn\u001b[0m \u001b[0mself\u001b[0m\u001b[0;34m.\u001b[0m\u001b[0m_call_impl\u001b[0m\u001b[0;34m(\u001b[0m\u001b[0;34m*\u001b[0m\u001b[0margs\u001b[0m\u001b[0;34m,\u001b[0m \u001b[0;34m**\u001b[0m\u001b[0mkwargs\u001b[0m\u001b[0;34m)\u001b[0m\u001b[0;34m\u001b[0m\u001b[0;34m\u001b[0m\u001b[0m\n\u001b[0m\u001b[1;32m   1512\u001b[0m \u001b[0;34m\u001b[0m\u001b[0m\n\u001b[1;32m   1513\u001b[0m     \u001b[0;32mdef\u001b[0m \u001b[0m_call_impl\u001b[0m\u001b[0;34m(\u001b[0m\u001b[0mself\u001b[0m\u001b[0;34m,\u001b[0m \u001b[0;34m*\u001b[0m\u001b[0margs\u001b[0m\u001b[0;34m,\u001b[0m \u001b[0;34m**\u001b[0m\u001b[0mkwargs\u001b[0m\u001b[0;34m)\u001b[0m\u001b[0;34m:\u001b[0m\u001b[0;34m\u001b[0m\u001b[0;34m\u001b[0m\u001b[0m\n",
            "\u001b[0;32m/usr/local/lib/python3.10/dist-packages/torch/nn/modules/module.py\u001b[0m in \u001b[0;36m_call_impl\u001b[0;34m(self, *args, **kwargs)\u001b[0m\n\u001b[1;32m   1518\u001b[0m                 \u001b[0;32mor\u001b[0m \u001b[0m_global_backward_pre_hooks\u001b[0m \u001b[0;32mor\u001b[0m \u001b[0m_global_backward_hooks\u001b[0m\u001b[0;34m\u001b[0m\u001b[0;34m\u001b[0m\u001b[0m\n\u001b[1;32m   1519\u001b[0m                 or _global_forward_hooks or _global_forward_pre_hooks):\n\u001b[0;32m-> 1520\u001b[0;31m             \u001b[0;32mreturn\u001b[0m \u001b[0mforward_call\u001b[0m\u001b[0;34m(\u001b[0m\u001b[0;34m*\u001b[0m\u001b[0margs\u001b[0m\u001b[0;34m,\u001b[0m \u001b[0;34m**\u001b[0m\u001b[0mkwargs\u001b[0m\u001b[0;34m)\u001b[0m\u001b[0;34m\u001b[0m\u001b[0;34m\u001b[0m\u001b[0m\n\u001b[0m\u001b[1;32m   1521\u001b[0m \u001b[0;34m\u001b[0m\u001b[0m\n\u001b[1;32m   1522\u001b[0m         \u001b[0;32mtry\u001b[0m\u001b[0;34m:\u001b[0m\u001b[0;34m\u001b[0m\u001b[0;34m\u001b[0m\u001b[0m\n",
            "\u001b[0;32m/usr/local/lib/python3.10/dist-packages/transformers/models/bert/modeling_bert.py\u001b[0m in \u001b[0;36mforward\u001b[0;34m(self, input_ids, attention_mask, token_type_ids, position_ids, head_mask, inputs_embeds, encoder_hidden_states, encoder_attention_mask, past_key_values, use_cache, output_attentions, output_hidden_states, return_dict)\u001b[0m\n\u001b[1;32m    986\u001b[0m             \u001b[0mpast_key_values_length\u001b[0m\u001b[0;34m=\u001b[0m\u001b[0mpast_key_values_length\u001b[0m\u001b[0;34m,\u001b[0m\u001b[0;34m\u001b[0m\u001b[0;34m\u001b[0m\u001b[0m\n\u001b[1;32m    987\u001b[0m         )\n\u001b[0;32m--> 988\u001b[0;31m         encoder_outputs = self.encoder(\n\u001b[0m\u001b[1;32m    989\u001b[0m             \u001b[0membedding_output\u001b[0m\u001b[0;34m,\u001b[0m\u001b[0;34m\u001b[0m\u001b[0;34m\u001b[0m\u001b[0m\n\u001b[1;32m    990\u001b[0m             \u001b[0mattention_mask\u001b[0m\u001b[0;34m=\u001b[0m\u001b[0mextended_attention_mask\u001b[0m\u001b[0;34m,\u001b[0m\u001b[0;34m\u001b[0m\u001b[0;34m\u001b[0m\u001b[0m\n",
            "\u001b[0;32m/usr/local/lib/python3.10/dist-packages/torch/nn/modules/module.py\u001b[0m in \u001b[0;36m_wrapped_call_impl\u001b[0;34m(self, *args, **kwargs)\u001b[0m\n\u001b[1;32m   1509\u001b[0m             \u001b[0;32mreturn\u001b[0m \u001b[0mself\u001b[0m\u001b[0;34m.\u001b[0m\u001b[0m_compiled_call_impl\u001b[0m\u001b[0;34m(\u001b[0m\u001b[0;34m*\u001b[0m\u001b[0margs\u001b[0m\u001b[0;34m,\u001b[0m \u001b[0;34m**\u001b[0m\u001b[0mkwargs\u001b[0m\u001b[0;34m)\u001b[0m  \u001b[0;31m# type: ignore[misc]\u001b[0m\u001b[0;34m\u001b[0m\u001b[0;34m\u001b[0m\u001b[0m\n\u001b[1;32m   1510\u001b[0m         \u001b[0;32melse\u001b[0m\u001b[0;34m:\u001b[0m\u001b[0;34m\u001b[0m\u001b[0;34m\u001b[0m\u001b[0m\n\u001b[0;32m-> 1511\u001b[0;31m             \u001b[0;32mreturn\u001b[0m \u001b[0mself\u001b[0m\u001b[0;34m.\u001b[0m\u001b[0m_call_impl\u001b[0m\u001b[0;34m(\u001b[0m\u001b[0;34m*\u001b[0m\u001b[0margs\u001b[0m\u001b[0;34m,\u001b[0m \u001b[0;34m**\u001b[0m\u001b[0mkwargs\u001b[0m\u001b[0;34m)\u001b[0m\u001b[0;34m\u001b[0m\u001b[0;34m\u001b[0m\u001b[0m\n\u001b[0m\u001b[1;32m   1512\u001b[0m \u001b[0;34m\u001b[0m\u001b[0m\n\u001b[1;32m   1513\u001b[0m     \u001b[0;32mdef\u001b[0m \u001b[0m_call_impl\u001b[0m\u001b[0;34m(\u001b[0m\u001b[0mself\u001b[0m\u001b[0;34m,\u001b[0m \u001b[0;34m*\u001b[0m\u001b[0margs\u001b[0m\u001b[0;34m,\u001b[0m \u001b[0;34m**\u001b[0m\u001b[0mkwargs\u001b[0m\u001b[0;34m)\u001b[0m\u001b[0;34m:\u001b[0m\u001b[0;34m\u001b[0m\u001b[0;34m\u001b[0m\u001b[0m\n",
            "\u001b[0;32m/usr/local/lib/python3.10/dist-packages/torch/nn/modules/module.py\u001b[0m in \u001b[0;36m_call_impl\u001b[0;34m(self, *args, **kwargs)\u001b[0m\n\u001b[1;32m   1518\u001b[0m                 \u001b[0;32mor\u001b[0m \u001b[0m_global_backward_pre_hooks\u001b[0m \u001b[0;32mor\u001b[0m \u001b[0m_global_backward_hooks\u001b[0m\u001b[0;34m\u001b[0m\u001b[0;34m\u001b[0m\u001b[0m\n\u001b[1;32m   1519\u001b[0m                 or _global_forward_hooks or _global_forward_pre_hooks):\n\u001b[0;32m-> 1520\u001b[0;31m             \u001b[0;32mreturn\u001b[0m \u001b[0mforward_call\u001b[0m\u001b[0;34m(\u001b[0m\u001b[0;34m*\u001b[0m\u001b[0margs\u001b[0m\u001b[0;34m,\u001b[0m \u001b[0;34m**\u001b[0m\u001b[0mkwargs\u001b[0m\u001b[0;34m)\u001b[0m\u001b[0;34m\u001b[0m\u001b[0;34m\u001b[0m\u001b[0m\n\u001b[0m\u001b[1;32m   1521\u001b[0m \u001b[0;34m\u001b[0m\u001b[0m\n\u001b[1;32m   1522\u001b[0m         \u001b[0;32mtry\u001b[0m\u001b[0;34m:\u001b[0m\u001b[0;34m\u001b[0m\u001b[0;34m\u001b[0m\u001b[0m\n",
            "\u001b[0;32m/usr/local/lib/python3.10/dist-packages/transformers/models/bert/modeling_bert.py\u001b[0m in \u001b[0;36mforward\u001b[0;34m(self, hidden_states, attention_mask, head_mask, encoder_hidden_states, encoder_attention_mask, past_key_values, use_cache, output_attentions, output_hidden_states, return_dict)\u001b[0m\n\u001b[1;32m    580\u001b[0m                 )\n\u001b[1;32m    581\u001b[0m             \u001b[0;32melse\u001b[0m\u001b[0;34m:\u001b[0m\u001b[0;34m\u001b[0m\u001b[0;34m\u001b[0m\u001b[0m\n\u001b[0;32m--> 582\u001b[0;31m                 layer_outputs = layer_module(\n\u001b[0m\u001b[1;32m    583\u001b[0m                     \u001b[0mhidden_states\u001b[0m\u001b[0;34m,\u001b[0m\u001b[0;34m\u001b[0m\u001b[0;34m\u001b[0m\u001b[0m\n\u001b[1;32m    584\u001b[0m                     \u001b[0mattention_mask\u001b[0m\u001b[0;34m,\u001b[0m\u001b[0;34m\u001b[0m\u001b[0;34m\u001b[0m\u001b[0m\n",
            "\u001b[0;32m/usr/local/lib/python3.10/dist-packages/torch/nn/modules/module.py\u001b[0m in \u001b[0;36m_wrapped_call_impl\u001b[0;34m(self, *args, **kwargs)\u001b[0m\n\u001b[1;32m   1509\u001b[0m             \u001b[0;32mreturn\u001b[0m \u001b[0mself\u001b[0m\u001b[0;34m.\u001b[0m\u001b[0m_compiled_call_impl\u001b[0m\u001b[0;34m(\u001b[0m\u001b[0;34m*\u001b[0m\u001b[0margs\u001b[0m\u001b[0;34m,\u001b[0m \u001b[0;34m**\u001b[0m\u001b[0mkwargs\u001b[0m\u001b[0;34m)\u001b[0m  \u001b[0;31m# type: ignore[misc]\u001b[0m\u001b[0;34m\u001b[0m\u001b[0;34m\u001b[0m\u001b[0m\n\u001b[1;32m   1510\u001b[0m         \u001b[0;32melse\u001b[0m\u001b[0;34m:\u001b[0m\u001b[0;34m\u001b[0m\u001b[0;34m\u001b[0m\u001b[0m\n\u001b[0;32m-> 1511\u001b[0;31m             \u001b[0;32mreturn\u001b[0m \u001b[0mself\u001b[0m\u001b[0;34m.\u001b[0m\u001b[0m_call_impl\u001b[0m\u001b[0;34m(\u001b[0m\u001b[0;34m*\u001b[0m\u001b[0margs\u001b[0m\u001b[0;34m,\u001b[0m \u001b[0;34m**\u001b[0m\u001b[0mkwargs\u001b[0m\u001b[0;34m)\u001b[0m\u001b[0;34m\u001b[0m\u001b[0;34m\u001b[0m\u001b[0m\n\u001b[0m\u001b[1;32m   1512\u001b[0m \u001b[0;34m\u001b[0m\u001b[0m\n\u001b[1;32m   1513\u001b[0m     \u001b[0;32mdef\u001b[0m \u001b[0m_call_impl\u001b[0m\u001b[0;34m(\u001b[0m\u001b[0mself\u001b[0m\u001b[0;34m,\u001b[0m \u001b[0;34m*\u001b[0m\u001b[0margs\u001b[0m\u001b[0;34m,\u001b[0m \u001b[0;34m**\u001b[0m\u001b[0mkwargs\u001b[0m\u001b[0;34m)\u001b[0m\u001b[0;34m:\u001b[0m\u001b[0;34m\u001b[0m\u001b[0;34m\u001b[0m\u001b[0m\n",
            "\u001b[0;32m/usr/local/lib/python3.10/dist-packages/torch/nn/modules/module.py\u001b[0m in \u001b[0;36m_call_impl\u001b[0;34m(self, *args, **kwargs)\u001b[0m\n\u001b[1;32m   1518\u001b[0m                 \u001b[0;32mor\u001b[0m \u001b[0m_global_backward_pre_hooks\u001b[0m \u001b[0;32mor\u001b[0m \u001b[0m_global_backward_hooks\u001b[0m\u001b[0;34m\u001b[0m\u001b[0;34m\u001b[0m\u001b[0m\n\u001b[1;32m   1519\u001b[0m                 or _global_forward_hooks or _global_forward_pre_hooks):\n\u001b[0;32m-> 1520\u001b[0;31m             \u001b[0;32mreturn\u001b[0m \u001b[0mforward_call\u001b[0m\u001b[0;34m(\u001b[0m\u001b[0;34m*\u001b[0m\u001b[0margs\u001b[0m\u001b[0;34m,\u001b[0m \u001b[0;34m**\u001b[0m\u001b[0mkwargs\u001b[0m\u001b[0;34m)\u001b[0m\u001b[0;34m\u001b[0m\u001b[0;34m\u001b[0m\u001b[0m\n\u001b[0m\u001b[1;32m   1521\u001b[0m \u001b[0;34m\u001b[0m\u001b[0m\n\u001b[1;32m   1522\u001b[0m         \u001b[0;32mtry\u001b[0m\u001b[0;34m:\u001b[0m\u001b[0;34m\u001b[0m\u001b[0;34m\u001b[0m\u001b[0m\n",
            "\u001b[0;32m/usr/local/lib/python3.10/dist-packages/transformers/models/bert/modeling_bert.py\u001b[0m in \u001b[0;36mforward\u001b[0;34m(self, hidden_states, attention_mask, head_mask, encoder_hidden_states, encoder_attention_mask, past_key_value, output_attentions)\u001b[0m\n\u001b[1;32m    470\u001b[0m         \u001b[0;31m# decoder uni-directional self-attention cached key/values tuple is at positions 1,2\u001b[0m\u001b[0;34m\u001b[0m\u001b[0;34m\u001b[0m\u001b[0m\n\u001b[1;32m    471\u001b[0m         \u001b[0mself_attn_past_key_value\u001b[0m \u001b[0;34m=\u001b[0m \u001b[0mpast_key_value\u001b[0m\u001b[0;34m[\u001b[0m\u001b[0;34m:\u001b[0m\u001b[0;36m2\u001b[0m\u001b[0;34m]\u001b[0m \u001b[0;32mif\u001b[0m \u001b[0mpast_key_value\u001b[0m \u001b[0;32mis\u001b[0m \u001b[0;32mnot\u001b[0m \u001b[0;32mNone\u001b[0m \u001b[0;32melse\u001b[0m \u001b[0;32mNone\u001b[0m\u001b[0;34m\u001b[0m\u001b[0;34m\u001b[0m\u001b[0m\n\u001b[0;32m--> 472\u001b[0;31m         self_attention_outputs = self.attention(\n\u001b[0m\u001b[1;32m    473\u001b[0m             \u001b[0mhidden_states\u001b[0m\u001b[0;34m,\u001b[0m\u001b[0;34m\u001b[0m\u001b[0;34m\u001b[0m\u001b[0m\n\u001b[1;32m    474\u001b[0m             \u001b[0mattention_mask\u001b[0m\u001b[0;34m,\u001b[0m\u001b[0;34m\u001b[0m\u001b[0;34m\u001b[0m\u001b[0m\n",
            "\u001b[0;32m/usr/local/lib/python3.10/dist-packages/torch/nn/modules/module.py\u001b[0m in \u001b[0;36m_wrapped_call_impl\u001b[0;34m(self, *args, **kwargs)\u001b[0m\n\u001b[1;32m   1509\u001b[0m             \u001b[0;32mreturn\u001b[0m \u001b[0mself\u001b[0m\u001b[0;34m.\u001b[0m\u001b[0m_compiled_call_impl\u001b[0m\u001b[0;34m(\u001b[0m\u001b[0;34m*\u001b[0m\u001b[0margs\u001b[0m\u001b[0;34m,\u001b[0m \u001b[0;34m**\u001b[0m\u001b[0mkwargs\u001b[0m\u001b[0;34m)\u001b[0m  \u001b[0;31m# type: ignore[misc]\u001b[0m\u001b[0;34m\u001b[0m\u001b[0;34m\u001b[0m\u001b[0m\n\u001b[1;32m   1510\u001b[0m         \u001b[0;32melse\u001b[0m\u001b[0;34m:\u001b[0m\u001b[0;34m\u001b[0m\u001b[0;34m\u001b[0m\u001b[0m\n\u001b[0;32m-> 1511\u001b[0;31m             \u001b[0;32mreturn\u001b[0m \u001b[0mself\u001b[0m\u001b[0;34m.\u001b[0m\u001b[0m_call_impl\u001b[0m\u001b[0;34m(\u001b[0m\u001b[0;34m*\u001b[0m\u001b[0margs\u001b[0m\u001b[0;34m,\u001b[0m \u001b[0;34m**\u001b[0m\u001b[0mkwargs\u001b[0m\u001b[0;34m)\u001b[0m\u001b[0;34m\u001b[0m\u001b[0;34m\u001b[0m\u001b[0m\n\u001b[0m\u001b[1;32m   1512\u001b[0m \u001b[0;34m\u001b[0m\u001b[0m\n\u001b[1;32m   1513\u001b[0m     \u001b[0;32mdef\u001b[0m \u001b[0m_call_impl\u001b[0m\u001b[0;34m(\u001b[0m\u001b[0mself\u001b[0m\u001b[0;34m,\u001b[0m \u001b[0;34m*\u001b[0m\u001b[0margs\u001b[0m\u001b[0;34m,\u001b[0m \u001b[0;34m**\u001b[0m\u001b[0mkwargs\u001b[0m\u001b[0;34m)\u001b[0m\u001b[0;34m:\u001b[0m\u001b[0;34m\u001b[0m\u001b[0;34m\u001b[0m\u001b[0m\n",
            "\u001b[0;32m/usr/local/lib/python3.10/dist-packages/torch/nn/modules/module.py\u001b[0m in \u001b[0;36m_call_impl\u001b[0;34m(self, *args, **kwargs)\u001b[0m\n\u001b[1;32m   1518\u001b[0m                 \u001b[0;32mor\u001b[0m \u001b[0m_global_backward_pre_hooks\u001b[0m \u001b[0;32mor\u001b[0m \u001b[0m_global_backward_hooks\u001b[0m\u001b[0;34m\u001b[0m\u001b[0;34m\u001b[0m\u001b[0m\n\u001b[1;32m   1519\u001b[0m                 or _global_forward_hooks or _global_forward_pre_hooks):\n\u001b[0;32m-> 1520\u001b[0;31m             \u001b[0;32mreturn\u001b[0m \u001b[0mforward_call\u001b[0m\u001b[0;34m(\u001b[0m\u001b[0;34m*\u001b[0m\u001b[0margs\u001b[0m\u001b[0;34m,\u001b[0m \u001b[0;34m**\u001b[0m\u001b[0mkwargs\u001b[0m\u001b[0;34m)\u001b[0m\u001b[0;34m\u001b[0m\u001b[0;34m\u001b[0m\u001b[0m\n\u001b[0m\u001b[1;32m   1521\u001b[0m \u001b[0;34m\u001b[0m\u001b[0m\n\u001b[1;32m   1522\u001b[0m         \u001b[0;32mtry\u001b[0m\u001b[0;34m:\u001b[0m\u001b[0;34m\u001b[0m\u001b[0;34m\u001b[0m\u001b[0m\n",
            "\u001b[0;32m/usr/local/lib/python3.10/dist-packages/transformers/models/bert/modeling_bert.py\u001b[0m in \u001b[0;36mforward\u001b[0;34m(self, hidden_states, attention_mask, head_mask, encoder_hidden_states, encoder_attention_mask, past_key_value, output_attentions)\u001b[0m\n\u001b[1;32m    400\u001b[0m         \u001b[0moutput_attentions\u001b[0m\u001b[0;34m:\u001b[0m \u001b[0mOptional\u001b[0m\u001b[0;34m[\u001b[0m\u001b[0mbool\u001b[0m\u001b[0;34m]\u001b[0m \u001b[0;34m=\u001b[0m \u001b[0;32mFalse\u001b[0m\u001b[0;34m,\u001b[0m\u001b[0;34m\u001b[0m\u001b[0;34m\u001b[0m\u001b[0m\n\u001b[1;32m    401\u001b[0m     ) -> Tuple[torch.Tensor]:\n\u001b[0;32m--> 402\u001b[0;31m         self_outputs = self.self(\n\u001b[0m\u001b[1;32m    403\u001b[0m             \u001b[0mhidden_states\u001b[0m\u001b[0;34m,\u001b[0m\u001b[0;34m\u001b[0m\u001b[0;34m\u001b[0m\u001b[0m\n\u001b[1;32m    404\u001b[0m             \u001b[0mattention_mask\u001b[0m\u001b[0;34m,\u001b[0m\u001b[0;34m\u001b[0m\u001b[0;34m\u001b[0m\u001b[0m\n",
            "\u001b[0;32m/usr/local/lib/python3.10/dist-packages/torch/nn/modules/module.py\u001b[0m in \u001b[0;36m_wrapped_call_impl\u001b[0;34m(self, *args, **kwargs)\u001b[0m\n\u001b[1;32m   1509\u001b[0m             \u001b[0;32mreturn\u001b[0m \u001b[0mself\u001b[0m\u001b[0;34m.\u001b[0m\u001b[0m_compiled_call_impl\u001b[0m\u001b[0;34m(\u001b[0m\u001b[0;34m*\u001b[0m\u001b[0margs\u001b[0m\u001b[0;34m,\u001b[0m \u001b[0;34m**\u001b[0m\u001b[0mkwargs\u001b[0m\u001b[0;34m)\u001b[0m  \u001b[0;31m# type: ignore[misc]\u001b[0m\u001b[0;34m\u001b[0m\u001b[0;34m\u001b[0m\u001b[0m\n\u001b[1;32m   1510\u001b[0m         \u001b[0;32melse\u001b[0m\u001b[0;34m:\u001b[0m\u001b[0;34m\u001b[0m\u001b[0;34m\u001b[0m\u001b[0m\n\u001b[0;32m-> 1511\u001b[0;31m             \u001b[0;32mreturn\u001b[0m \u001b[0mself\u001b[0m\u001b[0;34m.\u001b[0m\u001b[0m_call_impl\u001b[0m\u001b[0;34m(\u001b[0m\u001b[0;34m*\u001b[0m\u001b[0margs\u001b[0m\u001b[0;34m,\u001b[0m \u001b[0;34m**\u001b[0m\u001b[0mkwargs\u001b[0m\u001b[0;34m)\u001b[0m\u001b[0;34m\u001b[0m\u001b[0;34m\u001b[0m\u001b[0m\n\u001b[0m\u001b[1;32m   1512\u001b[0m \u001b[0;34m\u001b[0m\u001b[0m\n\u001b[1;32m   1513\u001b[0m     \u001b[0;32mdef\u001b[0m \u001b[0m_call_impl\u001b[0m\u001b[0;34m(\u001b[0m\u001b[0mself\u001b[0m\u001b[0;34m,\u001b[0m \u001b[0;34m*\u001b[0m\u001b[0margs\u001b[0m\u001b[0;34m,\u001b[0m \u001b[0;34m**\u001b[0m\u001b[0mkwargs\u001b[0m\u001b[0;34m)\u001b[0m\u001b[0;34m:\u001b[0m\u001b[0;34m\u001b[0m\u001b[0;34m\u001b[0m\u001b[0m\n",
            "\u001b[0;32m/usr/local/lib/python3.10/dist-packages/torch/nn/modules/module.py\u001b[0m in \u001b[0;36m_call_impl\u001b[0;34m(self, *args, **kwargs)\u001b[0m\n\u001b[1;32m   1518\u001b[0m                 \u001b[0;32mor\u001b[0m \u001b[0m_global_backward_pre_hooks\u001b[0m \u001b[0;32mor\u001b[0m \u001b[0m_global_backward_hooks\u001b[0m\u001b[0;34m\u001b[0m\u001b[0;34m\u001b[0m\u001b[0m\n\u001b[1;32m   1519\u001b[0m                 or _global_forward_hooks or _global_forward_pre_hooks):\n\u001b[0;32m-> 1520\u001b[0;31m             \u001b[0;32mreturn\u001b[0m \u001b[0mforward_call\u001b[0m\u001b[0;34m(\u001b[0m\u001b[0;34m*\u001b[0m\u001b[0margs\u001b[0m\u001b[0;34m,\u001b[0m \u001b[0;34m**\u001b[0m\u001b[0mkwargs\u001b[0m\u001b[0;34m)\u001b[0m\u001b[0;34m\u001b[0m\u001b[0;34m\u001b[0m\u001b[0m\n\u001b[0m\u001b[1;32m   1521\u001b[0m \u001b[0;34m\u001b[0m\u001b[0m\n\u001b[1;32m   1522\u001b[0m         \u001b[0;32mtry\u001b[0m\u001b[0;34m:\u001b[0m\u001b[0;34m\u001b[0m\u001b[0;34m\u001b[0m\u001b[0m\n",
            "\u001b[0;32m/usr/local/lib/python3.10/dist-packages/transformers/models/bert/modeling_bert.py\u001b[0m in \u001b[0;36mforward\u001b[0;34m(self, hidden_states, attention_mask, head_mask, encoder_hidden_states, encoder_attention_mask, past_key_value, output_attentions)\u001b[0m\n\u001b[1;32m    298\u001b[0m \u001b[0;34m\u001b[0m\u001b[0m\n\u001b[1;32m    299\u001b[0m         \u001b[0;31m# Take the dot product between \"query\" and \"key\" to get the raw attention scores.\u001b[0m\u001b[0;34m\u001b[0m\u001b[0;34m\u001b[0m\u001b[0m\n\u001b[0;32m--> 300\u001b[0;31m         \u001b[0mattention_scores\u001b[0m \u001b[0;34m=\u001b[0m \u001b[0mtorch\u001b[0m\u001b[0;34m.\u001b[0m\u001b[0mmatmul\u001b[0m\u001b[0;34m(\u001b[0m\u001b[0mquery_layer\u001b[0m\u001b[0;34m,\u001b[0m \u001b[0mkey_layer\u001b[0m\u001b[0;34m.\u001b[0m\u001b[0mtranspose\u001b[0m\u001b[0;34m(\u001b[0m\u001b[0;34m-\u001b[0m\u001b[0;36m1\u001b[0m\u001b[0;34m,\u001b[0m \u001b[0;34m-\u001b[0m\u001b[0;36m2\u001b[0m\u001b[0;34m)\u001b[0m\u001b[0;34m)\u001b[0m\u001b[0;34m\u001b[0m\u001b[0;34m\u001b[0m\u001b[0m\n\u001b[0m\u001b[1;32m    301\u001b[0m \u001b[0;34m\u001b[0m\u001b[0m\n\u001b[1;32m    302\u001b[0m         \u001b[0;32mif\u001b[0m \u001b[0mself\u001b[0m\u001b[0;34m.\u001b[0m\u001b[0mposition_embedding_type\u001b[0m \u001b[0;34m==\u001b[0m \u001b[0;34m\"relative_key\"\u001b[0m \u001b[0;32mor\u001b[0m \u001b[0mself\u001b[0m\u001b[0;34m.\u001b[0m\u001b[0mposition_embedding_type\u001b[0m \u001b[0;34m==\u001b[0m \u001b[0;34m\"relative_key_query\"\u001b[0m\u001b[0;34m:\u001b[0m\u001b[0;34m\u001b[0m\u001b[0;34m\u001b[0m\u001b[0m\n",
            "\u001b[0;31mKeyboardInterrupt\u001b[0m: "
          ]
        }
      ]
    },
    {
      "cell_type": "code",
      "source": [
        "model.save_pretrained('finetune_wangchanberta')"
      ],
      "metadata": {
        "id": "BKxNmQt286ng"
      },
      "execution_count": null,
      "outputs": []
    },
    {
      "cell_type": "code",
      "source": [
        "model = torch.load('bert_model')"
      ],
      "metadata": {
        "id": "28wCmPUmHmRp"
      },
      "execution_count": null,
      "outputs": []
    },
    {
      "cell_type": "code",
      "source": [
        "model.eval()\n",
        "predictions = []\n",
        "for batch in test_dataloader:\n",
        "        b_input_ids = batch[0].to(device)\n",
        "        b_input_mask = batch[1].to(device)\n",
        "        with torch.no_grad():\n",
        "            output= model(b_input_ids,\n",
        "                                   token_type_ids=None,\n",
        "                                   attention_mask=b_input_mask)\n",
        "            logits = output.logits\n",
        "            logits = logits.detach().cpu().numpy()\n",
        "            pred_flat = np.argmax(logits, axis=1).flatten()\n",
        "\n",
        "            predictions.extend(list(pred_flat))"
      ],
      "metadata": {
        "id": "xvomQPm2863x"
      },
      "execution_count": null,
      "outputs": []
    },
    {
      "cell_type": "code",
      "source": [
        "predictions"
      ],
      "metadata": {
        "colab": {
          "base_uri": "https://localhost:8080/"
        },
        "id": "F3_P2mtAIUmf",
        "outputId": "d8d7a390-0828-45d9-9844-e3b27a4033aa"
      },
      "execution_count": null,
      "outputs": [
        {
          "output_type": "execute_result",
          "data": {
            "text/plain": [
              "[0, 0, 0, 0, 0, 0, 0, 0, 0, 0]"
            ]
          },
          "metadata": {},
          "execution_count": 62
        }
      ]
    },
    {
      "cell_type": "code",
      "source": [
        "sample_submission = pd.read_csv('/content/sample_submission.csv')\n",
        "sample_submission['answer'][:3] = predictions[:3]"
      ],
      "metadata": {
        "id": "f1Vf3KhwHwsP"
      },
      "execution_count": null,
      "outputs": []
    },
    {
      "cell_type": "code",
      "source": [
        "sample_submission.to_csv('submission.csv')"
      ],
      "metadata": {
        "id": "_zl_bwMCIak4"
      },
      "execution_count": null,
      "outputs": []
    },
    {
      "cell_type": "code",
      "source": [
        "# # Load BertForSequenceClassification, the pretrained BERT model with a single\n",
        "# # linear classification layer on top.\n",
        "# model = BertForSequenceClassification.from_pretrained(\n",
        "#     \"airesearch/wangchanberta-base-att-spm-uncased\", # Use the 12-layer BERT model, with an uncased vocab.\n",
        "#     num_labels = 2, # The number of output labels--2 for binary classification.\n",
        "#                     # You can increase this for multi-class tasks.\n",
        "#     output_attentions = False, # Whether the model returns attentions weights.\n",
        "#     output_hidden_states = False, # Whether the model returns all hidden-states.\n",
        "# )\n",
        "\n",
        "# # if device == \"cuda:0\":\n",
        "# # # Tell pytorch to run this model on the GPU.\n",
        "# #     model = model.cuda()\n",
        "# model = model.to(device)"
      ],
      "metadata": {
        "id": "ILLyunBPi9SH"
      },
      "execution_count": null,
      "outputs": []
    },
    {
      "cell_type": "code",
      "source": [
        "from transformers import Trainer, TrainingArguments\n",
        "\n",
        "training_args = TrainingArguments(\n",
        "    output_dir='./results',          # output directory\n",
        "    num_train_epochs=3,              # number of training epochs\n",
        "    per_device_train_batch_size=8,   # batch size for training\n",
        "    per_device_eval_batch_size=16,   # batch size for evaluation\n",
        "    warmup_steps=500,                # number of warmup steps for learning rate scheduler\n",
        "    weight_decay=0.01,               # strength of weight decay\n",
        "    logging_dir='./logs',            # directory for storing logs\n",
        "    logging_steps=10,\n",
        ")\n",
        "\n",
        "trainer = Trainer(\n",
        "    model=model,\n",
        "    args=training_args,\n",
        "    train_dataset=train_dataloader,\n",
        "    eval_dataset=validation_dataloader\n",
        ")"
      ],
      "metadata": {
        "execution": {
          "iopub.status.busy": "2024-05-07T10:05:31.054424Z",
          "iopub.execute_input": "2024-05-07T10:05:31.054807Z",
          "iopub.status.idle": "2024-05-07T10:05:31.216350Z",
          "shell.execute_reply.started": "2024-05-07T10:05:31.054777Z",
          "shell.execute_reply": "2024-05-07T10:05:31.214848Z"
        },
        "trusted": true,
        "id": "EDoaqBjrui5e"
      },
      "execution_count": null,
      "outputs": []
    },
    {
      "cell_type": "code",
      "source": [
        "trainer.train()"
      ],
      "metadata": {
        "colab": {
          "base_uri": "https://localhost:8080/",
          "height": 1000
        },
        "id": "pmXKPvVEi9WV",
        "outputId": "f9e3c3b1-ac63-4dd4-e283-72488a33279c"
      },
      "execution_count": null,
      "outputs": [
        {
          "output_type": "error",
          "ename": "TypeError",
          "evalue": "'DataLoader' object is not subscriptable",
          "traceback": [
            "\u001b[0;31m---------------------------------------------------------------------------\u001b[0m",
            "\u001b[0;31mTypeError\u001b[0m                                 Traceback (most recent call last)",
            "\u001b[0;32m<ipython-input-135-3435b262f1ae>\u001b[0m in \u001b[0;36m<cell line: 1>\u001b[0;34m()\u001b[0m\n\u001b[0;32m----> 1\u001b[0;31m \u001b[0mtrainer\u001b[0m\u001b[0;34m.\u001b[0m\u001b[0mtrain\u001b[0m\u001b[0;34m(\u001b[0m\u001b[0;34m)\u001b[0m\u001b[0;34m\u001b[0m\u001b[0;34m\u001b[0m\u001b[0m\n\u001b[0m",
            "\u001b[0;32m/usr/local/lib/python3.10/dist-packages/transformers/trainer.py\u001b[0m in \u001b[0;36mtrain\u001b[0;34m(self, resume_from_checkpoint, trial, ignore_keys_for_eval, **kwargs)\u001b[0m\n\u001b[1;32m   1857\u001b[0m                 \u001b[0mhf_hub_utils\u001b[0m\u001b[0;34m.\u001b[0m\u001b[0menable_progress_bars\u001b[0m\u001b[0;34m(\u001b[0m\u001b[0;34m)\u001b[0m\u001b[0;34m\u001b[0m\u001b[0;34m\u001b[0m\u001b[0m\n\u001b[1;32m   1858\u001b[0m         \u001b[0;32melse\u001b[0m\u001b[0;34m:\u001b[0m\u001b[0;34m\u001b[0m\u001b[0;34m\u001b[0m\u001b[0m\n\u001b[0;32m-> 1859\u001b[0;31m             return inner_training_loop(\n\u001b[0m\u001b[1;32m   1860\u001b[0m                 \u001b[0margs\u001b[0m\u001b[0;34m=\u001b[0m\u001b[0margs\u001b[0m\u001b[0;34m,\u001b[0m\u001b[0;34m\u001b[0m\u001b[0;34m\u001b[0m\u001b[0m\n\u001b[1;32m   1861\u001b[0m                 \u001b[0mresume_from_checkpoint\u001b[0m\u001b[0;34m=\u001b[0m\u001b[0mresume_from_checkpoint\u001b[0m\u001b[0;34m,\u001b[0m\u001b[0;34m\u001b[0m\u001b[0;34m\u001b[0m\u001b[0m\n",
            "\u001b[0;32m/usr/local/lib/python3.10/dist-packages/transformers/trainer.py\u001b[0m in \u001b[0;36m_inner_training_loop\u001b[0;34m(self, batch_size, args, resume_from_checkpoint, trial, ignore_keys_for_eval)\u001b[0m\n\u001b[1;32m   2163\u001b[0m \u001b[0;34m\u001b[0m\u001b[0m\n\u001b[1;32m   2164\u001b[0m             \u001b[0mstep\u001b[0m \u001b[0;34m=\u001b[0m \u001b[0;34m-\u001b[0m\u001b[0;36m1\u001b[0m\u001b[0;34m\u001b[0m\u001b[0;34m\u001b[0m\u001b[0m\n\u001b[0;32m-> 2165\u001b[0;31m             \u001b[0;32mfor\u001b[0m \u001b[0mstep\u001b[0m\u001b[0;34m,\u001b[0m \u001b[0minputs\u001b[0m \u001b[0;32min\u001b[0m \u001b[0menumerate\u001b[0m\u001b[0;34m(\u001b[0m\u001b[0mepoch_iterator\u001b[0m\u001b[0;34m)\u001b[0m\u001b[0;34m:\u001b[0m\u001b[0;34m\u001b[0m\u001b[0;34m\u001b[0m\u001b[0m\n\u001b[0m\u001b[1;32m   2166\u001b[0m                 \u001b[0mtotal_batched_samples\u001b[0m \u001b[0;34m+=\u001b[0m \u001b[0;36m1\u001b[0m\u001b[0;34m\u001b[0m\u001b[0;34m\u001b[0m\u001b[0m\n\u001b[1;32m   2167\u001b[0m \u001b[0;34m\u001b[0m\u001b[0m\n",
            "\u001b[0;32m/usr/local/lib/python3.10/dist-packages/accelerate/data_loader.py\u001b[0m in \u001b[0;36m__iter__\u001b[0;34m(self)\u001b[0m\n\u001b[1;32m    452\u001b[0m         \u001b[0;31m# We iterate one batch ahead to check when we are at the end\u001b[0m\u001b[0;34m\u001b[0m\u001b[0;34m\u001b[0m\u001b[0m\n\u001b[1;32m    453\u001b[0m         \u001b[0;32mtry\u001b[0m\u001b[0;34m:\u001b[0m\u001b[0;34m\u001b[0m\u001b[0;34m\u001b[0m\u001b[0m\n\u001b[0;32m--> 454\u001b[0;31m             \u001b[0mcurrent_batch\u001b[0m \u001b[0;34m=\u001b[0m \u001b[0mnext\u001b[0m\u001b[0;34m(\u001b[0m\u001b[0mdataloader_iter\u001b[0m\u001b[0;34m)\u001b[0m\u001b[0;34m\u001b[0m\u001b[0;34m\u001b[0m\u001b[0m\n\u001b[0m\u001b[1;32m    455\u001b[0m         \u001b[0;32mexcept\u001b[0m \u001b[0mStopIteration\u001b[0m\u001b[0;34m:\u001b[0m\u001b[0;34m\u001b[0m\u001b[0;34m\u001b[0m\u001b[0m\n\u001b[1;32m    456\u001b[0m             \u001b[0;32myield\u001b[0m\u001b[0;34m\u001b[0m\u001b[0;34m\u001b[0m\u001b[0m\n",
            "\u001b[0;32m/usr/local/lib/python3.10/dist-packages/torch/utils/data/dataloader.py\u001b[0m in \u001b[0;36m__next__\u001b[0;34m(self)\u001b[0m\n\u001b[1;32m    629\u001b[0m                 \u001b[0;31m# TODO(https://github.com/pytorch/pytorch/issues/76750)\u001b[0m\u001b[0;34m\u001b[0m\u001b[0;34m\u001b[0m\u001b[0m\n\u001b[1;32m    630\u001b[0m                 \u001b[0mself\u001b[0m\u001b[0;34m.\u001b[0m\u001b[0m_reset\u001b[0m\u001b[0;34m(\u001b[0m\u001b[0;34m)\u001b[0m  \u001b[0;31m# type: ignore[call-arg]\u001b[0m\u001b[0;34m\u001b[0m\u001b[0;34m\u001b[0m\u001b[0m\n\u001b[0;32m--> 631\u001b[0;31m             \u001b[0mdata\u001b[0m \u001b[0;34m=\u001b[0m \u001b[0mself\u001b[0m\u001b[0;34m.\u001b[0m\u001b[0m_next_data\u001b[0m\u001b[0;34m(\u001b[0m\u001b[0;34m)\u001b[0m\u001b[0;34m\u001b[0m\u001b[0;34m\u001b[0m\u001b[0m\n\u001b[0m\u001b[1;32m    632\u001b[0m             \u001b[0mself\u001b[0m\u001b[0;34m.\u001b[0m\u001b[0m_num_yielded\u001b[0m \u001b[0;34m+=\u001b[0m \u001b[0;36m1\u001b[0m\u001b[0;34m\u001b[0m\u001b[0;34m\u001b[0m\u001b[0m\n\u001b[1;32m    633\u001b[0m             \u001b[0;32mif\u001b[0m \u001b[0mself\u001b[0m\u001b[0;34m.\u001b[0m\u001b[0m_dataset_kind\u001b[0m \u001b[0;34m==\u001b[0m \u001b[0m_DatasetKind\u001b[0m\u001b[0;34m.\u001b[0m\u001b[0mIterable\u001b[0m \u001b[0;32mand\u001b[0m\u001b[0;31m \u001b[0m\u001b[0;31m\\\u001b[0m\u001b[0;34m\u001b[0m\u001b[0;34m\u001b[0m\u001b[0m\n",
            "\u001b[0;32m/usr/local/lib/python3.10/dist-packages/torch/utils/data/dataloader.py\u001b[0m in \u001b[0;36m_next_data\u001b[0;34m(self)\u001b[0m\n\u001b[1;32m    673\u001b[0m     \u001b[0;32mdef\u001b[0m \u001b[0m_next_data\u001b[0m\u001b[0;34m(\u001b[0m\u001b[0mself\u001b[0m\u001b[0;34m)\u001b[0m\u001b[0;34m:\u001b[0m\u001b[0;34m\u001b[0m\u001b[0;34m\u001b[0m\u001b[0m\n\u001b[1;32m    674\u001b[0m         \u001b[0mindex\u001b[0m \u001b[0;34m=\u001b[0m \u001b[0mself\u001b[0m\u001b[0;34m.\u001b[0m\u001b[0m_next_index\u001b[0m\u001b[0;34m(\u001b[0m\u001b[0;34m)\u001b[0m  \u001b[0;31m# may raise StopIteration\u001b[0m\u001b[0;34m\u001b[0m\u001b[0;34m\u001b[0m\u001b[0m\n\u001b[0;32m--> 675\u001b[0;31m         \u001b[0mdata\u001b[0m \u001b[0;34m=\u001b[0m \u001b[0mself\u001b[0m\u001b[0;34m.\u001b[0m\u001b[0m_dataset_fetcher\u001b[0m\u001b[0;34m.\u001b[0m\u001b[0mfetch\u001b[0m\u001b[0;34m(\u001b[0m\u001b[0mindex\u001b[0m\u001b[0;34m)\u001b[0m  \u001b[0;31m# may raise StopIteration\u001b[0m\u001b[0;34m\u001b[0m\u001b[0;34m\u001b[0m\u001b[0m\n\u001b[0m\u001b[1;32m    676\u001b[0m         \u001b[0;32mif\u001b[0m \u001b[0mself\u001b[0m\u001b[0;34m.\u001b[0m\u001b[0m_pin_memory\u001b[0m\u001b[0;34m:\u001b[0m\u001b[0;34m\u001b[0m\u001b[0;34m\u001b[0m\u001b[0m\n\u001b[1;32m    677\u001b[0m             \u001b[0mdata\u001b[0m \u001b[0;34m=\u001b[0m \u001b[0m_utils\u001b[0m\u001b[0;34m.\u001b[0m\u001b[0mpin_memory\u001b[0m\u001b[0;34m.\u001b[0m\u001b[0mpin_memory\u001b[0m\u001b[0;34m(\u001b[0m\u001b[0mdata\u001b[0m\u001b[0;34m,\u001b[0m \u001b[0mself\u001b[0m\u001b[0;34m.\u001b[0m\u001b[0m_pin_memory_device\u001b[0m\u001b[0;34m)\u001b[0m\u001b[0;34m\u001b[0m\u001b[0;34m\u001b[0m\u001b[0m\n",
            "\u001b[0;32m/usr/local/lib/python3.10/dist-packages/torch/utils/data/_utils/fetch.py\u001b[0m in \u001b[0;36mfetch\u001b[0;34m(self, possibly_batched_index)\u001b[0m\n\u001b[1;32m     49\u001b[0m                 \u001b[0mdata\u001b[0m \u001b[0;34m=\u001b[0m \u001b[0mself\u001b[0m\u001b[0;34m.\u001b[0m\u001b[0mdataset\u001b[0m\u001b[0;34m.\u001b[0m\u001b[0m__getitems__\u001b[0m\u001b[0;34m(\u001b[0m\u001b[0mpossibly_batched_index\u001b[0m\u001b[0;34m)\u001b[0m\u001b[0;34m\u001b[0m\u001b[0;34m\u001b[0m\u001b[0m\n\u001b[1;32m     50\u001b[0m             \u001b[0;32melse\u001b[0m\u001b[0;34m:\u001b[0m\u001b[0;34m\u001b[0m\u001b[0;34m\u001b[0m\u001b[0m\n\u001b[0;32m---> 51\u001b[0;31m                 \u001b[0mdata\u001b[0m \u001b[0;34m=\u001b[0m \u001b[0;34m[\u001b[0m\u001b[0mself\u001b[0m\u001b[0;34m.\u001b[0m\u001b[0mdataset\u001b[0m\u001b[0;34m[\u001b[0m\u001b[0midx\u001b[0m\u001b[0;34m]\u001b[0m \u001b[0;32mfor\u001b[0m \u001b[0midx\u001b[0m \u001b[0;32min\u001b[0m \u001b[0mpossibly_batched_index\u001b[0m\u001b[0;34m]\u001b[0m\u001b[0;34m\u001b[0m\u001b[0;34m\u001b[0m\u001b[0m\n\u001b[0m\u001b[1;32m     52\u001b[0m         \u001b[0;32melse\u001b[0m\u001b[0;34m:\u001b[0m\u001b[0;34m\u001b[0m\u001b[0;34m\u001b[0m\u001b[0m\n\u001b[1;32m     53\u001b[0m             \u001b[0mdata\u001b[0m \u001b[0;34m=\u001b[0m \u001b[0mself\u001b[0m\u001b[0;34m.\u001b[0m\u001b[0mdataset\u001b[0m\u001b[0;34m[\u001b[0m\u001b[0mpossibly_batched_index\u001b[0m\u001b[0;34m]\u001b[0m\u001b[0;34m\u001b[0m\u001b[0;34m\u001b[0m\u001b[0m\n",
            "\u001b[0;32m/usr/local/lib/python3.10/dist-packages/torch/utils/data/_utils/fetch.py\u001b[0m in \u001b[0;36m<listcomp>\u001b[0;34m(.0)\u001b[0m\n\u001b[1;32m     49\u001b[0m                 \u001b[0mdata\u001b[0m \u001b[0;34m=\u001b[0m \u001b[0mself\u001b[0m\u001b[0;34m.\u001b[0m\u001b[0mdataset\u001b[0m\u001b[0;34m.\u001b[0m\u001b[0m__getitems__\u001b[0m\u001b[0;34m(\u001b[0m\u001b[0mpossibly_batched_index\u001b[0m\u001b[0;34m)\u001b[0m\u001b[0;34m\u001b[0m\u001b[0;34m\u001b[0m\u001b[0m\n\u001b[1;32m     50\u001b[0m             \u001b[0;32melse\u001b[0m\u001b[0;34m:\u001b[0m\u001b[0;34m\u001b[0m\u001b[0;34m\u001b[0m\u001b[0m\n\u001b[0;32m---> 51\u001b[0;31m                 \u001b[0mdata\u001b[0m \u001b[0;34m=\u001b[0m \u001b[0;34m[\u001b[0m\u001b[0mself\u001b[0m\u001b[0;34m.\u001b[0m\u001b[0mdataset\u001b[0m\u001b[0;34m[\u001b[0m\u001b[0midx\u001b[0m\u001b[0;34m]\u001b[0m \u001b[0;32mfor\u001b[0m \u001b[0midx\u001b[0m \u001b[0;32min\u001b[0m \u001b[0mpossibly_batched_index\u001b[0m\u001b[0;34m]\u001b[0m\u001b[0;34m\u001b[0m\u001b[0;34m\u001b[0m\u001b[0m\n\u001b[0m\u001b[1;32m     52\u001b[0m         \u001b[0;32melse\u001b[0m\u001b[0;34m:\u001b[0m\u001b[0;34m\u001b[0m\u001b[0;34m\u001b[0m\u001b[0m\n\u001b[1;32m     53\u001b[0m             \u001b[0mdata\u001b[0m \u001b[0;34m=\u001b[0m \u001b[0mself\u001b[0m\u001b[0;34m.\u001b[0m\u001b[0mdataset\u001b[0m\u001b[0;34m[\u001b[0m\u001b[0mpossibly_batched_index\u001b[0m\u001b[0;34m]\u001b[0m\u001b[0;34m\u001b[0m\u001b[0;34m\u001b[0m\u001b[0m\n",
            "\u001b[0;31mTypeError\u001b[0m: 'DataLoader' object is not subscriptable"
          ]
        }
      ]
    },
    {
      "cell_type": "code",
      "source": [],
      "metadata": {
        "id": "4XEcpKk-i9Ys"
      },
      "execution_count": null,
      "outputs": []
    },
    {
      "cell_type": "code",
      "source": [],
      "metadata": {
        "id": "fNU0Hnv0i9bk"
      },
      "execution_count": null,
      "outputs": []
    },
    {
      "cell_type": "code",
      "source": [
        "!pip install accelerate -U -q\n",
        "!pip install transformers[torch] -q"
      ],
      "metadata": {
        "colab": {
          "base_uri": "https://localhost:8080/"
        },
        "id": "B7dG6ygM5vnH",
        "outputId": "e03d9257-3a45-4b62-86fb-e9cd81432fb5"
      },
      "execution_count": null,
      "outputs": [
        {
          "output_type": "stream",
          "name": "stdout",
          "text": [
            "\u001b[?25l     \u001b[90m━━━━━━━━━━━━━━━━━━━━━━━━━━━━━━━━━━━━━━━━\u001b[0m \u001b[32m0.0/302.4 kB\u001b[0m \u001b[31m?\u001b[0m eta \u001b[36m-:--:--\u001b[0m\r\u001b[2K     \u001b[91m━━━━━━━━━━━━━━━━━━━━━━━━━\u001b[0m\u001b[91m╸\u001b[0m\u001b[90m━━━━━━━━━━━━━━\u001b[0m \u001b[32m194.6/302.4 kB\u001b[0m \u001b[31m5.7 MB/s\u001b[0m eta \u001b[36m0:00:01\u001b[0m\r\u001b[2K     \u001b[90m━━━━━━━━━━━━━━━━━━━━━━━━━━━━━━━━━━━━━━━━\u001b[0m \u001b[32m302.4/302.4 kB\u001b[0m \u001b[31m5.3 MB/s\u001b[0m eta \u001b[36m0:00:00\u001b[0m\n",
            "\u001b[?25h"
          ]
        }
      ]
    },
    {
      "cell_type": "code",
      "source": [],
      "metadata": {
        "id": "iTHL-3ev-IIQ"
      },
      "execution_count": null,
      "outputs": []
    },
    {
      "cell_type": "code",
      "source": [
        "trainer.train()"
      ],
      "metadata": {
        "colab": {
          "base_uri": "https://localhost:8080/",
          "height": 1000
        },
        "id": "QBePRU7G-GyZ",
        "outputId": "a687e3d4-c5a0-41c8-f5dc-aa2e4d518e4a"
      },
      "execution_count": null,
      "outputs": [
        {
          "output_type": "error",
          "ename": "KeyError",
          "evalue": "2166",
          "traceback": [
            "\u001b[0;31m---------------------------------------------------------------------------\u001b[0m",
            "\u001b[0;31mKeyError\u001b[0m                                  Traceback (most recent call last)",
            "\u001b[0;32m/usr/local/lib/python3.10/dist-packages/pandas/core/indexes/base.py\u001b[0m in \u001b[0;36mget_loc\u001b[0;34m(self, key)\u001b[0m\n\u001b[1;32m   3652\u001b[0m         \u001b[0;32mtry\u001b[0m\u001b[0;34m:\u001b[0m\u001b[0;34m\u001b[0m\u001b[0;34m\u001b[0m\u001b[0m\n\u001b[0;32m-> 3653\u001b[0;31m             \u001b[0;32mreturn\u001b[0m \u001b[0mself\u001b[0m\u001b[0;34m.\u001b[0m\u001b[0m_engine\u001b[0m\u001b[0;34m.\u001b[0m\u001b[0mget_loc\u001b[0m\u001b[0;34m(\u001b[0m\u001b[0mcasted_key\u001b[0m\u001b[0;34m)\u001b[0m\u001b[0;34m\u001b[0m\u001b[0;34m\u001b[0m\u001b[0m\n\u001b[0m\u001b[1;32m   3654\u001b[0m         \u001b[0;32mexcept\u001b[0m \u001b[0mKeyError\u001b[0m \u001b[0;32mas\u001b[0m \u001b[0merr\u001b[0m\u001b[0;34m:\u001b[0m\u001b[0;34m\u001b[0m\u001b[0;34m\u001b[0m\u001b[0m\n",
            "\u001b[0;32m/usr/local/lib/python3.10/dist-packages/pandas/_libs/index.pyx\u001b[0m in \u001b[0;36mpandas._libs.index.IndexEngine.get_loc\u001b[0;34m()\u001b[0m\n",
            "\u001b[0;32m/usr/local/lib/python3.10/dist-packages/pandas/_libs/index.pyx\u001b[0m in \u001b[0;36mpandas._libs.index.IndexEngine.get_loc\u001b[0;34m()\u001b[0m\n",
            "\u001b[0;32mpandas/_libs/hashtable_class_helper.pxi\u001b[0m in \u001b[0;36mpandas._libs.hashtable.PyObjectHashTable.get_item\u001b[0;34m()\u001b[0m\n",
            "\u001b[0;32mpandas/_libs/hashtable_class_helper.pxi\u001b[0m in \u001b[0;36mpandas._libs.hashtable.PyObjectHashTable.get_item\u001b[0;34m()\u001b[0m\n",
            "\u001b[0;31mKeyError\u001b[0m: 2166",
            "\nThe above exception was the direct cause of the following exception:\n",
            "\u001b[0;31mKeyError\u001b[0m                                  Traceback (most recent call last)",
            "\u001b[0;32m<ipython-input-22-3435b262f1ae>\u001b[0m in \u001b[0;36m<cell line: 1>\u001b[0;34m()\u001b[0m\n\u001b[0;32m----> 1\u001b[0;31m \u001b[0mtrainer\u001b[0m\u001b[0;34m.\u001b[0m\u001b[0mtrain\u001b[0m\u001b[0;34m(\u001b[0m\u001b[0;34m)\u001b[0m\u001b[0;34m\u001b[0m\u001b[0;34m\u001b[0m\u001b[0m\n\u001b[0m",
            "\u001b[0;32m/usr/local/lib/python3.10/dist-packages/transformers/trainer.py\u001b[0m in \u001b[0;36mtrain\u001b[0;34m(self, resume_from_checkpoint, trial, ignore_keys_for_eval, **kwargs)\u001b[0m\n\u001b[1;32m   1857\u001b[0m                 \u001b[0mhf_hub_utils\u001b[0m\u001b[0;34m.\u001b[0m\u001b[0menable_progress_bars\u001b[0m\u001b[0;34m(\u001b[0m\u001b[0;34m)\u001b[0m\u001b[0;34m\u001b[0m\u001b[0;34m\u001b[0m\u001b[0m\n\u001b[1;32m   1858\u001b[0m         \u001b[0;32melse\u001b[0m\u001b[0;34m:\u001b[0m\u001b[0;34m\u001b[0m\u001b[0;34m\u001b[0m\u001b[0m\n\u001b[0;32m-> 1859\u001b[0;31m             return inner_training_loop(\n\u001b[0m\u001b[1;32m   1860\u001b[0m                 \u001b[0margs\u001b[0m\u001b[0;34m=\u001b[0m\u001b[0margs\u001b[0m\u001b[0;34m,\u001b[0m\u001b[0;34m\u001b[0m\u001b[0;34m\u001b[0m\u001b[0m\n\u001b[1;32m   1861\u001b[0m                 \u001b[0mresume_from_checkpoint\u001b[0m\u001b[0;34m=\u001b[0m\u001b[0mresume_from_checkpoint\u001b[0m\u001b[0;34m,\u001b[0m\u001b[0;34m\u001b[0m\u001b[0;34m\u001b[0m\u001b[0m\n",
            "\u001b[0;32m/usr/local/lib/python3.10/dist-packages/transformers/trainer.py\u001b[0m in \u001b[0;36m_inner_training_loop\u001b[0;34m(self, batch_size, args, resume_from_checkpoint, trial, ignore_keys_for_eval)\u001b[0m\n\u001b[1;32m   2163\u001b[0m \u001b[0;34m\u001b[0m\u001b[0m\n\u001b[1;32m   2164\u001b[0m             \u001b[0mstep\u001b[0m \u001b[0;34m=\u001b[0m \u001b[0;34m-\u001b[0m\u001b[0;36m1\u001b[0m\u001b[0;34m\u001b[0m\u001b[0;34m\u001b[0m\u001b[0m\n\u001b[0;32m-> 2165\u001b[0;31m             \u001b[0;32mfor\u001b[0m \u001b[0mstep\u001b[0m\u001b[0;34m,\u001b[0m \u001b[0minputs\u001b[0m \u001b[0;32min\u001b[0m \u001b[0menumerate\u001b[0m\u001b[0;34m(\u001b[0m\u001b[0mepoch_iterator\u001b[0m\u001b[0;34m)\u001b[0m\u001b[0;34m:\u001b[0m\u001b[0;34m\u001b[0m\u001b[0;34m\u001b[0m\u001b[0m\n\u001b[0m\u001b[1;32m   2166\u001b[0m                 \u001b[0mtotal_batched_samples\u001b[0m \u001b[0;34m+=\u001b[0m \u001b[0;36m1\u001b[0m\u001b[0;34m\u001b[0m\u001b[0;34m\u001b[0m\u001b[0m\n\u001b[1;32m   2167\u001b[0m \u001b[0;34m\u001b[0m\u001b[0m\n",
            "\u001b[0;32m/usr/local/lib/python3.10/dist-packages/accelerate/data_loader.py\u001b[0m in \u001b[0;36m__iter__\u001b[0;34m(self)\u001b[0m\n\u001b[1;32m    452\u001b[0m         \u001b[0;31m# We iterate one batch ahead to check when we are at the end\u001b[0m\u001b[0;34m\u001b[0m\u001b[0;34m\u001b[0m\u001b[0m\n\u001b[1;32m    453\u001b[0m         \u001b[0;32mtry\u001b[0m\u001b[0;34m:\u001b[0m\u001b[0;34m\u001b[0m\u001b[0;34m\u001b[0m\u001b[0m\n\u001b[0;32m--> 454\u001b[0;31m             \u001b[0mcurrent_batch\u001b[0m \u001b[0;34m=\u001b[0m \u001b[0mnext\u001b[0m\u001b[0;34m(\u001b[0m\u001b[0mdataloader_iter\u001b[0m\u001b[0;34m)\u001b[0m\u001b[0;34m\u001b[0m\u001b[0;34m\u001b[0m\u001b[0m\n\u001b[0m\u001b[1;32m    455\u001b[0m         \u001b[0;32mexcept\u001b[0m \u001b[0mStopIteration\u001b[0m\u001b[0;34m:\u001b[0m\u001b[0;34m\u001b[0m\u001b[0;34m\u001b[0m\u001b[0m\n\u001b[1;32m    456\u001b[0m             \u001b[0;32myield\u001b[0m\u001b[0;34m\u001b[0m\u001b[0;34m\u001b[0m\u001b[0m\n",
            "\u001b[0;32m/usr/local/lib/python3.10/dist-packages/torch/utils/data/dataloader.py\u001b[0m in \u001b[0;36m__next__\u001b[0;34m(self)\u001b[0m\n\u001b[1;32m    629\u001b[0m                 \u001b[0;31m# TODO(https://github.com/pytorch/pytorch/issues/76750)\u001b[0m\u001b[0;34m\u001b[0m\u001b[0;34m\u001b[0m\u001b[0m\n\u001b[1;32m    630\u001b[0m                 \u001b[0mself\u001b[0m\u001b[0;34m.\u001b[0m\u001b[0m_reset\u001b[0m\u001b[0;34m(\u001b[0m\u001b[0;34m)\u001b[0m  \u001b[0;31m# type: ignore[call-arg]\u001b[0m\u001b[0;34m\u001b[0m\u001b[0;34m\u001b[0m\u001b[0m\n\u001b[0;32m--> 631\u001b[0;31m             \u001b[0mdata\u001b[0m \u001b[0;34m=\u001b[0m \u001b[0mself\u001b[0m\u001b[0;34m.\u001b[0m\u001b[0m_next_data\u001b[0m\u001b[0;34m(\u001b[0m\u001b[0;34m)\u001b[0m\u001b[0;34m\u001b[0m\u001b[0;34m\u001b[0m\u001b[0m\n\u001b[0m\u001b[1;32m    632\u001b[0m             \u001b[0mself\u001b[0m\u001b[0;34m.\u001b[0m\u001b[0m_num_yielded\u001b[0m \u001b[0;34m+=\u001b[0m \u001b[0;36m1\u001b[0m\u001b[0;34m\u001b[0m\u001b[0;34m\u001b[0m\u001b[0m\n\u001b[1;32m    633\u001b[0m             \u001b[0;32mif\u001b[0m \u001b[0mself\u001b[0m\u001b[0;34m.\u001b[0m\u001b[0m_dataset_kind\u001b[0m \u001b[0;34m==\u001b[0m \u001b[0m_DatasetKind\u001b[0m\u001b[0;34m.\u001b[0m\u001b[0mIterable\u001b[0m \u001b[0;32mand\u001b[0m\u001b[0;31m \u001b[0m\u001b[0;31m\\\u001b[0m\u001b[0;34m\u001b[0m\u001b[0;34m\u001b[0m\u001b[0m\n",
            "\u001b[0;32m/usr/local/lib/python3.10/dist-packages/torch/utils/data/dataloader.py\u001b[0m in \u001b[0;36m_next_data\u001b[0;34m(self)\u001b[0m\n\u001b[1;32m    673\u001b[0m     \u001b[0;32mdef\u001b[0m \u001b[0m_next_data\u001b[0m\u001b[0;34m(\u001b[0m\u001b[0mself\u001b[0m\u001b[0;34m)\u001b[0m\u001b[0;34m:\u001b[0m\u001b[0;34m\u001b[0m\u001b[0;34m\u001b[0m\u001b[0m\n\u001b[1;32m    674\u001b[0m         \u001b[0mindex\u001b[0m \u001b[0;34m=\u001b[0m \u001b[0mself\u001b[0m\u001b[0;34m.\u001b[0m\u001b[0m_next_index\u001b[0m\u001b[0;34m(\u001b[0m\u001b[0;34m)\u001b[0m  \u001b[0;31m# may raise StopIteration\u001b[0m\u001b[0;34m\u001b[0m\u001b[0;34m\u001b[0m\u001b[0m\n\u001b[0;32m--> 675\u001b[0;31m         \u001b[0mdata\u001b[0m \u001b[0;34m=\u001b[0m \u001b[0mself\u001b[0m\u001b[0;34m.\u001b[0m\u001b[0m_dataset_fetcher\u001b[0m\u001b[0;34m.\u001b[0m\u001b[0mfetch\u001b[0m\u001b[0;34m(\u001b[0m\u001b[0mindex\u001b[0m\u001b[0;34m)\u001b[0m  \u001b[0;31m# may raise StopIteration\u001b[0m\u001b[0;34m\u001b[0m\u001b[0;34m\u001b[0m\u001b[0m\n\u001b[0m\u001b[1;32m    676\u001b[0m         \u001b[0;32mif\u001b[0m \u001b[0mself\u001b[0m\u001b[0;34m.\u001b[0m\u001b[0m_pin_memory\u001b[0m\u001b[0;34m:\u001b[0m\u001b[0;34m\u001b[0m\u001b[0;34m\u001b[0m\u001b[0m\n\u001b[1;32m    677\u001b[0m             \u001b[0mdata\u001b[0m \u001b[0;34m=\u001b[0m \u001b[0m_utils\u001b[0m\u001b[0;34m.\u001b[0m\u001b[0mpin_memory\u001b[0m\u001b[0;34m.\u001b[0m\u001b[0mpin_memory\u001b[0m\u001b[0;34m(\u001b[0m\u001b[0mdata\u001b[0m\u001b[0;34m,\u001b[0m \u001b[0mself\u001b[0m\u001b[0;34m.\u001b[0m\u001b[0m_pin_memory_device\u001b[0m\u001b[0;34m)\u001b[0m\u001b[0;34m\u001b[0m\u001b[0;34m\u001b[0m\u001b[0m\n",
            "\u001b[0;32m/usr/local/lib/python3.10/dist-packages/torch/utils/data/_utils/fetch.py\u001b[0m in \u001b[0;36mfetch\u001b[0;34m(self, possibly_batched_index)\u001b[0m\n\u001b[1;32m     49\u001b[0m                 \u001b[0mdata\u001b[0m \u001b[0;34m=\u001b[0m \u001b[0mself\u001b[0m\u001b[0;34m.\u001b[0m\u001b[0mdataset\u001b[0m\u001b[0;34m.\u001b[0m\u001b[0m__getitems__\u001b[0m\u001b[0;34m(\u001b[0m\u001b[0mpossibly_batched_index\u001b[0m\u001b[0;34m)\u001b[0m\u001b[0;34m\u001b[0m\u001b[0;34m\u001b[0m\u001b[0m\n\u001b[1;32m     50\u001b[0m             \u001b[0;32melse\u001b[0m\u001b[0;34m:\u001b[0m\u001b[0;34m\u001b[0m\u001b[0;34m\u001b[0m\u001b[0m\n\u001b[0;32m---> 51\u001b[0;31m                 \u001b[0mdata\u001b[0m \u001b[0;34m=\u001b[0m \u001b[0;34m[\u001b[0m\u001b[0mself\u001b[0m\u001b[0;34m.\u001b[0m\u001b[0mdataset\u001b[0m\u001b[0;34m[\u001b[0m\u001b[0midx\u001b[0m\u001b[0;34m]\u001b[0m \u001b[0;32mfor\u001b[0m \u001b[0midx\u001b[0m \u001b[0;32min\u001b[0m \u001b[0mpossibly_batched_index\u001b[0m\u001b[0;34m]\u001b[0m\u001b[0;34m\u001b[0m\u001b[0;34m\u001b[0m\u001b[0m\n\u001b[0m\u001b[1;32m     52\u001b[0m         \u001b[0;32melse\u001b[0m\u001b[0;34m:\u001b[0m\u001b[0;34m\u001b[0m\u001b[0;34m\u001b[0m\u001b[0m\n\u001b[1;32m     53\u001b[0m             \u001b[0mdata\u001b[0m \u001b[0;34m=\u001b[0m \u001b[0mself\u001b[0m\u001b[0;34m.\u001b[0m\u001b[0mdataset\u001b[0m\u001b[0;34m[\u001b[0m\u001b[0mpossibly_batched_index\u001b[0m\u001b[0;34m]\u001b[0m\u001b[0;34m\u001b[0m\u001b[0;34m\u001b[0m\u001b[0m\n",
            "\u001b[0;32m/usr/local/lib/python3.10/dist-packages/torch/utils/data/_utils/fetch.py\u001b[0m in \u001b[0;36m<listcomp>\u001b[0;34m(.0)\u001b[0m\n\u001b[1;32m     49\u001b[0m                 \u001b[0mdata\u001b[0m \u001b[0;34m=\u001b[0m \u001b[0mself\u001b[0m\u001b[0;34m.\u001b[0m\u001b[0mdataset\u001b[0m\u001b[0;34m.\u001b[0m\u001b[0m__getitems__\u001b[0m\u001b[0;34m(\u001b[0m\u001b[0mpossibly_batched_index\u001b[0m\u001b[0;34m)\u001b[0m\u001b[0;34m\u001b[0m\u001b[0;34m\u001b[0m\u001b[0m\n\u001b[1;32m     50\u001b[0m             \u001b[0;32melse\u001b[0m\u001b[0;34m:\u001b[0m\u001b[0;34m\u001b[0m\u001b[0;34m\u001b[0m\u001b[0m\n\u001b[0;32m---> 51\u001b[0;31m                 \u001b[0mdata\u001b[0m \u001b[0;34m=\u001b[0m \u001b[0;34m[\u001b[0m\u001b[0mself\u001b[0m\u001b[0;34m.\u001b[0m\u001b[0mdataset\u001b[0m\u001b[0;34m[\u001b[0m\u001b[0midx\u001b[0m\u001b[0;34m]\u001b[0m \u001b[0;32mfor\u001b[0m \u001b[0midx\u001b[0m \u001b[0;32min\u001b[0m \u001b[0mpossibly_batched_index\u001b[0m\u001b[0;34m]\u001b[0m\u001b[0;34m\u001b[0m\u001b[0;34m\u001b[0m\u001b[0m\n\u001b[0m\u001b[1;32m     52\u001b[0m         \u001b[0;32melse\u001b[0m\u001b[0;34m:\u001b[0m\u001b[0;34m\u001b[0m\u001b[0;34m\u001b[0m\u001b[0m\n\u001b[1;32m     53\u001b[0m             \u001b[0mdata\u001b[0m \u001b[0;34m=\u001b[0m \u001b[0mself\u001b[0m\u001b[0;34m.\u001b[0m\u001b[0mdataset\u001b[0m\u001b[0;34m[\u001b[0m\u001b[0mpossibly_batched_index\u001b[0m\u001b[0;34m]\u001b[0m\u001b[0;34m\u001b[0m\u001b[0;34m\u001b[0m\u001b[0m\n",
            "\u001b[0;32m/usr/local/lib/python3.10/dist-packages/pandas/core/frame.py\u001b[0m in \u001b[0;36m__getitem__\u001b[0;34m(self, key)\u001b[0m\n\u001b[1;32m   3759\u001b[0m             \u001b[0;32mif\u001b[0m \u001b[0mself\u001b[0m\u001b[0;34m.\u001b[0m\u001b[0mcolumns\u001b[0m\u001b[0;34m.\u001b[0m\u001b[0mnlevels\u001b[0m \u001b[0;34m>\u001b[0m \u001b[0;36m1\u001b[0m\u001b[0;34m:\u001b[0m\u001b[0;34m\u001b[0m\u001b[0;34m\u001b[0m\u001b[0m\n\u001b[1;32m   3760\u001b[0m                 \u001b[0;32mreturn\u001b[0m \u001b[0mself\u001b[0m\u001b[0;34m.\u001b[0m\u001b[0m_getitem_multilevel\u001b[0m\u001b[0;34m(\u001b[0m\u001b[0mkey\u001b[0m\u001b[0;34m)\u001b[0m\u001b[0;34m\u001b[0m\u001b[0;34m\u001b[0m\u001b[0m\n\u001b[0;32m-> 3761\u001b[0;31m             \u001b[0mindexer\u001b[0m \u001b[0;34m=\u001b[0m \u001b[0mself\u001b[0m\u001b[0;34m.\u001b[0m\u001b[0mcolumns\u001b[0m\u001b[0;34m.\u001b[0m\u001b[0mget_loc\u001b[0m\u001b[0;34m(\u001b[0m\u001b[0mkey\u001b[0m\u001b[0;34m)\u001b[0m\u001b[0;34m\u001b[0m\u001b[0;34m\u001b[0m\u001b[0m\n\u001b[0m\u001b[1;32m   3762\u001b[0m             \u001b[0;32mif\u001b[0m \u001b[0mis_integer\u001b[0m\u001b[0;34m(\u001b[0m\u001b[0mindexer\u001b[0m\u001b[0;34m)\u001b[0m\u001b[0;34m:\u001b[0m\u001b[0;34m\u001b[0m\u001b[0;34m\u001b[0m\u001b[0m\n\u001b[1;32m   3763\u001b[0m                 \u001b[0mindexer\u001b[0m \u001b[0;34m=\u001b[0m \u001b[0;34m[\u001b[0m\u001b[0mindexer\u001b[0m\u001b[0;34m]\u001b[0m\u001b[0;34m\u001b[0m\u001b[0;34m\u001b[0m\u001b[0m\n",
            "\u001b[0;32m/usr/local/lib/python3.10/dist-packages/pandas/core/indexes/base.py\u001b[0m in \u001b[0;36mget_loc\u001b[0;34m(self, key)\u001b[0m\n\u001b[1;32m   3653\u001b[0m             \u001b[0;32mreturn\u001b[0m \u001b[0mself\u001b[0m\u001b[0;34m.\u001b[0m\u001b[0m_engine\u001b[0m\u001b[0;34m.\u001b[0m\u001b[0mget_loc\u001b[0m\u001b[0;34m(\u001b[0m\u001b[0mcasted_key\u001b[0m\u001b[0;34m)\u001b[0m\u001b[0;34m\u001b[0m\u001b[0;34m\u001b[0m\u001b[0m\n\u001b[1;32m   3654\u001b[0m         \u001b[0;32mexcept\u001b[0m \u001b[0mKeyError\u001b[0m \u001b[0;32mas\u001b[0m \u001b[0merr\u001b[0m\u001b[0;34m:\u001b[0m\u001b[0;34m\u001b[0m\u001b[0;34m\u001b[0m\u001b[0m\n\u001b[0;32m-> 3655\u001b[0;31m             \u001b[0;32mraise\u001b[0m \u001b[0mKeyError\u001b[0m\u001b[0;34m(\u001b[0m\u001b[0mkey\u001b[0m\u001b[0;34m)\u001b[0m \u001b[0;32mfrom\u001b[0m \u001b[0merr\u001b[0m\u001b[0;34m\u001b[0m\u001b[0;34m\u001b[0m\u001b[0m\n\u001b[0m\u001b[1;32m   3656\u001b[0m         \u001b[0;32mexcept\u001b[0m \u001b[0mTypeError\u001b[0m\u001b[0;34m:\u001b[0m\u001b[0;34m\u001b[0m\u001b[0;34m\u001b[0m\u001b[0m\n\u001b[1;32m   3657\u001b[0m             \u001b[0;31m# If we have a listlike key, _check_indexing_error will raise\u001b[0m\u001b[0;34m\u001b[0m\u001b[0;34m\u001b[0m\u001b[0m\n",
            "\u001b[0;31mKeyError\u001b[0m: 2166"
          ]
        }
      ]
    },
    {
      "cell_type": "code",
      "source": [
        "# Load model directly\n",
        "from transformers import AutoTokenizer, AutoModel\n",
        "\n",
        "tokenizer = AutoTokenizer.from_pretrained(\"monsoon-nlp/bert-base-thai\")\n",
        "model = AutoModel.from_pretrained(\"monsoon-nlp/bert-base-thai\")"
      ],
      "metadata": {
        "execution": {
          "iopub.status.busy": "2024-05-07T10:00:45.032600Z",
          "iopub.execute_input": "2024-05-07T10:00:45.033004Z",
          "iopub.status.idle": "2024-05-07T10:00:45.823814Z",
          "shell.execute_reply.started": "2024-05-07T10:00:45.032972Z",
          "shell.execute_reply": "2024-05-07T10:00:45.822952Z"
        },
        "trusted": true,
        "id": "dI1MAq-3ui5e"
      },
      "execution_count": null,
      "outputs": []
    },
    {
      "cell_type": "code",
      "source": [
        "num_labels = 2\n",
        "classifier = nn.Linear(768, num_labels)"
      ],
      "metadata": {
        "id": "uTHmY7yTui5e"
      },
      "execution_count": null,
      "outputs": []
    },
    {
      "cell_type": "code",
      "source": [
        "train_df"
      ],
      "metadata": {
        "execution": {
          "iopub.status.busy": "2024-05-07T06:23:32.510362Z",
          "iopub.execute_input": "2024-05-07T06:23:32.511394Z",
          "iopub.status.idle": "2024-05-07T06:23:32.533343Z",
          "shell.execute_reply.started": "2024-05-07T06:23:32.511345Z",
          "shell.execute_reply": "2024-05-07T06:23:32.532572Z"
        },
        "trusted": true,
        "id": "ieJDdYrDui5e",
        "outputId": "f7276b8b-2437-4810-b03a-ec6e1a90d6d9"
      },
      "execution_count": null,
      "outputs": [
        {
          "execution_count": 21,
          "output_type": "execute_result",
          "data": {
            "text/plain": "        id          rgno                                            context  \\\n0        0  1.055290e+11  กรรมการคนใดคนหนึ่งลงลายมือชื่อร่วมกับกรรมการอื...   \n1        1  1.055290e+11  กรรมการคนใดคนหนึ่งลงลายมือชื่อร่วมกับกรรมการอื...   \n2        2  1.055290e+11  กรรมการคนใดคนหนึ่งลงลายมือชื่อร่วมกับกรรมการอื...   \n3        3  1.055290e+11  กรรมการคนใดคนหนึ่งลงลายมือชื่อร่วมกับกรรมการอื...   \n4        4  1.055290e+11  กรรมการคนใดคนหนึ่งลงลายมือชื่อร่วมกับกรรมการอื...   \n...    ...           ...                                                ...   \n4424  4424  1.055260e+11  นายอุกฤษฏ์ ดำแดง หรือนายฐีรชัย พรสุริยะศักดิ์ ...   \n4425  4425  1.055260e+11  นายอุกฤษฏ์ ดำแดง หรือนายฐีรชัย พรสุริยะศักดิ์ ...   \n4426  4426  1.055260e+11  นายอุกฤษฏ์ ดำแดง หรือนายฐีรชัย พรสุริยะศักดิ์ ...   \n4427  4427  1.055260e+11  นายอุกฤษฏ์ ดำแดง หรือนายฐีรชัย พรสุริยะศักดิ์ ...   \n4428  4428  1.055260e+11  นายอุกฤษฏ์ ดำแดง หรือนายฐีรชัย พรสุริยะศักดิ์ ...   \n\n      pattern                                           question  \\\n0       11016                                    ['พศิน บัวขาว']   \n1       11016                               ['นภัสกร แซ่เนี้ยว']   \n2       11016                            ['ภูวสิษฏ์ วิภาสชีวิน']   \n3       11016                            ['ธนันทิกานต์ ราชาเดช']   \n4       11016                                 ['นรากรณ์ ดีเย็น']   \n...       ...                                                ...   \n4424    20010  ['อานนท์ แซ่อึ่ง', 'ฐีรชัย พรสุริยะศักดิ์', 'ธ...   \n4425    20010  ['อานนท์ แซ่อึ่ง', 'อุกฤษฏ์ ดำแดง', 'ธีรพล แสง...   \n4426    20010  ['อุกฤษฏ์ ดำแดง', 'ฐีรชัย พรสุริยะศักดิ์', 'ธี...   \n4427    20010  ['อานนท์ แซ่อึ่ง', 'ฐีรชัย พรสุริยะศักดิ์', 'ธ...   \n4428    20010  ['อุกฤษฏ์ ดำแดง', 'ฐีรชัย พรสุริยะศักดิ์', 'ธี...   \n\n                                         legal_act condition  answer  \n0            การทำนิติกรรม สำนักงานตรวจคนเข้าเมือง       NaN       0  \n1                         การทำนิติกรรม กรมทางหสวง       NaN       0  \n2                                  อสังหาริมทรัพย์       NaN       0  \n3                การทำนิติกรรม หน่วยราชการวิสาหกิจ       NaN       0  \n4                                  อสังหาริมทรัพย์       NaN       0  \n...                                            ...       ...     ...  \n4424            ใบอนุญาตจำหน่ายสุราและจำหน่ายยาสูบ       NaN       1  \n4425                      การทำนิติกรรม กรมศุลกากร       NaN       1  \n4426  การทำนิติกรรมผูกพันส่วนงานราชการ รัฐวิสาหกิจ       NaN       0  \n4427               การทำนิติกรรม การนิคมอุตสาหกรรม       NaN       1  \n4428            ใบอนุญาตจำหน่ายอาหารและเครื่องดื่ม       NaN       0  \n\n[4429 rows x 8 columns]",
            "text/html": "<div>\n<style scoped>\n    .dataframe tbody tr th:only-of-type {\n        vertical-align: middle;\n    }\n\n    .dataframe tbody tr th {\n        vertical-align: top;\n    }\n\n    .dataframe thead th {\n        text-align: right;\n    }\n</style>\n<table border=\"1\" class=\"dataframe\">\n  <thead>\n    <tr style=\"text-align: right;\">\n      <th></th>\n      <th>id</th>\n      <th>rgno</th>\n      <th>context</th>\n      <th>pattern</th>\n      <th>question</th>\n      <th>legal_act</th>\n      <th>condition</th>\n      <th>answer</th>\n    </tr>\n  </thead>\n  <tbody>\n    <tr>\n      <th>0</th>\n      <td>0</td>\n      <td>1.055290e+11</td>\n      <td>กรรมการคนใดคนหนึ่งลงลายมือชื่อร่วมกับกรรมการอื...</td>\n      <td>11016</td>\n      <td>['พศิน บัวขาว']</td>\n      <td>การทำนิติกรรม สำนักงานตรวจคนเข้าเมือง</td>\n      <td>NaN</td>\n      <td>0</td>\n    </tr>\n    <tr>\n      <th>1</th>\n      <td>1</td>\n      <td>1.055290e+11</td>\n      <td>กรรมการคนใดคนหนึ่งลงลายมือชื่อร่วมกับกรรมการอื...</td>\n      <td>11016</td>\n      <td>['นภัสกร แซ่เนี้ยว']</td>\n      <td>การทำนิติกรรม กรมทางหสวง</td>\n      <td>NaN</td>\n      <td>0</td>\n    </tr>\n    <tr>\n      <th>2</th>\n      <td>2</td>\n      <td>1.055290e+11</td>\n      <td>กรรมการคนใดคนหนึ่งลงลายมือชื่อร่วมกับกรรมการอื...</td>\n      <td>11016</td>\n      <td>['ภูวสิษฏ์ วิภาสชีวิน']</td>\n      <td>อสังหาริมทรัพย์</td>\n      <td>NaN</td>\n      <td>0</td>\n    </tr>\n    <tr>\n      <th>3</th>\n      <td>3</td>\n      <td>1.055290e+11</td>\n      <td>กรรมการคนใดคนหนึ่งลงลายมือชื่อร่วมกับกรรมการอื...</td>\n      <td>11016</td>\n      <td>['ธนันทิกานต์ ราชาเดช']</td>\n      <td>การทำนิติกรรม หน่วยราชการวิสาหกิจ</td>\n      <td>NaN</td>\n      <td>0</td>\n    </tr>\n    <tr>\n      <th>4</th>\n      <td>4</td>\n      <td>1.055290e+11</td>\n      <td>กรรมการคนใดคนหนึ่งลงลายมือชื่อร่วมกับกรรมการอื...</td>\n      <td>11016</td>\n      <td>['นรากรณ์ ดีเย็น']</td>\n      <td>อสังหาริมทรัพย์</td>\n      <td>NaN</td>\n      <td>0</td>\n    </tr>\n    <tr>\n      <th>...</th>\n      <td>...</td>\n      <td>...</td>\n      <td>...</td>\n      <td>...</td>\n      <td>...</td>\n      <td>...</td>\n      <td>...</td>\n      <td>...</td>\n    </tr>\n    <tr>\n      <th>4424</th>\n      <td>4424</td>\n      <td>1.055260e+11</td>\n      <td>นายอุกฤษฏ์ ดำแดง หรือนายฐีรชัย พรสุริยะศักดิ์ ...</td>\n      <td>20010</td>\n      <td>['อานนท์ แซ่อึ่ง', 'ฐีรชัย พรสุริยะศักดิ์', 'ธ...</td>\n      <td>ใบอนุญาตจำหน่ายสุราและจำหน่ายยาสูบ</td>\n      <td>NaN</td>\n      <td>1</td>\n    </tr>\n    <tr>\n      <th>4425</th>\n      <td>4425</td>\n      <td>1.055260e+11</td>\n      <td>นายอุกฤษฏ์ ดำแดง หรือนายฐีรชัย พรสุริยะศักดิ์ ...</td>\n      <td>20010</td>\n      <td>['อานนท์ แซ่อึ่ง', 'อุกฤษฏ์ ดำแดง', 'ธีรพล แสง...</td>\n      <td>การทำนิติกรรม กรมศุลกากร</td>\n      <td>NaN</td>\n      <td>1</td>\n    </tr>\n    <tr>\n      <th>4426</th>\n      <td>4426</td>\n      <td>1.055260e+11</td>\n      <td>นายอุกฤษฏ์ ดำแดง หรือนายฐีรชัย พรสุริยะศักดิ์ ...</td>\n      <td>20010</td>\n      <td>['อุกฤษฏ์ ดำแดง', 'ฐีรชัย พรสุริยะศักดิ์', 'ธี...</td>\n      <td>การทำนิติกรรมผูกพันส่วนงานราชการ รัฐวิสาหกิจ</td>\n      <td>NaN</td>\n      <td>0</td>\n    </tr>\n    <tr>\n      <th>4427</th>\n      <td>4427</td>\n      <td>1.055260e+11</td>\n      <td>นายอุกฤษฏ์ ดำแดง หรือนายฐีรชัย พรสุริยะศักดิ์ ...</td>\n      <td>20010</td>\n      <td>['อานนท์ แซ่อึ่ง', 'ฐีรชัย พรสุริยะศักดิ์', 'ธ...</td>\n      <td>การทำนิติกรรม การนิคมอุตสาหกรรม</td>\n      <td>NaN</td>\n      <td>1</td>\n    </tr>\n    <tr>\n      <th>4428</th>\n      <td>4428</td>\n      <td>1.055260e+11</td>\n      <td>นายอุกฤษฏ์ ดำแดง หรือนายฐีรชัย พรสุริยะศักดิ์ ...</td>\n      <td>20010</td>\n      <td>['อุกฤษฏ์ ดำแดง', 'ฐีรชัย พรสุริยะศักดิ์', 'ธี...</td>\n      <td>ใบอนุญาตจำหน่ายอาหารและเครื่องดื่ม</td>\n      <td>NaN</td>\n      <td>0</td>\n    </tr>\n  </tbody>\n</table>\n<p>4429 rows × 8 columns</p>\n</div>"
          },
          "metadata": {}
        }
      ]
    },
    {
      "cell_type": "code",
      "source": [],
      "metadata": {
        "id": "XfExulg7ui5e"
      },
      "execution_count": null,
      "outputs": []
    }
  ]
}